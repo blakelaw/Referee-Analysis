{
 "cells": [
  {
   "cell_type": "code",
   "execution_count": 68,
   "metadata": {
    "ExecuteTime": {
     "end_time": "2023-09-05T17:06:46.126991Z",
     "start_time": "2023-09-05T17:06:45.783077Z"
    }
   },
   "outputs": [],
   "source": [
    "#Imports\n",
    "import sqlite3 as sql\n",
    "import pandas as pd\n",
    "from bokeh.plotting import figure, show, output_notebook\n",
    "from bokeh.models import HoverTool, ColumnDataSource\n",
    "import xgboost as xgb\n",
    "from sklearn.model_selection import train_test_split\n",
    "import matplotlib.pyplot as plt\n",
    "import statsmodels.api as sm"
   ]
  },
  {
   "cell_type": "code",
   "execution_count": 7,
   "outputs": [
    {
     "name": "stdout",
     "output_type": "stream",
     "text": [
      "/Users/blakelaw/PycharmProjects/RefereeAnalysis\n"
     ]
    }
   ],
   "source": [
    "import os\n",
    "print(os.getcwd())"
   ],
   "metadata": {
    "collapsed": false,
    "ExecuteTime": {
     "end_time": "2023-09-05T16:37:58.637574Z",
     "start_time": "2023-09-05T16:37:58.390092Z"
    }
   }
  },
  {
   "cell_type": "code",
   "execution_count": 8,
   "metadata": {
    "ExecuteTime": {
     "end_time": "2023-09-05T16:37:58.638240Z",
     "start_time": "2023-09-05T16:37:58.392927Z"
    }
   },
   "outputs": [
    {
     "data": {
      "text/plain": "<sqlite3.Connection at 0x11e264400>"
     },
     "execution_count": 8,
     "metadata": {},
     "output_type": "execute_result"
    }
   ],
   "source": [
    "conn = sql.connect('nba.sqlite') # create connection object to database\n",
    "conn"
   ]
  },
  {
   "cell_type": "code",
   "execution_count": 9,
   "metadata": {
    "ExecuteTime": {
     "end_time": "2023-09-05T16:37:58.830244Z",
     "start_time": "2023-09-05T16:37:58.399589Z"
    }
   },
   "outputs": [],
   "source": [
    "df = pd.read_sql('select * from combined_all2', conn)"
   ]
  },
  {
   "cell_type": "code",
   "execution_count": 10,
   "metadata": {
    "ExecuteTime": {
     "end_time": "2023-09-05T16:37:59.021102Z",
     "start_time": "2023-09-05T16:37:58.828363Z"
    }
   },
   "outputs": [],
   "source": [
    "df.to_csv('df.csv')"
   ]
  },
  {
   "cell_type": "code",
   "execution_count": 11,
   "metadata": {
    "ExecuteTime": {
     "end_time": "2023-09-05T16:37:59.059262Z",
     "start_time": "2023-09-05T16:37:59.028909Z"
    }
   },
   "outputs": [],
   "source": [
    "home_games = df[['team_abbreviation_home','game_id', 'game_date', 'official_id', 'team_id_home', 'pts_home', 'first_name', 'last_name']].rename(columns={'team_abbreviation_home': 'team_abbreviation','team_id_home': 'team_id', 'pts_home': 'pts'})\n",
    "away_games = df[['team_abbreviation_away','game_id', 'game_date', 'official_id', 'team_id_away', 'pts_away','first_name', 'last_name']].rename(columns={'team_abbreviation_away': 'team_abbreviation', 'team_id_away': 'team_id', 'pts_away': 'pts'})\n"
   ]
  },
  {
   "cell_type": "code",
   "execution_count": 12,
   "metadata": {
    "ExecuteTime": {
     "end_time": "2023-09-05T16:37:59.069891Z",
     "start_time": "2023-09-05T16:37:59.061002Z"
    }
   },
   "outputs": [],
   "source": [
    "combined = pd.concat([home_games, away_games], axis=0)"
   ]
  },
  {
   "cell_type": "code",
   "execution_count": 13,
   "metadata": {
    "ExecuteTime": {
     "end_time": "2023-09-05T16:37:59.106472Z",
     "start_time": "2023-09-05T16:37:59.074075Z"
    }
   },
   "outputs": [],
   "source": [
    "grouped_df = combined.groupby(['official_id', 'team_abbreviation']).agg(avg_pts=('pts', 'mean'), num_games=('pts', 'size')).reset_index()"
   ]
  },
  {
   "cell_type": "code",
   "execution_count": 14,
   "outputs": [
    {
     "data": {
      "text/plain": "     official_id team_abbreviation     avg_pts  num_games\n0         101283               ATL  105.885246         61\n1         101283               BKN  104.575000         40\n2         101283               BOS  104.682540         63\n3         101283               CHA   97.381818         55\n4         101283               CHI  100.627119         59\n...          ...               ...         ...        ...\n2847        2882               SAS  105.885246         61\n2848        2882               SEA   91.500000         10\n2849        2882               TOR  104.353846         65\n2850        2882               UTA  101.875000         56\n2851        2882               WAS  105.348485         66\n\n[2852 rows x 4 columns]",
      "text/html": "<div>\n<style scoped>\n    .dataframe tbody tr th:only-of-type {\n        vertical-align: middle;\n    }\n\n    .dataframe tbody tr th {\n        vertical-align: top;\n    }\n\n    .dataframe thead th {\n        text-align: right;\n    }\n</style>\n<table border=\"1\" class=\"dataframe\">\n  <thead>\n    <tr style=\"text-align: right;\">\n      <th></th>\n      <th>official_id</th>\n      <th>team_abbreviation</th>\n      <th>avg_pts</th>\n      <th>num_games</th>\n    </tr>\n  </thead>\n  <tbody>\n    <tr>\n      <th>0</th>\n      <td>101283</td>\n      <td>ATL</td>\n      <td>105.885246</td>\n      <td>61</td>\n    </tr>\n    <tr>\n      <th>1</th>\n      <td>101283</td>\n      <td>BKN</td>\n      <td>104.575000</td>\n      <td>40</td>\n    </tr>\n    <tr>\n      <th>2</th>\n      <td>101283</td>\n      <td>BOS</td>\n      <td>104.682540</td>\n      <td>63</td>\n    </tr>\n    <tr>\n      <th>3</th>\n      <td>101283</td>\n      <td>CHA</td>\n      <td>97.381818</td>\n      <td>55</td>\n    </tr>\n    <tr>\n      <th>4</th>\n      <td>101283</td>\n      <td>CHI</td>\n      <td>100.627119</td>\n      <td>59</td>\n    </tr>\n    <tr>\n      <th>...</th>\n      <td>...</td>\n      <td>...</td>\n      <td>...</td>\n      <td>...</td>\n    </tr>\n    <tr>\n      <th>2847</th>\n      <td>2882</td>\n      <td>SAS</td>\n      <td>105.885246</td>\n      <td>61</td>\n    </tr>\n    <tr>\n      <th>2848</th>\n      <td>2882</td>\n      <td>SEA</td>\n      <td>91.500000</td>\n      <td>10</td>\n    </tr>\n    <tr>\n      <th>2849</th>\n      <td>2882</td>\n      <td>TOR</td>\n      <td>104.353846</td>\n      <td>65</td>\n    </tr>\n    <tr>\n      <th>2850</th>\n      <td>2882</td>\n      <td>UTA</td>\n      <td>101.875000</td>\n      <td>56</td>\n    </tr>\n    <tr>\n      <th>2851</th>\n      <td>2882</td>\n      <td>WAS</td>\n      <td>105.348485</td>\n      <td>66</td>\n    </tr>\n  </tbody>\n</table>\n<p>2852 rows × 4 columns</p>\n</div>"
     },
     "execution_count": 14,
     "metadata": {},
     "output_type": "execute_result"
    }
   ],
   "source": [
    "grouped_df"
   ],
   "metadata": {
    "collapsed": false,
    "ExecuteTime": {
     "end_time": "2023-09-05T16:37:59.126092Z",
     "start_time": "2023-09-05T16:37:59.107861Z"
    }
   }
  },
  {
   "cell_type": "code",
   "execution_count": 15,
   "metadata": {
    "ExecuteTime": {
     "end_time": "2023-09-05T16:37:59.729713Z",
     "start_time": "2023-09-05T16:37:59.128006Z"
    }
   },
   "outputs": [],
   "source": [
    "expanded_df = grouped_df.merge(combined[['official_id', 'first_name', 'last_name']], on='official_id', how='left')\n"
   ]
  },
  {
   "cell_type": "code",
   "execution_count": 16,
   "outputs": [
    {
     "data": {
      "text/plain": "        official_id team_abbreviation     avg_pts  num_games first_name  \\\n0            101283               ATL  105.885246         61      Brian   \n1            101283               ATL  105.885246         61      Brian   \n2            101283               ATL  105.885246         61      Brian   \n3            101283               ATL  105.885246         61      Brian   \n4            101283               ATL  105.885246         61      Brian   \n...             ...               ...         ...        ...        ...   \n4173351        2882               WAS  105.348485         66       Sean   \n4173352        2882               WAS  105.348485         66       Sean   \n4173353        2882               WAS  105.348485         66       Sean   \n4173354        2882               WAS  105.348485         66       Sean   \n4173355        2882               WAS  105.348485         66       Sean   \n\n        last_name  \n0           Forte  \n1           Forte  \n2           Forte  \n3           Forte  \n4           Forte  \n...           ...  \n4173351    Wright  \n4173352    Wright  \n4173353    Wright  \n4173354    Wright  \n4173355    Wright  \n\n[4173356 rows x 6 columns]",
      "text/html": "<div>\n<style scoped>\n    .dataframe tbody tr th:only-of-type {\n        vertical-align: middle;\n    }\n\n    .dataframe tbody tr th {\n        vertical-align: top;\n    }\n\n    .dataframe thead th {\n        text-align: right;\n    }\n</style>\n<table border=\"1\" class=\"dataframe\">\n  <thead>\n    <tr style=\"text-align: right;\">\n      <th></th>\n      <th>official_id</th>\n      <th>team_abbreviation</th>\n      <th>avg_pts</th>\n      <th>num_games</th>\n      <th>first_name</th>\n      <th>last_name</th>\n    </tr>\n  </thead>\n  <tbody>\n    <tr>\n      <th>0</th>\n      <td>101283</td>\n      <td>ATL</td>\n      <td>105.885246</td>\n      <td>61</td>\n      <td>Brian</td>\n      <td>Forte</td>\n    </tr>\n    <tr>\n      <th>1</th>\n      <td>101283</td>\n      <td>ATL</td>\n      <td>105.885246</td>\n      <td>61</td>\n      <td>Brian</td>\n      <td>Forte</td>\n    </tr>\n    <tr>\n      <th>2</th>\n      <td>101283</td>\n      <td>ATL</td>\n      <td>105.885246</td>\n      <td>61</td>\n      <td>Brian</td>\n      <td>Forte</td>\n    </tr>\n    <tr>\n      <th>3</th>\n      <td>101283</td>\n      <td>ATL</td>\n      <td>105.885246</td>\n      <td>61</td>\n      <td>Brian</td>\n      <td>Forte</td>\n    </tr>\n    <tr>\n      <th>4</th>\n      <td>101283</td>\n      <td>ATL</td>\n      <td>105.885246</td>\n      <td>61</td>\n      <td>Brian</td>\n      <td>Forte</td>\n    </tr>\n    <tr>\n      <th>...</th>\n      <td>...</td>\n      <td>...</td>\n      <td>...</td>\n      <td>...</td>\n      <td>...</td>\n      <td>...</td>\n    </tr>\n    <tr>\n      <th>4173351</th>\n      <td>2882</td>\n      <td>WAS</td>\n      <td>105.348485</td>\n      <td>66</td>\n      <td>Sean</td>\n      <td>Wright</td>\n    </tr>\n    <tr>\n      <th>4173352</th>\n      <td>2882</td>\n      <td>WAS</td>\n      <td>105.348485</td>\n      <td>66</td>\n      <td>Sean</td>\n      <td>Wright</td>\n    </tr>\n    <tr>\n      <th>4173353</th>\n      <td>2882</td>\n      <td>WAS</td>\n      <td>105.348485</td>\n      <td>66</td>\n      <td>Sean</td>\n      <td>Wright</td>\n    </tr>\n    <tr>\n      <th>4173354</th>\n      <td>2882</td>\n      <td>WAS</td>\n      <td>105.348485</td>\n      <td>66</td>\n      <td>Sean</td>\n      <td>Wright</td>\n    </tr>\n    <tr>\n      <th>4173355</th>\n      <td>2882</td>\n      <td>WAS</td>\n      <td>105.348485</td>\n      <td>66</td>\n      <td>Sean</td>\n      <td>Wright</td>\n    </tr>\n  </tbody>\n</table>\n<p>4173356 rows × 6 columns</p>\n</div>"
     },
     "execution_count": 16,
     "metadata": {},
     "output_type": "execute_result"
    }
   ],
   "source": [
    "expanded_df"
   ],
   "metadata": {
    "collapsed": false,
    "ExecuteTime": {
     "end_time": "2023-09-05T16:37:59.737456Z",
     "start_time": "2023-09-05T16:37:59.724416Z"
    }
   }
  },
  {
   "cell_type": "code",
   "execution_count": 17,
   "metadata": {
    "ExecuteTime": {
     "end_time": "2023-09-05T16:38:01.140029Z",
     "start_time": "2023-09-05T16:37:59.764093Z"
    }
   },
   "outputs": [],
   "source": [
    "expanded_df = expanded_df.drop_duplicates()\n",
    "expanded_df = expanded_df.rename(columns={'avg_pts': 'avg_pts_ref'})"
   ]
  },
  {
   "cell_type": "code",
   "execution_count": 18,
   "metadata": {
    "ExecuteTime": {
     "end_time": "2023-09-05T16:38:01.349456Z",
     "start_time": "2023-09-05T16:38:01.171272Z"
    }
   },
   "outputs": [],
   "source": [
    "avg = combined.groupby('team_abbreviation')['pts'].mean().reset_index()\n",
    "avg = avg.rename(columns={'pts': 'avg_score'})"
   ]
  },
  {
   "cell_type": "code",
   "execution_count": 19,
   "metadata": {
    "ExecuteTime": {
     "end_time": "2023-09-05T16:38:01.349878Z",
     "start_time": "2023-09-05T16:38:01.347710Z"
    }
   },
   "outputs": [],
   "source": [
    "expanded_df = expanded_df.merge(avg, on='team_abbreviation', how='left')\n",
    "\n",
    "# Rename the 'avg_score' column from 'new_table' to 'avg_team_score'\n",
    "expanded_df = expanded_df.rename(columns={'avg_score': 'avg_pts_team'})"
   ]
  },
  {
   "cell_type": "code",
   "execution_count": 93,
   "metadata": {
    "ExecuteTime": {
     "end_time": "2023-09-05T17:40:55.927878Z",
     "start_time": "2023-09-05T17:40:55.906316Z"
    }
   },
   "outputs": [],
   "source": [
    "expanded_df['score_difference'] = expanded_df['avg_pts_ref'] - expanded_df['avg_pts_team']\n",
    "expanded_df['abs_score_difference'] = expanded_df['score_difference'].abs()"
   ]
  },
  {
   "cell_type": "code",
   "execution_count": 92,
   "metadata": {
    "ExecuteTime": {
     "end_time": "2023-09-05T17:40:54.243506Z",
     "start_time": "2023-09-05T17:40:53.833679Z"
    }
   },
   "outputs": [],
   "source": [
    "expanded_df_30 = expanded_df[expanded_df['num_games'] > 30].reset_index()\n",
    "expanded_df_30 = expanded_df_30.sort_values(by='abs_score_difference', ascending=False)"
   ]
  },
  {
   "cell_type": "code",
   "execution_count": 56,
   "metadata": {
    "ExecuteTime": {
     "end_time": "2023-09-05T16:53:10.111412Z",
     "start_time": "2023-09-05T16:53:10.076247Z"
    }
   },
   "outputs": [
    {
     "data": {
      "text/plain": "     Team first_name  last_name            Full Name  Games  Team Average  \\\n1700  WAS  Gediminas  Petraitis  Gediminas Petraitis     33    101.944863   \n954   MIN      Aaron      Smith          Aaron Smith     31    101.570768   \n1677  LAC     Dedric     Taylor        Dedric Taylor     36    102.615403   \n1699  POR  Gediminas  Petraitis  Gediminas Petraitis     36    101.471829   \n1587  POR      Kevin      Scott          Kevin Scott     39    101.471829   \n1704  MIL      Tyler       Ford           Tyler Ford     32    102.275704   \n334   LAC      Kevin       Fehr           Kevin Fehr     42    102.615403   \n1702  IND      Tyler       Ford           Tyler Ford     34    101.374695   \n1674  SAC   Mitchell      Ervin       Mitchell Ervin     31    103.970955   \n1673  PHI   Mitchell      Ervin       Mitchell Ervin     32    100.098025   \n\n      Ref Average  Difference  Absolute Difference  \n1700   117.696970   15.752107            15.752107  \n954    115.000000   13.429232            13.429232  \n1677   115.027778   12.412375            12.412375  \n1699   113.694444   12.222615            12.222615  \n1587   112.974359   11.502530            11.502530  \n1704   112.937500   10.661796            10.661796  \n334     92.000000  -10.615403            10.615403  \n1702   111.882353   10.507658            10.507658  \n1674   114.193548   10.222593            10.222593  \n1673   110.093750    9.995725             9.995725  ",
      "text/html": "<div>\n<style scoped>\n    .dataframe tbody tr th:only-of-type {\n        vertical-align: middle;\n    }\n\n    .dataframe tbody tr th {\n        vertical-align: top;\n    }\n\n    .dataframe thead th {\n        text-align: right;\n    }\n</style>\n<table border=\"1\" class=\"dataframe\">\n  <thead>\n    <tr style=\"text-align: right;\">\n      <th></th>\n      <th>Team</th>\n      <th>first_name</th>\n      <th>last_name</th>\n      <th>Full Name</th>\n      <th>Games</th>\n      <th>Team Average</th>\n      <th>Ref Average</th>\n      <th>Difference</th>\n      <th>Absolute Difference</th>\n    </tr>\n  </thead>\n  <tbody>\n    <tr>\n      <th>1700</th>\n      <td>WAS</td>\n      <td>Gediminas</td>\n      <td>Petraitis</td>\n      <td>Gediminas Petraitis</td>\n      <td>33</td>\n      <td>101.944863</td>\n      <td>117.696970</td>\n      <td>15.752107</td>\n      <td>15.752107</td>\n    </tr>\n    <tr>\n      <th>954</th>\n      <td>MIN</td>\n      <td>Aaron</td>\n      <td>Smith</td>\n      <td>Aaron Smith</td>\n      <td>31</td>\n      <td>101.570768</td>\n      <td>115.000000</td>\n      <td>13.429232</td>\n      <td>13.429232</td>\n    </tr>\n    <tr>\n      <th>1677</th>\n      <td>LAC</td>\n      <td>Dedric</td>\n      <td>Taylor</td>\n      <td>Dedric Taylor</td>\n      <td>36</td>\n      <td>102.615403</td>\n      <td>115.027778</td>\n      <td>12.412375</td>\n      <td>12.412375</td>\n    </tr>\n    <tr>\n      <th>1699</th>\n      <td>POR</td>\n      <td>Gediminas</td>\n      <td>Petraitis</td>\n      <td>Gediminas Petraitis</td>\n      <td>36</td>\n      <td>101.471829</td>\n      <td>113.694444</td>\n      <td>12.222615</td>\n      <td>12.222615</td>\n    </tr>\n    <tr>\n      <th>1587</th>\n      <td>POR</td>\n      <td>Kevin</td>\n      <td>Scott</td>\n      <td>Kevin Scott</td>\n      <td>39</td>\n      <td>101.471829</td>\n      <td>112.974359</td>\n      <td>11.502530</td>\n      <td>11.502530</td>\n    </tr>\n    <tr>\n      <th>1704</th>\n      <td>MIL</td>\n      <td>Tyler</td>\n      <td>Ford</td>\n      <td>Tyler Ford</td>\n      <td>32</td>\n      <td>102.275704</td>\n      <td>112.937500</td>\n      <td>10.661796</td>\n      <td>10.661796</td>\n    </tr>\n    <tr>\n      <th>334</th>\n      <td>LAC</td>\n      <td>Kevin</td>\n      <td>Fehr</td>\n      <td>Kevin Fehr</td>\n      <td>42</td>\n      <td>102.615403</td>\n      <td>92.000000</td>\n      <td>-10.615403</td>\n      <td>10.615403</td>\n    </tr>\n    <tr>\n      <th>1702</th>\n      <td>IND</td>\n      <td>Tyler</td>\n      <td>Ford</td>\n      <td>Tyler Ford</td>\n      <td>34</td>\n      <td>101.374695</td>\n      <td>111.882353</td>\n      <td>10.507658</td>\n      <td>10.507658</td>\n    </tr>\n    <tr>\n      <th>1674</th>\n      <td>SAC</td>\n      <td>Mitchell</td>\n      <td>Ervin</td>\n      <td>Mitchell Ervin</td>\n      <td>31</td>\n      <td>103.970955</td>\n      <td>114.193548</td>\n      <td>10.222593</td>\n      <td>10.222593</td>\n    </tr>\n    <tr>\n      <th>1673</th>\n      <td>PHI</td>\n      <td>Mitchell</td>\n      <td>Ervin</td>\n      <td>Mitchell Ervin</td>\n      <td>32</td>\n      <td>100.098025</td>\n      <td>110.093750</td>\n      <td>9.995725</td>\n      <td>9.995725</td>\n    </tr>\n  </tbody>\n</table>\n</div>"
     },
     "execution_count": 56,
     "metadata": {},
     "output_type": "execute_result"
    }
   ],
   "source": [
    "diagram = expanded_df_30.head(10)[['team_abbreviation', 'first_name', 'last_name', 'num_games', 'avg_pts_team', 'avg_pts_ref', 'score_difference', 'abs_score_difference']]\n",
    "diagram.insert(3, 'Full Name', diagram['first_name'] + ' ' + diagram['last_name'])\n",
    "\n",
    "diagram = diagram.rename(columns={\n",
    "    'team_abbreviation': 'Team',\n",
    "    'num_games': 'Games',\n",
    "    'avg_pts_team': 'Team Average',\n",
    "    'avg_pts_ref': 'Ref Average',\n",
    "    'score_difference': 'Difference',\n",
    "    'abs_score_difference': 'Absolute Difference'\n",
    "})\n",
    "diagram"
   ]
  },
  {
   "cell_type": "code",
   "execution_count": 23,
   "metadata": {
    "ExecuteTime": {
     "end_time": "2023-09-05T16:38:01.350863Z",
     "start_time": "2023-09-05T16:38:01.348269Z"
    }
   },
   "outputs": [],
   "source": [
    "Ged_Games = combined[(combined['first_name']=='Gediminas') & (combined['team_abbreviation']=='WAS')][['game_date','pts']]\n",
    "WAS = combined[combined['team_abbreviation']=='WAS'][['game_date','pts']]\n",
    "\n",
    "Ged_Games = Ged_Games.drop_duplicates()\n",
    "WAS = WAS.drop_duplicates()\n",
    "\n",
    "WAS['game_date'] = pd.to_datetime(WAS['game_date'])\n",
    "Ged_Games['game_date'] = pd.to_datetime(Ged_Games['game_date'])"
   ]
  },
  {
   "cell_type": "code",
   "execution_count": 24,
   "metadata": {
    "ExecuteTime": {
     "end_time": "2023-09-05T16:38:01.351047Z",
     "start_time": "2023-09-05T16:38:01.348399Z"
    }
   },
   "outputs": [],
   "source": [
    "Ged_Games.to_csv('Ged_Games.csv')\n",
    "WAS.to_csv('WAS.csv')"
   ]
  },
  {
   "cell_type": "code",
   "execution_count": 25,
   "metadata": {
    "ExecuteTime": {
     "end_time": "2023-09-05T16:38:01.351207Z",
     "start_time": "2023-09-05T16:38:01.348452Z"
    }
   },
   "outputs": [],
   "source": [
    "diff = expanded_df_30['score_difference'].round().astype(int)"
   ]
  },
  {
   "cell_type": "code",
   "execution_count": 26,
   "metadata": {
    "ExecuteTime": {
     "end_time": "2023-09-05T16:38:01.379516Z",
     "start_time": "2023-09-05T16:38:01.353043Z"
    }
   },
   "outputs": [],
   "source": [
    "diff.to_csv('diff.csv')"
   ]
  },
  {
   "cell_type": "code",
   "execution_count": 27,
   "metadata": {
    "ExecuteTime": {
     "end_time": "2023-09-05T16:38:01.446624Z",
     "start_time": "2023-09-05T16:38:01.371159Z"
    }
   },
   "outputs": [],
   "source": [
    "combined['game_date'] = pd.to_datetime(combined['game_date'])\n",
    "combined['year'] = combined['game_date'].dt.year"
   ]
  },
  {
   "cell_type": "code",
   "execution_count": 28,
   "metadata": {
    "ExecuteTime": {
     "end_time": "2023-09-05T16:38:01.537562Z",
     "start_time": "2023-09-05T16:38:01.423967Z"
    }
   },
   "outputs": [],
   "source": [
    "avg2 = combined.groupby(['year', 'team_abbreviation'])['pts'].mean().reset_index()\n",
    "avg2 = avg2.rename(columns={'pts': 'avg_score'})"
   ]
  },
  {
   "cell_type": "code",
   "execution_count": 29,
   "metadata": {
    "ExecuteTime": {
     "end_time": "2023-09-05T16:38:01.568416Z",
     "start_time": "2023-09-05T16:38:01.459501Z"
    }
   },
   "outputs": [],
   "source": [
    "combined = pd.merge(combined, avg2,  how='left', left_on=['year','team_abbreviation'], right_on = ['year','team_abbreviation'])\n",
    "combined['score_diff'] = combined['pts'] - combined['avg_score']"
   ]
  },
  {
   "cell_type": "code",
   "execution_count": 30,
   "metadata": {
    "ExecuteTime": {
     "end_time": "2023-09-05T16:38:01.613100Z",
     "start_time": "2023-09-05T16:38:01.585886Z"
    }
   },
   "outputs": [],
   "source": [
    "avg_diff = combined.groupby(['official_id', 'team_abbreviation'])['score_diff'].mean().reset_index()"
   ]
  },
  {
   "cell_type": "code",
   "execution_count": 31,
   "metadata": {
    "ExecuteTime": {
     "end_time": "2023-09-05T16:38:01.704825Z",
     "start_time": "2023-09-05T16:38:01.631601Z"
    }
   },
   "outputs": [],
   "source": [
    "num_games = combined.groupby(['official_id', 'team_abbreviation']).size().reset_index(name='num_games')\n",
    "\n",
    "referee_names = combined[['official_id', 'first_name', 'last_name']].drop_duplicates()\n",
    "referee_names['referee_name'] = referee_names['first_name'] + ' ' + referee_names['last_name']\n",
    "referee_names = referee_names[['official_id', 'referee_name']].drop_duplicates()\n",
    "\n",
    "avg_diff = pd.merge(avg_diff, num_games,  how='left', on=['official_id', 'team_abbreviation'])\n",
    "avg_diff = pd.merge(avg_diff, referee_names, how='left', on='official_id')\n",
    "avg_diff['abs_score_difference'] = avg_diff['score_diff'].abs()"
   ]
  },
  {
   "cell_type": "code",
   "execution_count": 32,
   "metadata": {
    "ExecuteTime": {
     "end_time": "2023-09-05T16:38:01.720884Z",
     "start_time": "2023-09-05T16:38:01.715457Z"
    }
   },
   "outputs": [
    {
     "data": {
      "text/plain": "      team_abbreviation     game_id  game_date official_id     team_id  pts  \\\n29220               NJN  0021100360 2012-02-06      202049  1610612751   87   \n\n      first_name last_name  year  avg_score  score_diff  \n29220        Ben    Taylor  2012  93.494318   -6.494318  ",
      "text/html": "<div>\n<style scoped>\n    .dataframe tbody tr th:only-of-type {\n        vertical-align: middle;\n    }\n\n    .dataframe tbody tr th {\n        vertical-align: top;\n    }\n\n    .dataframe thead th {\n        text-align: right;\n    }\n</style>\n<table border=\"1\" class=\"dataframe\">\n  <thead>\n    <tr style=\"text-align: right;\">\n      <th></th>\n      <th>team_abbreviation</th>\n      <th>game_id</th>\n      <th>game_date</th>\n      <th>official_id</th>\n      <th>team_id</th>\n      <th>pts</th>\n      <th>first_name</th>\n      <th>last_name</th>\n      <th>year</th>\n      <th>avg_score</th>\n      <th>score_diff</th>\n    </tr>\n  </thead>\n  <tbody>\n    <tr>\n      <th>29220</th>\n      <td>NJN</td>\n      <td>0021100360</td>\n      <td>2012-02-06</td>\n      <td>202049</td>\n      <td>1610612751</td>\n      <td>87</td>\n      <td>Ben</td>\n      <td>Taylor</td>\n      <td>2012</td>\n      <td>93.494318</td>\n      <td>-6.494318</td>\n    </tr>\n  </tbody>\n</table>\n</div>"
     },
     "execution_count": 32,
     "metadata": {},
     "output_type": "execute_result"
    }
   ],
   "source": [
    "combined[(combined['team_abbreviation'] == 'NJN') & (combined['official_id'] == '202049')]"
   ]
  },
  {
   "cell_type": "code",
   "execution_count": 33,
   "outputs": [
    {
     "data": {
      "text/plain": "     official_id team_abbreviation  score_diff  num_games referee_name  \\\n0         101283               ATL    0.164631         61  Brian Forte   \n1         101283               BKN   -0.919404         40  Brian Forte   \n2         101283               BOS   -0.895299         63  Brian Forte   \n3         101283               CHA   -2.453807         55  Brian Forte   \n4         101283               CHI   -1.350248         59  Brian Forte   \n...          ...               ...         ...        ...          ...   \n2847        2882               SAS    1.309160         61  Sean Wright   \n2848        2882               SEA   -6.851104         10  Sean Wright   \n2849        2882               TOR    1.346268         65  Sean Wright   \n2850        2882               UTA   -0.349890         56  Sean Wright   \n2851        2882               WAS    1.651958         66  Sean Wright   \n\n      abs_score_difference  \n0                 0.164631  \n1                 0.919404  \n2                 0.895299  \n3                 2.453807  \n4                 1.350248  \n...                    ...  \n2847              1.309160  \n2848              6.851104  \n2849              1.346268  \n2850              0.349890  \n2851              1.651958  \n\n[2852 rows x 6 columns]",
      "text/html": "<div>\n<style scoped>\n    .dataframe tbody tr th:only-of-type {\n        vertical-align: middle;\n    }\n\n    .dataframe tbody tr th {\n        vertical-align: top;\n    }\n\n    .dataframe thead th {\n        text-align: right;\n    }\n</style>\n<table border=\"1\" class=\"dataframe\">\n  <thead>\n    <tr style=\"text-align: right;\">\n      <th></th>\n      <th>official_id</th>\n      <th>team_abbreviation</th>\n      <th>score_diff</th>\n      <th>num_games</th>\n      <th>referee_name</th>\n      <th>abs_score_difference</th>\n    </tr>\n  </thead>\n  <tbody>\n    <tr>\n      <th>0</th>\n      <td>101283</td>\n      <td>ATL</td>\n      <td>0.164631</td>\n      <td>61</td>\n      <td>Brian Forte</td>\n      <td>0.164631</td>\n    </tr>\n    <tr>\n      <th>1</th>\n      <td>101283</td>\n      <td>BKN</td>\n      <td>-0.919404</td>\n      <td>40</td>\n      <td>Brian Forte</td>\n      <td>0.919404</td>\n    </tr>\n    <tr>\n      <th>2</th>\n      <td>101283</td>\n      <td>BOS</td>\n      <td>-0.895299</td>\n      <td>63</td>\n      <td>Brian Forte</td>\n      <td>0.895299</td>\n    </tr>\n    <tr>\n      <th>3</th>\n      <td>101283</td>\n      <td>CHA</td>\n      <td>-2.453807</td>\n      <td>55</td>\n      <td>Brian Forte</td>\n      <td>2.453807</td>\n    </tr>\n    <tr>\n      <th>4</th>\n      <td>101283</td>\n      <td>CHI</td>\n      <td>-1.350248</td>\n      <td>59</td>\n      <td>Brian Forte</td>\n      <td>1.350248</td>\n    </tr>\n    <tr>\n      <th>...</th>\n      <td>...</td>\n      <td>...</td>\n      <td>...</td>\n      <td>...</td>\n      <td>...</td>\n      <td>...</td>\n    </tr>\n    <tr>\n      <th>2847</th>\n      <td>2882</td>\n      <td>SAS</td>\n      <td>1.309160</td>\n      <td>61</td>\n      <td>Sean Wright</td>\n      <td>1.309160</td>\n    </tr>\n    <tr>\n      <th>2848</th>\n      <td>2882</td>\n      <td>SEA</td>\n      <td>-6.851104</td>\n      <td>10</td>\n      <td>Sean Wright</td>\n      <td>6.851104</td>\n    </tr>\n    <tr>\n      <th>2849</th>\n      <td>2882</td>\n      <td>TOR</td>\n      <td>1.346268</td>\n      <td>65</td>\n      <td>Sean Wright</td>\n      <td>1.346268</td>\n    </tr>\n    <tr>\n      <th>2850</th>\n      <td>2882</td>\n      <td>UTA</td>\n      <td>-0.349890</td>\n      <td>56</td>\n      <td>Sean Wright</td>\n      <td>0.349890</td>\n    </tr>\n    <tr>\n      <th>2851</th>\n      <td>2882</td>\n      <td>WAS</td>\n      <td>1.651958</td>\n      <td>66</td>\n      <td>Sean Wright</td>\n      <td>1.651958</td>\n    </tr>\n  </tbody>\n</table>\n<p>2852 rows × 6 columns</p>\n</div>"
     },
     "execution_count": 33,
     "metadata": {},
     "output_type": "execute_result"
    }
   ],
   "source": [
    "avg_diff"
   ],
   "metadata": {
    "collapsed": false,
    "ExecuteTime": {
     "end_time": "2023-09-05T16:38:01.725605Z",
     "start_time": "2023-09-05T16:38:01.720671Z"
    }
   }
  },
  {
   "cell_type": "code",
   "execution_count": 34,
   "outputs": [],
   "source": [
    "avg_diff_30 = avg_diff[avg_diff['num_games'] > 30]\n",
    "avg_diff_30 = avg_diff_30.sort_values(by='abs_score_difference', ascending=False)"
   ],
   "metadata": {
    "collapsed": false,
    "ExecuteTime": {
     "end_time": "2023-09-05T16:38:01.744734Z",
     "start_time": "2023-09-05T16:38:01.726296Z"
    }
   }
  },
  {
   "cell_type": "code",
   "execution_count": 35,
   "metadata": {
    "ExecuteTime": {
     "end_time": "2023-09-05T16:38:01.783766Z",
     "start_time": "2023-09-05T16:38:01.731146Z"
    }
   },
   "outputs": [
    {
     "data": {
      "text/plain": "     official_id team_abbreviation  score_diff  num_games  \\\n2536        2148               NYK    7.457746         49   \n2483      204058               WAS    6.929190         33   \n2232      202041               POR    5.955241         39   \n1206        1200               LAL    5.938039         35   \n206         1150               BOS    5.602471         32   \n...          ...               ...         ...        ...   \n1457        1662               CHA    0.005276         69   \n512         1162               CLE    0.003255         81   \n636         1167               PHX   -0.002485         36   \n671         1168               PHI    0.001987         51   \n1502        1664               LAL   -0.001009         71   \n\n             referee_name  abs_score_difference  \n2536          Mark Ayotte              7.457746  \n2483  Gediminas Petraitis              6.929190  \n2232          Kevin Scott              5.955241  \n1206         Greg Willard              5.938039  \n206           Jimmy Clark              5.602471  \n...                   ...                   ...  \n1457         Bill Kennedy              0.005276  \n512          Scott Foster              0.003255  \n636           Steve Javie              0.002485  \n671           David Jones              0.001987  \n1502       Gary Zielinski              0.001009  \n\n[1980 rows x 6 columns]",
      "text/html": "<div>\n<style scoped>\n    .dataframe tbody tr th:only-of-type {\n        vertical-align: middle;\n    }\n\n    .dataframe tbody tr th {\n        vertical-align: top;\n    }\n\n    .dataframe thead th {\n        text-align: right;\n    }\n</style>\n<table border=\"1\" class=\"dataframe\">\n  <thead>\n    <tr style=\"text-align: right;\">\n      <th></th>\n      <th>official_id</th>\n      <th>team_abbreviation</th>\n      <th>score_diff</th>\n      <th>num_games</th>\n      <th>referee_name</th>\n      <th>abs_score_difference</th>\n    </tr>\n  </thead>\n  <tbody>\n    <tr>\n      <th>2536</th>\n      <td>2148</td>\n      <td>NYK</td>\n      <td>7.457746</td>\n      <td>49</td>\n      <td>Mark Ayotte</td>\n      <td>7.457746</td>\n    </tr>\n    <tr>\n      <th>2483</th>\n      <td>204058</td>\n      <td>WAS</td>\n      <td>6.929190</td>\n      <td>33</td>\n      <td>Gediminas Petraitis</td>\n      <td>6.929190</td>\n    </tr>\n    <tr>\n      <th>2232</th>\n      <td>202041</td>\n      <td>POR</td>\n      <td>5.955241</td>\n      <td>39</td>\n      <td>Kevin Scott</td>\n      <td>5.955241</td>\n    </tr>\n    <tr>\n      <th>1206</th>\n      <td>1200</td>\n      <td>LAL</td>\n      <td>5.938039</td>\n      <td>35</td>\n      <td>Greg Willard</td>\n      <td>5.938039</td>\n    </tr>\n    <tr>\n      <th>206</th>\n      <td>1150</td>\n      <td>BOS</td>\n      <td>5.602471</td>\n      <td>32</td>\n      <td>Jimmy Clark</td>\n      <td>5.602471</td>\n    </tr>\n    <tr>\n      <th>...</th>\n      <td>...</td>\n      <td>...</td>\n      <td>...</td>\n      <td>...</td>\n      <td>...</td>\n      <td>...</td>\n    </tr>\n    <tr>\n      <th>1457</th>\n      <td>1662</td>\n      <td>CHA</td>\n      <td>0.005276</td>\n      <td>69</td>\n      <td>Bill Kennedy</td>\n      <td>0.005276</td>\n    </tr>\n    <tr>\n      <th>512</th>\n      <td>1162</td>\n      <td>CLE</td>\n      <td>0.003255</td>\n      <td>81</td>\n      <td>Scott Foster</td>\n      <td>0.003255</td>\n    </tr>\n    <tr>\n      <th>636</th>\n      <td>1167</td>\n      <td>PHX</td>\n      <td>-0.002485</td>\n      <td>36</td>\n      <td>Steve Javie</td>\n      <td>0.002485</td>\n    </tr>\n    <tr>\n      <th>671</th>\n      <td>1168</td>\n      <td>PHI</td>\n      <td>0.001987</td>\n      <td>51</td>\n      <td>David Jones</td>\n      <td>0.001987</td>\n    </tr>\n    <tr>\n      <th>1502</th>\n      <td>1664</td>\n      <td>LAL</td>\n      <td>-0.001009</td>\n      <td>71</td>\n      <td>Gary Zielinski</td>\n      <td>0.001009</td>\n    </tr>\n  </tbody>\n</table>\n<p>1980 rows × 6 columns</p>\n</div>"
     },
     "execution_count": 35,
     "metadata": {},
     "output_type": "execute_result"
    }
   ],
   "source": [
    "avg_diff_30"
   ]
  },
  {
   "cell_type": "code",
   "execution_count": 36,
   "outputs": [
    {
     "data": {
      "text/plain": "     Team         referee_name  Games  Difference  Absolute Difference\n2536  NYK          Mark Ayotte     49    7.457746             7.457746\n2483  WAS  Gediminas Petraitis     33    6.929190             6.929190\n2232  POR          Kevin Scott     39    5.955241             5.955241\n1206  LAL         Greg Willard     35    5.938039             5.938039\n206   BOS          Jimmy Clark     32    5.602471             5.602471\n644   WAS          Steve Javie     31   -5.506602             5.506602\n2222  MIL          Kevin Scott     43    5.454770             5.454770\n617   DAL          Steve Javie     38   -5.255949             5.255949\n2765  LAL        Olandis Poole     32    5.251950             5.251950\n2293  ORL      Scott Twardoski     37   -5.110032             5.110032",
      "text/html": "<div>\n<style scoped>\n    .dataframe tbody tr th:only-of-type {\n        vertical-align: middle;\n    }\n\n    .dataframe tbody tr th {\n        vertical-align: top;\n    }\n\n    .dataframe thead th {\n        text-align: right;\n    }\n</style>\n<table border=\"1\" class=\"dataframe\">\n  <thead>\n    <tr style=\"text-align: right;\">\n      <th></th>\n      <th>Team</th>\n      <th>referee_name</th>\n      <th>Games</th>\n      <th>Difference</th>\n      <th>Absolute Difference</th>\n    </tr>\n  </thead>\n  <tbody>\n    <tr>\n      <th>2536</th>\n      <td>NYK</td>\n      <td>Mark Ayotte</td>\n      <td>49</td>\n      <td>7.457746</td>\n      <td>7.457746</td>\n    </tr>\n    <tr>\n      <th>2483</th>\n      <td>WAS</td>\n      <td>Gediminas Petraitis</td>\n      <td>33</td>\n      <td>6.929190</td>\n      <td>6.929190</td>\n    </tr>\n    <tr>\n      <th>2232</th>\n      <td>POR</td>\n      <td>Kevin Scott</td>\n      <td>39</td>\n      <td>5.955241</td>\n      <td>5.955241</td>\n    </tr>\n    <tr>\n      <th>1206</th>\n      <td>LAL</td>\n      <td>Greg Willard</td>\n      <td>35</td>\n      <td>5.938039</td>\n      <td>5.938039</td>\n    </tr>\n    <tr>\n      <th>206</th>\n      <td>BOS</td>\n      <td>Jimmy Clark</td>\n      <td>32</td>\n      <td>5.602471</td>\n      <td>5.602471</td>\n    </tr>\n    <tr>\n      <th>644</th>\n      <td>WAS</td>\n      <td>Steve Javie</td>\n      <td>31</td>\n      <td>-5.506602</td>\n      <td>5.506602</td>\n    </tr>\n    <tr>\n      <th>2222</th>\n      <td>MIL</td>\n      <td>Kevin Scott</td>\n      <td>43</td>\n      <td>5.454770</td>\n      <td>5.454770</td>\n    </tr>\n    <tr>\n      <th>617</th>\n      <td>DAL</td>\n      <td>Steve Javie</td>\n      <td>38</td>\n      <td>-5.255949</td>\n      <td>5.255949</td>\n    </tr>\n    <tr>\n      <th>2765</th>\n      <td>LAL</td>\n      <td>Olandis Poole</td>\n      <td>32</td>\n      <td>5.251950</td>\n      <td>5.251950</td>\n    </tr>\n    <tr>\n      <th>2293</th>\n      <td>ORL</td>\n      <td>Scott Twardoski</td>\n      <td>37</td>\n      <td>-5.110032</td>\n      <td>5.110032</td>\n    </tr>\n  </tbody>\n</table>\n</div>"
     },
     "execution_count": 36,
     "metadata": {},
     "output_type": "execute_result"
    }
   ],
   "source": [
    "\n",
    "diagram2 = avg_diff_30.head(10)[['team_abbreviation', 'referee_name', 'num_games', 'score_diff', 'abs_score_difference']]\n",
    "\n",
    "diagram2 = diagram2.rename(columns={\n",
    "    'team_abbreviation': 'Team',\n",
    "    'num_games': 'Games',\n",
    "    'score_diff': 'Difference',\n",
    "    'abs_score_difference': 'Absolute Difference'\n",
    "})\n",
    "diagram2"
   ],
   "metadata": {
    "collapsed": false,
    "ExecuteTime": {
     "end_time": "2023-09-05T16:38:01.813460Z",
     "start_time": "2023-09-05T16:38:01.745201Z"
    }
   }
  },
  {
   "cell_type": "code",
   "execution_count": 37,
   "outputs": [],
   "source": [
    "diagram2.to_csv('diagram2.csv')"
   ],
   "metadata": {
    "collapsed": false,
    "ExecuteTime": {
     "end_time": "2023-09-05T16:38:01.813806Z",
     "start_time": "2023-09-05T16:38:01.749249Z"
    }
   }
  },
  {
   "cell_type": "code",
   "execution_count": 38,
   "outputs": [],
   "source": [
    "Ayotte_Games = combined[(combined['first_name']=='Mark') & (combined['last_name']=='Ayotte') & ((combined['team_abbreviation']=='NYK'))][['game_date','pts']]\n",
    "NYK = combined[combined['team_abbreviation']=='NYK'][['game_date','pts']]\n",
    "\n",
    "Ayotte_Games = Ayotte_Games.drop_duplicates()\n",
    "NYK = NYK.drop_duplicates()\n",
    "\n",
    "NYK['game_date'] = pd.to_datetime(NYK['game_date'])\n",
    "Ayotte_Games['game_date'] = pd.to_datetime(Ayotte_Games['game_date'])"
   ],
   "metadata": {
    "collapsed": false,
    "ExecuteTime": {
     "end_time": "2023-09-05T16:38:01.872485Z",
     "start_time": "2023-09-05T16:38:01.769426Z"
    }
   }
  },
  {
   "cell_type": "code",
   "execution_count": 39,
   "outputs": [],
   "source": [
    "Ayotte_Games.to_csv('Ayotte_Games.csv')\n",
    "NYK.to_csv('NYK.csv')"
   ],
   "metadata": {
    "collapsed": false,
    "ExecuteTime": {
     "end_time": "2023-09-05T16:38:01.872783Z",
     "start_time": "2023-09-05T16:38:01.801597Z"
    }
   }
  },
  {
   "cell_type": "code",
   "execution_count": 40,
   "outputs": [
    {
     "data": {
      "text/plain": "Empty DataFrame\nColumns: [game_date, pts, official_id, first_name, last_name]\nIndex: []",
      "text/html": "<div>\n<style scoped>\n    .dataframe tbody tr th:only-of-type {\n        vertical-align: middle;\n    }\n\n    .dataframe tbody tr th {\n        vertical-align: top;\n    }\n\n    .dataframe thead th {\n        text-align: right;\n    }\n</style>\n<table border=\"1\" class=\"dataframe\">\n  <thead>\n    <tr style=\"text-align: right;\">\n      <th></th>\n      <th>game_date</th>\n      <th>pts</th>\n      <th>official_id</th>\n      <th>first_name</th>\n      <th>last_name</th>\n    </tr>\n  </thead>\n  <tbody>\n  </tbody>\n</table>\n</div>"
     },
     "execution_count": 40,
     "metadata": {},
     "output_type": "execute_result"
    }
   ],
   "source": [
    "H = combined[(combined['last_name']=='Haskill')][['game_date','pts','official_id','first_name','last_name']]\n",
    "H"
   ],
   "metadata": {
    "collapsed": false,
    "ExecuteTime": {
     "end_time": "2023-09-05T16:38:01.872985Z",
     "start_time": "2023-09-05T16:38:01.806984Z"
    }
   }
  },
  {
   "cell_type": "code",
   "execution_count": 41,
   "outputs": [],
   "source": [
    "# Load the data\n",
    "data = pd.read_csv('combined_all3.csv')"
   ],
   "metadata": {
    "collapsed": false,
    "ExecuteTime": {
     "end_time": "2023-09-05T16:38:01.963065Z",
     "start_time": "2023-09-05T16:38:01.811009Z"
    }
   }
  },
  {
   "cell_type": "code",
   "execution_count": 42,
   "outputs": [],
   "source": [
    "# List of columns that contain statistics\n",
    "stats_columns = ['fgm', 'fg_pct', 'fg3m', 'fg3_pct', 'ftm', 'ft_pct', 'oreb', 'dreb', 'reb', 'ast', 'stl', 'blk', 'tov', 'pf', 'pts']\n",
    "\n",
    "# Group by referee and aggregate the original data\n",
    "aggregated_raw_data = data.groupby(['first_name', 'last_name', 'official_id']).agg({**{col: 'mean' for col in stats_columns}, 'game_date': 'count'}).reset_index()\n",
    "aggregated_raw_data = aggregated_raw_data.rename(columns={'game_date': 'num_games'})"
   ],
   "metadata": {
    "collapsed": false,
    "ExecuteTime": {
     "end_time": "2023-09-05T16:38:01.997548Z",
     "start_time": "2023-09-05T16:38:01.948030Z"
    }
   }
  },
  {
   "cell_type": "code",
   "execution_count": 94,
   "outputs": [
    {
     "data": {
      "text/plain": "    first_name     last_name  official_id       fgm    fg_pct      fg3m  \\\n0        Aaron         Smith      1626302  1.103713  0.554498  1.157707   \n1         Andy          Nagy      1627534  1.330008  0.824532  1.425564   \n2      Anthony        Jordan         1169 -1.283641 -0.406151 -1.056304   \n3       Ashley  Moyer-Gleich      1628953  1.209105  0.796958  1.246974   \n4          Ben        Taylor       202049  0.736069  0.546996  0.730909   \n..         ...           ...          ...       ...       ...       ...   \n151      Tyler     Mirkovich      1628482  1.262052  0.921703  1.443317   \n152      Tyler         Ricks      1627539  0.879782  0.131047  1.196550   \n153     Violet        Palmer         1185 -0.732487 -0.256242 -0.722315   \n154   Vladimir  Voyard-Tadal      1626303 -0.095281 -0.590985  0.121349   \n155       Zach         Zarba         2534 -0.044127  0.120184 -0.062590   \n\n      fg3_pct       ftm    ft_pct      oreb      dreb       reb       ast  \\\n0    0.438085 -0.604474  0.538783 -0.677941  1.063408  0.818543  1.001495   \n1    0.492457 -0.751356  0.846816 -0.821212  1.101960  0.773746  1.463752   \n2    0.612911  0.466667 -0.282908  0.493510 -1.485143 -1.427578 -0.901921   \n3    0.512557 -0.397034  0.557060 -1.035472  1.152188  0.698066  1.270182   \n4    0.253331 -0.099560  0.271658 -0.659568  0.639735  0.334486  0.686358   \n..        ...       ...       ...       ...       ...       ...       ...   \n151 -0.067036  1.482349  1.312669  0.168107  0.454019  0.636557  1.175541   \n152  0.078322 -1.974824  0.904151 -0.790747  1.338366  1.069392  0.741574   \n153  0.201641  0.511215 -0.078919  0.237400 -0.735804 -0.711743 -0.699124   \n154 -0.536964 -0.004015  0.128695 -1.328746  0.454019 -0.302614 -0.349543   \n155  0.226209 -0.088893  0.055940 -0.171355 -0.134680 -0.265053 -0.044708   \n\n          stl       blk       tov        pf       pts  num_games  \n0    0.313313 -0.221519 -0.390779 -1.065423  1.047605        648  \n1    0.137684 -0.010953 -0.577065 -1.254852  1.269774        278  \n2    0.442444 -0.270781  0.753860  0.702617 -1.152071        320  \n3    0.356645 -0.028732 -0.005837 -0.808327  1.196249        316  \n4   -0.063244 -0.407803 -0.160279 -0.109393  0.747505       1006  \n..        ...       ...       ...       ...       ...        ...  \n151 -0.043906 -1.310828  0.165576  0.736642  1.715212         16  \n152  1.343322  0.039646 -1.131854 -2.306165  0.623592         30  \n153 -0.168627  0.182904  0.300401  0.528843 -0.652903       1236  \n154 -0.413286 -1.446781 -0.796397  0.104749 -0.013087          8  \n155 -0.313755 -0.206618 -0.522063 -0.028031 -0.072872       2296  \n\n[156 rows x 19 columns]",
      "text/html": "<div>\n<style scoped>\n    .dataframe tbody tr th:only-of-type {\n        vertical-align: middle;\n    }\n\n    .dataframe tbody tr th {\n        vertical-align: top;\n    }\n\n    .dataframe thead th {\n        text-align: right;\n    }\n</style>\n<table border=\"1\" class=\"dataframe\">\n  <thead>\n    <tr style=\"text-align: right;\">\n      <th></th>\n      <th>first_name</th>\n      <th>last_name</th>\n      <th>official_id</th>\n      <th>fgm</th>\n      <th>fg_pct</th>\n      <th>fg3m</th>\n      <th>fg3_pct</th>\n      <th>ftm</th>\n      <th>ft_pct</th>\n      <th>oreb</th>\n      <th>dreb</th>\n      <th>reb</th>\n      <th>ast</th>\n      <th>stl</th>\n      <th>blk</th>\n      <th>tov</th>\n      <th>pf</th>\n      <th>pts</th>\n      <th>num_games</th>\n    </tr>\n  </thead>\n  <tbody>\n    <tr>\n      <th>0</th>\n      <td>Aaron</td>\n      <td>Smith</td>\n      <td>1626302</td>\n      <td>1.103713</td>\n      <td>0.554498</td>\n      <td>1.157707</td>\n      <td>0.438085</td>\n      <td>-0.604474</td>\n      <td>0.538783</td>\n      <td>-0.677941</td>\n      <td>1.063408</td>\n      <td>0.818543</td>\n      <td>1.001495</td>\n      <td>0.313313</td>\n      <td>-0.221519</td>\n      <td>-0.390779</td>\n      <td>-1.065423</td>\n      <td>1.047605</td>\n      <td>648</td>\n    </tr>\n    <tr>\n      <th>1</th>\n      <td>Andy</td>\n      <td>Nagy</td>\n      <td>1627534</td>\n      <td>1.330008</td>\n      <td>0.824532</td>\n      <td>1.425564</td>\n      <td>0.492457</td>\n      <td>-0.751356</td>\n      <td>0.846816</td>\n      <td>-0.821212</td>\n      <td>1.101960</td>\n      <td>0.773746</td>\n      <td>1.463752</td>\n      <td>0.137684</td>\n      <td>-0.010953</td>\n      <td>-0.577065</td>\n      <td>-1.254852</td>\n      <td>1.269774</td>\n      <td>278</td>\n    </tr>\n    <tr>\n      <th>2</th>\n      <td>Anthony</td>\n      <td>Jordan</td>\n      <td>1169</td>\n      <td>-1.283641</td>\n      <td>-0.406151</td>\n      <td>-1.056304</td>\n      <td>0.612911</td>\n      <td>0.466667</td>\n      <td>-0.282908</td>\n      <td>0.493510</td>\n      <td>-1.485143</td>\n      <td>-1.427578</td>\n      <td>-0.901921</td>\n      <td>0.442444</td>\n      <td>-0.270781</td>\n      <td>0.753860</td>\n      <td>0.702617</td>\n      <td>-1.152071</td>\n      <td>320</td>\n    </tr>\n    <tr>\n      <th>3</th>\n      <td>Ashley</td>\n      <td>Moyer-Gleich</td>\n      <td>1628953</td>\n      <td>1.209105</td>\n      <td>0.796958</td>\n      <td>1.246974</td>\n      <td>0.512557</td>\n      <td>-0.397034</td>\n      <td>0.557060</td>\n      <td>-1.035472</td>\n      <td>1.152188</td>\n      <td>0.698066</td>\n      <td>1.270182</td>\n      <td>0.356645</td>\n      <td>-0.028732</td>\n      <td>-0.005837</td>\n      <td>-0.808327</td>\n      <td>1.196249</td>\n      <td>316</td>\n    </tr>\n    <tr>\n      <th>4</th>\n      <td>Ben</td>\n      <td>Taylor</td>\n      <td>202049</td>\n      <td>0.736069</td>\n      <td>0.546996</td>\n      <td>0.730909</td>\n      <td>0.253331</td>\n      <td>-0.099560</td>\n      <td>0.271658</td>\n      <td>-0.659568</td>\n      <td>0.639735</td>\n      <td>0.334486</td>\n      <td>0.686358</td>\n      <td>-0.063244</td>\n      <td>-0.407803</td>\n      <td>-0.160279</td>\n      <td>-0.109393</td>\n      <td>0.747505</td>\n      <td>1006</td>\n    </tr>\n    <tr>\n      <th>...</th>\n      <td>...</td>\n      <td>...</td>\n      <td>...</td>\n      <td>...</td>\n      <td>...</td>\n      <td>...</td>\n      <td>...</td>\n      <td>...</td>\n      <td>...</td>\n      <td>...</td>\n      <td>...</td>\n      <td>...</td>\n      <td>...</td>\n      <td>...</td>\n      <td>...</td>\n      <td>...</td>\n      <td>...</td>\n      <td>...</td>\n      <td>...</td>\n    </tr>\n    <tr>\n      <th>151</th>\n      <td>Tyler</td>\n      <td>Mirkovich</td>\n      <td>1628482</td>\n      <td>1.262052</td>\n      <td>0.921703</td>\n      <td>1.443317</td>\n      <td>-0.067036</td>\n      <td>1.482349</td>\n      <td>1.312669</td>\n      <td>0.168107</td>\n      <td>0.454019</td>\n      <td>0.636557</td>\n      <td>1.175541</td>\n      <td>-0.043906</td>\n      <td>-1.310828</td>\n      <td>0.165576</td>\n      <td>0.736642</td>\n      <td>1.715212</td>\n      <td>16</td>\n    </tr>\n    <tr>\n      <th>152</th>\n      <td>Tyler</td>\n      <td>Ricks</td>\n      <td>1627539</td>\n      <td>0.879782</td>\n      <td>0.131047</td>\n      <td>1.196550</td>\n      <td>0.078322</td>\n      <td>-1.974824</td>\n      <td>0.904151</td>\n      <td>-0.790747</td>\n      <td>1.338366</td>\n      <td>1.069392</td>\n      <td>0.741574</td>\n      <td>1.343322</td>\n      <td>0.039646</td>\n      <td>-1.131854</td>\n      <td>-2.306165</td>\n      <td>0.623592</td>\n      <td>30</td>\n    </tr>\n    <tr>\n      <th>153</th>\n      <td>Violet</td>\n      <td>Palmer</td>\n      <td>1185</td>\n      <td>-0.732487</td>\n      <td>-0.256242</td>\n      <td>-0.722315</td>\n      <td>0.201641</td>\n      <td>0.511215</td>\n      <td>-0.078919</td>\n      <td>0.237400</td>\n      <td>-0.735804</td>\n      <td>-0.711743</td>\n      <td>-0.699124</td>\n      <td>-0.168627</td>\n      <td>0.182904</td>\n      <td>0.300401</td>\n      <td>0.528843</td>\n      <td>-0.652903</td>\n      <td>1236</td>\n    </tr>\n    <tr>\n      <th>154</th>\n      <td>Vladimir</td>\n      <td>Voyard-Tadal</td>\n      <td>1626303</td>\n      <td>-0.095281</td>\n      <td>-0.590985</td>\n      <td>0.121349</td>\n      <td>-0.536964</td>\n      <td>-0.004015</td>\n      <td>0.128695</td>\n      <td>-1.328746</td>\n      <td>0.454019</td>\n      <td>-0.302614</td>\n      <td>-0.349543</td>\n      <td>-0.413286</td>\n      <td>-1.446781</td>\n      <td>-0.796397</td>\n      <td>0.104749</td>\n      <td>-0.013087</td>\n      <td>8</td>\n    </tr>\n    <tr>\n      <th>155</th>\n      <td>Zach</td>\n      <td>Zarba</td>\n      <td>2534</td>\n      <td>-0.044127</td>\n      <td>0.120184</td>\n      <td>-0.062590</td>\n      <td>0.226209</td>\n      <td>-0.088893</td>\n      <td>0.055940</td>\n      <td>-0.171355</td>\n      <td>-0.134680</td>\n      <td>-0.265053</td>\n      <td>-0.044708</td>\n      <td>-0.313755</td>\n      <td>-0.206618</td>\n      <td>-0.522063</td>\n      <td>-0.028031</td>\n      <td>-0.072872</td>\n      <td>2296</td>\n    </tr>\n  </tbody>\n</table>\n<p>156 rows × 19 columns</p>\n</div>"
     },
     "execution_count": 94,
     "metadata": {},
     "output_type": "execute_result"
    }
   ],
   "source": [
    "aggregated_raw_data"
   ],
   "metadata": {
    "collapsed": false,
    "ExecuteTime": {
     "end_time": "2023-09-05T17:42:42.305110Z",
     "start_time": "2023-09-05T17:42:42.292408Z"
    }
   }
  },
  {
   "cell_type": "code",
   "execution_count": 44,
   "outputs": [],
   "source": [
    "# Normalize the aggregated data\n",
    "aggregated_raw_data[stats_columns] = (aggregated_raw_data[stats_columns] - aggregated_raw_data[stats_columns].mean()) / aggregated_raw_data[stats_columns].std()\n",
    "\n",
    "# Create a dataframe for means and standard deviations\n",
    "means = data[stats_columns].mean()\n",
    "stds = data[stats_columns].std()\n",
    "mean_std_df = pd.DataFrame({\n",
    "    'first_name': ['MEAN', 'STD_DEV'],\n",
    "    'last_name': ['', ''],\n",
    "    'official_id': ['', ''],\n",
    "    **{col: [means[col], stds[col]] for col in stats_columns},\n",
    "    'num_games': ['', '']\n",
    "})\n",
    "\n",
    "# Concatenate the mean_std_df with the aggregated raw data to create the final table\n",
    "final_table_corrected = pd.concat([mean_std_df, aggregated_raw_data], ignore_index=True)\n",
    "# Split the dataframe\n",
    "top_rows = final_table_corrected.iloc[:2]\n",
    "remaining_rows = final_table_corrected.iloc[2:]\n",
    "\n",
    "sorted_remaining_rows = remaining_rows.sort_values(by='num_games', ascending=False).reset_index(drop=True)\n",
    "\n",
    "final_table_sorted = pd.concat([top_rows, sorted_remaining_rows], ignore_index=True)"
   ],
   "metadata": {
    "collapsed": false,
    "ExecuteTime": {
     "end_time": "2023-09-05T16:38:02.052254Z",
     "start_time": "2023-09-05T16:38:01.983580Z"
    }
   }
  },
  {
   "cell_type": "code",
   "execution_count": 45,
   "outputs": [
    {
     "data": {
      "text/plain": "['fgm',\n 'fg_pct',\n 'fg3m',\n 'fg3_pct',\n 'ftm',\n 'ft_pct',\n 'oreb',\n 'dreb',\n 'reb',\n 'ast',\n 'stl',\n 'blk',\n 'tov',\n 'pf',\n 'pts']"
     },
     "execution_count": 45,
     "metadata": {},
     "output_type": "execute_result"
    }
   ],
   "source": [
    "stats_columns"
   ],
   "metadata": {
    "collapsed": false,
    "ExecuteTime": {
     "end_time": "2023-09-05T16:38:02.052936Z",
     "start_time": "2023-09-05T16:38:02.012890Z"
    }
   }
  },
  {
   "cell_type": "code",
   "execution_count": 46,
   "outputs": [
    {
     "data": {
      "text/plain": "                 game_date team_abbrevation  official_id first_name  \\\n9      1996-11-19 00:00:00              ORL         1144        Ted   \n37     1997-02-21 00:00:00              LAL         1144        Ted   \n193    1999-12-15 00:00:00              VAN         1144        Ted   \n223    2000-04-02 00:00:00              LAL         1144        Ted   \n244    2000-11-11 00:00:00              IND         1144        Ted   \n...                    ...              ...          ...        ...   \n74522  2005-11-02 00:00:00              GSW         1144        Ted   \n74552  2005-11-04 00:00:00              DEN         1144        Ted   \n74609  2005-11-06 00:00:00              PHX         1144        Ted   \n74652  2005-11-09 00:00:00              IND         1144        Ted   \n74705  2005-11-11 00:00:00              BOS         1144        Ted   \n\n       last_name  fgm  fg_pct  fg3m  fg3_pct  ftm  ft_pct  oreb  dreb  reb  \\\n9      Bernhardt   27   0.355     6    0.333   28   0.757     7    24   31   \n37     Bernhardt   37   0.514     9    0.450   16   0.667    10    30   40   \n193    Bernhardt   37   0.430     6    0.400   26   0.743    12    43   55   \n223    Bernhardt   39   0.513     4    0.364   24   0.828    10    40   50   \n244    Bernhardt   35   0.443     6    0.375   18   0.643    14    41   55   \n...          ...  ...     ...   ...      ...  ...     ...   ...   ...  ...   \n74522  Bernhardt   39   0.419     3    0.300   16   0.762    20    27   47   \n74552  Bernhardt   29   0.333     3    0.231    7   0.350    16    28   44   \n74609  Bernhardt   44   0.444     7    0.438   23   0.793    20    26   46   \n74652  Bernhardt   34   0.459     3    0.273   19   0.679    14    33   47   \n74705  Bernhardt   40   0.563     6    0.400   17   0.773     4    37   41   \n\n       ast  stl  blk  tov  pf  pts  \n9       14   10    3   17  23   88  \n37      29    5   14   15  19   99  \n193     22    6    6   17  30  106  \n223     31    4    9    8  13  106  \n244     24    8    9   17  23   94  \n...    ...  ...  ...  ...  ..  ...  \n74522   21   12    3   22  35   97  \n74552   20    7   12   19  18   68  \n74609   28    9    2   10  18  118  \n74652   19    7    8   22  30   90  \n74705   19    5    4   17  20  103  \n\n[162 rows x 20 columns]",
      "text/html": "<div>\n<style scoped>\n    .dataframe tbody tr th:only-of-type {\n        vertical-align: middle;\n    }\n\n    .dataframe tbody tr th {\n        vertical-align: top;\n    }\n\n    .dataframe thead th {\n        text-align: right;\n    }\n</style>\n<table border=\"1\" class=\"dataframe\">\n  <thead>\n    <tr style=\"text-align: right;\">\n      <th></th>\n      <th>game_date</th>\n      <th>team_abbrevation</th>\n      <th>official_id</th>\n      <th>first_name</th>\n      <th>last_name</th>\n      <th>fgm</th>\n      <th>fg_pct</th>\n      <th>fg3m</th>\n      <th>fg3_pct</th>\n      <th>ftm</th>\n      <th>ft_pct</th>\n      <th>oreb</th>\n      <th>dreb</th>\n      <th>reb</th>\n      <th>ast</th>\n      <th>stl</th>\n      <th>blk</th>\n      <th>tov</th>\n      <th>pf</th>\n      <th>pts</th>\n    </tr>\n  </thead>\n  <tbody>\n    <tr>\n      <th>9</th>\n      <td>1996-11-19 00:00:00</td>\n      <td>ORL</td>\n      <td>1144</td>\n      <td>Ted</td>\n      <td>Bernhardt</td>\n      <td>27</td>\n      <td>0.355</td>\n      <td>6</td>\n      <td>0.333</td>\n      <td>28</td>\n      <td>0.757</td>\n      <td>7</td>\n      <td>24</td>\n      <td>31</td>\n      <td>14</td>\n      <td>10</td>\n      <td>3</td>\n      <td>17</td>\n      <td>23</td>\n      <td>88</td>\n    </tr>\n    <tr>\n      <th>37</th>\n      <td>1997-02-21 00:00:00</td>\n      <td>LAL</td>\n      <td>1144</td>\n      <td>Ted</td>\n      <td>Bernhardt</td>\n      <td>37</td>\n      <td>0.514</td>\n      <td>9</td>\n      <td>0.450</td>\n      <td>16</td>\n      <td>0.667</td>\n      <td>10</td>\n      <td>30</td>\n      <td>40</td>\n      <td>29</td>\n      <td>5</td>\n      <td>14</td>\n      <td>15</td>\n      <td>19</td>\n      <td>99</td>\n    </tr>\n    <tr>\n      <th>193</th>\n      <td>1999-12-15 00:00:00</td>\n      <td>VAN</td>\n      <td>1144</td>\n      <td>Ted</td>\n      <td>Bernhardt</td>\n      <td>37</td>\n      <td>0.430</td>\n      <td>6</td>\n      <td>0.400</td>\n      <td>26</td>\n      <td>0.743</td>\n      <td>12</td>\n      <td>43</td>\n      <td>55</td>\n      <td>22</td>\n      <td>6</td>\n      <td>6</td>\n      <td>17</td>\n      <td>30</td>\n      <td>106</td>\n    </tr>\n    <tr>\n      <th>223</th>\n      <td>2000-04-02 00:00:00</td>\n      <td>LAL</td>\n      <td>1144</td>\n      <td>Ted</td>\n      <td>Bernhardt</td>\n      <td>39</td>\n      <td>0.513</td>\n      <td>4</td>\n      <td>0.364</td>\n      <td>24</td>\n      <td>0.828</td>\n      <td>10</td>\n      <td>40</td>\n      <td>50</td>\n      <td>31</td>\n      <td>4</td>\n      <td>9</td>\n      <td>8</td>\n      <td>13</td>\n      <td>106</td>\n    </tr>\n    <tr>\n      <th>244</th>\n      <td>2000-11-11 00:00:00</td>\n      <td>IND</td>\n      <td>1144</td>\n      <td>Ted</td>\n      <td>Bernhardt</td>\n      <td>35</td>\n      <td>0.443</td>\n      <td>6</td>\n      <td>0.375</td>\n      <td>18</td>\n      <td>0.643</td>\n      <td>14</td>\n      <td>41</td>\n      <td>55</td>\n      <td>24</td>\n      <td>8</td>\n      <td>9</td>\n      <td>17</td>\n      <td>23</td>\n      <td>94</td>\n    </tr>\n    <tr>\n      <th>...</th>\n      <td>...</td>\n      <td>...</td>\n      <td>...</td>\n      <td>...</td>\n      <td>...</td>\n      <td>...</td>\n      <td>...</td>\n      <td>...</td>\n      <td>...</td>\n      <td>...</td>\n      <td>...</td>\n      <td>...</td>\n      <td>...</td>\n      <td>...</td>\n      <td>...</td>\n      <td>...</td>\n      <td>...</td>\n      <td>...</td>\n      <td>...</td>\n      <td>...</td>\n    </tr>\n    <tr>\n      <th>74522</th>\n      <td>2005-11-02 00:00:00</td>\n      <td>GSW</td>\n      <td>1144</td>\n      <td>Ted</td>\n      <td>Bernhardt</td>\n      <td>39</td>\n      <td>0.419</td>\n      <td>3</td>\n      <td>0.300</td>\n      <td>16</td>\n      <td>0.762</td>\n      <td>20</td>\n      <td>27</td>\n      <td>47</td>\n      <td>21</td>\n      <td>12</td>\n      <td>3</td>\n      <td>22</td>\n      <td>35</td>\n      <td>97</td>\n    </tr>\n    <tr>\n      <th>74552</th>\n      <td>2005-11-04 00:00:00</td>\n      <td>DEN</td>\n      <td>1144</td>\n      <td>Ted</td>\n      <td>Bernhardt</td>\n      <td>29</td>\n      <td>0.333</td>\n      <td>3</td>\n      <td>0.231</td>\n      <td>7</td>\n      <td>0.350</td>\n      <td>16</td>\n      <td>28</td>\n      <td>44</td>\n      <td>20</td>\n      <td>7</td>\n      <td>12</td>\n      <td>19</td>\n      <td>18</td>\n      <td>68</td>\n    </tr>\n    <tr>\n      <th>74609</th>\n      <td>2005-11-06 00:00:00</td>\n      <td>PHX</td>\n      <td>1144</td>\n      <td>Ted</td>\n      <td>Bernhardt</td>\n      <td>44</td>\n      <td>0.444</td>\n      <td>7</td>\n      <td>0.438</td>\n      <td>23</td>\n      <td>0.793</td>\n      <td>20</td>\n      <td>26</td>\n      <td>46</td>\n      <td>28</td>\n      <td>9</td>\n      <td>2</td>\n      <td>10</td>\n      <td>18</td>\n      <td>118</td>\n    </tr>\n    <tr>\n      <th>74652</th>\n      <td>2005-11-09 00:00:00</td>\n      <td>IND</td>\n      <td>1144</td>\n      <td>Ted</td>\n      <td>Bernhardt</td>\n      <td>34</td>\n      <td>0.459</td>\n      <td>3</td>\n      <td>0.273</td>\n      <td>19</td>\n      <td>0.679</td>\n      <td>14</td>\n      <td>33</td>\n      <td>47</td>\n      <td>19</td>\n      <td>7</td>\n      <td>8</td>\n      <td>22</td>\n      <td>30</td>\n      <td>90</td>\n    </tr>\n    <tr>\n      <th>74705</th>\n      <td>2005-11-11 00:00:00</td>\n      <td>BOS</td>\n      <td>1144</td>\n      <td>Ted</td>\n      <td>Bernhardt</td>\n      <td>40</td>\n      <td>0.563</td>\n      <td>6</td>\n      <td>0.400</td>\n      <td>17</td>\n      <td>0.773</td>\n      <td>4</td>\n      <td>37</td>\n      <td>41</td>\n      <td>19</td>\n      <td>5</td>\n      <td>4</td>\n      <td>17</td>\n      <td>20</td>\n      <td>103</td>\n    </tr>\n  </tbody>\n</table>\n<p>162 rows × 20 columns</p>\n</div>"
     },
     "execution_count": 46,
     "metadata": {},
     "output_type": "execute_result"
    }
   ],
   "source": [
    "data[(data['last_name']=='Bernhardt')]"
   ],
   "metadata": {
    "collapsed": false,
    "ExecuteTime": {
     "end_time": "2023-09-05T16:38:02.099970Z",
     "start_time": "2023-09-05T16:38:02.037104Z"
    }
   }
  },
  {
   "cell_type": "code",
   "execution_count": 47,
   "outputs": [],
   "source": [
    "PCA = remaining_rows[remaining_rows['num_games'] > 100]"
   ],
   "metadata": {
    "collapsed": false,
    "ExecuteTime": {
     "end_time": "2023-09-05T16:38:02.100158Z",
     "start_time": "2023-09-05T16:38:02.045839Z"
    }
   }
  },
  {
   "cell_type": "code",
   "execution_count": 54,
   "outputs": [],
   "source": [
    "PCA.to_csv('PCA.csv')"
   ],
   "metadata": {
    "collapsed": false,
    "ExecuteTime": {
     "end_time": "2023-09-05T16:38:44.191696Z",
     "start_time": "2023-09-05T16:38:44.186289Z"
    }
   }
  },
  {
   "cell_type": "code",
   "execution_count": 49,
   "outputs": [],
   "source": [
    "pca_results = pd.read_csv('pca_results.csv')"
   ],
   "metadata": {
    "collapsed": false,
    "ExecuteTime": {
     "end_time": "2023-09-05T16:38:02.102615Z",
     "start_time": "2023-09-05T16:38:02.069692Z"
    }
   }
  },
  {
   "cell_type": "code",
   "execution_count": 50,
   "outputs": [],
   "source": [
    "pca_results['full_name'] = pca_results['first_name'] + \" \" + pca_results['last_name']\n",
    "pca_results = pca_results.drop(columns=['X'])"
   ],
   "metadata": {
    "collapsed": false,
    "ExecuteTime": {
     "end_time": "2023-09-05T16:38:02.102724Z",
     "start_time": "2023-09-05T16:38:02.070355Z"
    }
   }
  },
  {
   "cell_type": "code",
   "execution_count": 79,
   "outputs": [
    {
     "data": {
      "text/plain": "    first_name     last_name  official_id       fgm    fg_pct      fg3m  \\\n0        Aaron         Smith      1626302  1.103713  0.554498  1.157707   \n1         Andy          Nagy      1627534  1.330008  0.824532  1.425564   \n2      Anthony        Jordan         1169 -1.283641 -0.406151 -1.056304   \n3       Ashley  Moyer-Gleich      1628953  1.209105  0.796958  1.246974   \n4          Ben        Taylor       202049  0.736069  0.546996  0.730909   \n..         ...           ...          ...       ...       ...       ...   \n112       Tony         Brown         2529 -0.260638  0.061412 -0.244741   \n113        Tre        Maddox       202027  0.574510  0.170314  0.464893   \n114      Tyler          Ford       204059  0.835461  0.555943  0.982358   \n115     Violet        Palmer         1185 -0.732487 -0.256242 -0.722315   \n116       Zach         Zarba         2534 -0.044127  0.120184 -0.062590   \n\n      fg3_pct       ftm    ft_pct      oreb  ...       PC7       PC8  \\\n0    0.438085 -0.604474  0.538783 -0.677941  ... -0.020794  0.364523   \n1    0.492457 -0.751356  0.846816 -0.821212  ...  0.586821  0.514440   \n2    0.612911  0.466667 -0.282908  0.493510  ... -0.028578  0.462150   \n3    0.512557 -0.397034  0.557060 -1.035472  ... -0.033151 -0.136467   \n4    0.253331 -0.099560  0.271658 -0.659568  ... -0.231120 -0.178434   \n..        ...       ...       ...       ...  ...       ...       ...   \n112  0.357308 -0.090042  0.009348 -0.225627  ... -0.404798  0.157891   \n113  0.059465 -0.498329  0.115015 -0.340960  ... -0.018188 -0.282127   \n114  0.338512  0.040722  0.513569 -0.889164  ... -0.109282 -0.026451   \n115  0.201641  0.511215 -0.078919  0.237400  ...  0.269791  0.067530   \n116  0.226209 -0.088893  0.055940 -0.171355  ...  0.204564 -0.100859   \n\n          PC9      PC10      PC11      PC12      PC13          PC14  \\\n0   -0.148711 -0.171852  0.121561  0.040170  0.020091  1.083321e-15   \n1   -0.159534  0.066602  0.017301 -0.046995 -0.089570 -1.423162e-15   \n2    0.373530  0.283533 -0.245785  0.109823 -0.024403  9.706421e-16   \n3    0.105540 -0.142203 -0.057785 -0.119803 -0.024542 -8.989549e-17   \n4   -0.148344  0.088826  0.050850 -0.037981 -0.005484 -5.281223e-17   \n..        ...       ...       ...       ...       ...           ...   \n112  0.273631  0.176630  0.034481 -0.057717 -0.000708 -2.208621e-15   \n113 -0.201343  0.045838  0.090687 -0.062778  0.049826 -2.738838e-15   \n114  0.350648 -0.022471 -0.060286 -0.012889 -0.012517  1.344159e-15   \n115  0.426316 -0.123065 -0.024044 -0.057706  0.011672 -2.985460e-16   \n116  0.047867  0.239280 -0.036973 -0.018383 -0.016455  1.178417e-15   \n\n             PC15            full_name  \n0   -1.361417e-15          Aaron Smith  \n1   -5.438130e-16            Andy Nagy  \n2    1.655327e-15       Anthony Jordan  \n3    4.269050e-16  Ashley Moyer-Gleich  \n4   -1.383846e-15           Ben Taylor  \n..            ...                  ...  \n112 -1.060248e-15           Tony Brown  \n113 -1.698637e-16           Tre Maddox  \n114 -1.101542e-15           Tyler Ford  \n115 -6.954927e-16        Violet Palmer  \n116  5.976023e-16           Zach Zarba  \n\n[117 rows x 35 columns]",
      "text/html": "<div>\n<style scoped>\n    .dataframe tbody tr th:only-of-type {\n        vertical-align: middle;\n    }\n\n    .dataframe tbody tr th {\n        vertical-align: top;\n    }\n\n    .dataframe thead th {\n        text-align: right;\n    }\n</style>\n<table border=\"1\" class=\"dataframe\">\n  <thead>\n    <tr style=\"text-align: right;\">\n      <th></th>\n      <th>first_name</th>\n      <th>last_name</th>\n      <th>official_id</th>\n      <th>fgm</th>\n      <th>fg_pct</th>\n      <th>fg3m</th>\n      <th>fg3_pct</th>\n      <th>ftm</th>\n      <th>ft_pct</th>\n      <th>oreb</th>\n      <th>...</th>\n      <th>PC7</th>\n      <th>PC8</th>\n      <th>PC9</th>\n      <th>PC10</th>\n      <th>PC11</th>\n      <th>PC12</th>\n      <th>PC13</th>\n      <th>PC14</th>\n      <th>PC15</th>\n      <th>full_name</th>\n    </tr>\n  </thead>\n  <tbody>\n    <tr>\n      <th>0</th>\n      <td>Aaron</td>\n      <td>Smith</td>\n      <td>1626302</td>\n      <td>1.103713</td>\n      <td>0.554498</td>\n      <td>1.157707</td>\n      <td>0.438085</td>\n      <td>-0.604474</td>\n      <td>0.538783</td>\n      <td>-0.677941</td>\n      <td>...</td>\n      <td>-0.020794</td>\n      <td>0.364523</td>\n      <td>-0.148711</td>\n      <td>-0.171852</td>\n      <td>0.121561</td>\n      <td>0.040170</td>\n      <td>0.020091</td>\n      <td>1.083321e-15</td>\n      <td>-1.361417e-15</td>\n      <td>Aaron Smith</td>\n    </tr>\n    <tr>\n      <th>1</th>\n      <td>Andy</td>\n      <td>Nagy</td>\n      <td>1627534</td>\n      <td>1.330008</td>\n      <td>0.824532</td>\n      <td>1.425564</td>\n      <td>0.492457</td>\n      <td>-0.751356</td>\n      <td>0.846816</td>\n      <td>-0.821212</td>\n      <td>...</td>\n      <td>0.586821</td>\n      <td>0.514440</td>\n      <td>-0.159534</td>\n      <td>0.066602</td>\n      <td>0.017301</td>\n      <td>-0.046995</td>\n      <td>-0.089570</td>\n      <td>-1.423162e-15</td>\n      <td>-5.438130e-16</td>\n      <td>Andy Nagy</td>\n    </tr>\n    <tr>\n      <th>2</th>\n      <td>Anthony</td>\n      <td>Jordan</td>\n      <td>1169</td>\n      <td>-1.283641</td>\n      <td>-0.406151</td>\n      <td>-1.056304</td>\n      <td>0.612911</td>\n      <td>0.466667</td>\n      <td>-0.282908</td>\n      <td>0.493510</td>\n      <td>...</td>\n      <td>-0.028578</td>\n      <td>0.462150</td>\n      <td>0.373530</td>\n      <td>0.283533</td>\n      <td>-0.245785</td>\n      <td>0.109823</td>\n      <td>-0.024403</td>\n      <td>9.706421e-16</td>\n      <td>1.655327e-15</td>\n      <td>Anthony Jordan</td>\n    </tr>\n    <tr>\n      <th>3</th>\n      <td>Ashley</td>\n      <td>Moyer-Gleich</td>\n      <td>1628953</td>\n      <td>1.209105</td>\n      <td>0.796958</td>\n      <td>1.246974</td>\n      <td>0.512557</td>\n      <td>-0.397034</td>\n      <td>0.557060</td>\n      <td>-1.035472</td>\n      <td>...</td>\n      <td>-0.033151</td>\n      <td>-0.136467</td>\n      <td>0.105540</td>\n      <td>-0.142203</td>\n      <td>-0.057785</td>\n      <td>-0.119803</td>\n      <td>-0.024542</td>\n      <td>-8.989549e-17</td>\n      <td>4.269050e-16</td>\n      <td>Ashley Moyer-Gleich</td>\n    </tr>\n    <tr>\n      <th>4</th>\n      <td>Ben</td>\n      <td>Taylor</td>\n      <td>202049</td>\n      <td>0.736069</td>\n      <td>0.546996</td>\n      <td>0.730909</td>\n      <td>0.253331</td>\n      <td>-0.099560</td>\n      <td>0.271658</td>\n      <td>-0.659568</td>\n      <td>...</td>\n      <td>-0.231120</td>\n      <td>-0.178434</td>\n      <td>-0.148344</td>\n      <td>0.088826</td>\n      <td>0.050850</td>\n      <td>-0.037981</td>\n      <td>-0.005484</td>\n      <td>-5.281223e-17</td>\n      <td>-1.383846e-15</td>\n      <td>Ben Taylor</td>\n    </tr>\n    <tr>\n      <th>...</th>\n      <td>...</td>\n      <td>...</td>\n      <td>...</td>\n      <td>...</td>\n      <td>...</td>\n      <td>...</td>\n      <td>...</td>\n      <td>...</td>\n      <td>...</td>\n      <td>...</td>\n      <td>...</td>\n      <td>...</td>\n      <td>...</td>\n      <td>...</td>\n      <td>...</td>\n      <td>...</td>\n      <td>...</td>\n      <td>...</td>\n      <td>...</td>\n      <td>...</td>\n      <td>...</td>\n    </tr>\n    <tr>\n      <th>112</th>\n      <td>Tony</td>\n      <td>Brown</td>\n      <td>2529</td>\n      <td>-0.260638</td>\n      <td>0.061412</td>\n      <td>-0.244741</td>\n      <td>0.357308</td>\n      <td>-0.090042</td>\n      <td>0.009348</td>\n      <td>-0.225627</td>\n      <td>...</td>\n      <td>-0.404798</td>\n      <td>0.157891</td>\n      <td>0.273631</td>\n      <td>0.176630</td>\n      <td>0.034481</td>\n      <td>-0.057717</td>\n      <td>-0.000708</td>\n      <td>-2.208621e-15</td>\n      <td>-1.060248e-15</td>\n      <td>Tony Brown</td>\n    </tr>\n    <tr>\n      <th>113</th>\n      <td>Tre</td>\n      <td>Maddox</td>\n      <td>202027</td>\n      <td>0.574510</td>\n      <td>0.170314</td>\n      <td>0.464893</td>\n      <td>0.059465</td>\n      <td>-0.498329</td>\n      <td>0.115015</td>\n      <td>-0.340960</td>\n      <td>...</td>\n      <td>-0.018188</td>\n      <td>-0.282127</td>\n      <td>-0.201343</td>\n      <td>0.045838</td>\n      <td>0.090687</td>\n      <td>-0.062778</td>\n      <td>0.049826</td>\n      <td>-2.738838e-15</td>\n      <td>-1.698637e-16</td>\n      <td>Tre Maddox</td>\n    </tr>\n    <tr>\n      <th>114</th>\n      <td>Tyler</td>\n      <td>Ford</td>\n      <td>204059</td>\n      <td>0.835461</td>\n      <td>0.555943</td>\n      <td>0.982358</td>\n      <td>0.338512</td>\n      <td>0.040722</td>\n      <td>0.513569</td>\n      <td>-0.889164</td>\n      <td>...</td>\n      <td>-0.109282</td>\n      <td>-0.026451</td>\n      <td>0.350648</td>\n      <td>-0.022471</td>\n      <td>-0.060286</td>\n      <td>-0.012889</td>\n      <td>-0.012517</td>\n      <td>1.344159e-15</td>\n      <td>-1.101542e-15</td>\n      <td>Tyler Ford</td>\n    </tr>\n    <tr>\n      <th>115</th>\n      <td>Violet</td>\n      <td>Palmer</td>\n      <td>1185</td>\n      <td>-0.732487</td>\n      <td>-0.256242</td>\n      <td>-0.722315</td>\n      <td>0.201641</td>\n      <td>0.511215</td>\n      <td>-0.078919</td>\n      <td>0.237400</td>\n      <td>...</td>\n      <td>0.269791</td>\n      <td>0.067530</td>\n      <td>0.426316</td>\n      <td>-0.123065</td>\n      <td>-0.024044</td>\n      <td>-0.057706</td>\n      <td>0.011672</td>\n      <td>-2.985460e-16</td>\n      <td>-6.954927e-16</td>\n      <td>Violet Palmer</td>\n    </tr>\n    <tr>\n      <th>116</th>\n      <td>Zach</td>\n      <td>Zarba</td>\n      <td>2534</td>\n      <td>-0.044127</td>\n      <td>0.120184</td>\n      <td>-0.062590</td>\n      <td>0.226209</td>\n      <td>-0.088893</td>\n      <td>0.055940</td>\n      <td>-0.171355</td>\n      <td>...</td>\n      <td>0.204564</td>\n      <td>-0.100859</td>\n      <td>0.047867</td>\n      <td>0.239280</td>\n      <td>-0.036973</td>\n      <td>-0.018383</td>\n      <td>-0.016455</td>\n      <td>1.178417e-15</td>\n      <td>5.976023e-16</td>\n      <td>Zach Zarba</td>\n    </tr>\n  </tbody>\n</table>\n<p>117 rows × 35 columns</p>\n</div>"
     },
     "execution_count": 79,
     "metadata": {},
     "output_type": "execute_result"
    }
   ],
   "source": [
    "pca_results"
   ],
   "metadata": {
    "collapsed": false,
    "ExecuteTime": {
     "end_time": "2023-09-05T17:13:44.388959Z",
     "start_time": "2023-09-05T17:13:44.284012Z"
    }
   }
  },
  {
   "cell_type": "code",
   "execution_count": 59,
   "outputs": [
    {
     "data": {
      "text/plain": "    first_name     last_name  official_id       fgm    fg_pct      fg3m  \\\n0        Aaron         Smith      1626302  1.103713  0.554498  1.157707   \n1         Andy          Nagy      1627534  1.330008  0.824532  1.425564   \n2      Anthony        Jordan         1169 -1.283641 -0.406151 -1.056304   \n3       Ashley  Moyer-Gleich      1628953  1.209105  0.796958  1.246974   \n4          Ben        Taylor       202049  0.736069  0.546996  0.730909   \n..         ...           ...          ...       ...       ...       ...   \n151      Tyler     Mirkovich      1628482  1.262052  0.921703  1.443317   \n152      Tyler         Ricks      1627539  0.879782  0.131047  1.196550   \n153     Violet        Palmer         1185 -0.732487 -0.256242 -0.722315   \n154   Vladimir  Voyard-Tadal      1626303 -0.095281 -0.590985  0.121349   \n155       Zach         Zarba         2534 -0.044127  0.120184 -0.062590   \n\n      fg3_pct       ftm    ft_pct      oreb      dreb       reb       ast  \\\n0    0.438085 -0.604474  0.538783 -0.677941  1.063408  0.818543  1.001495   \n1    0.492457 -0.751356  0.846816 -0.821212  1.101960  0.773746  1.463752   \n2    0.612911  0.466667 -0.282908  0.493510 -1.485143 -1.427578 -0.901921   \n3    0.512557 -0.397034  0.557060 -1.035472  1.152188  0.698066  1.270182   \n4    0.253331 -0.099560  0.271658 -0.659568  0.639735  0.334486  0.686358   \n..        ...       ...       ...       ...       ...       ...       ...   \n151 -0.067036  1.482349  1.312669  0.168107  0.454019  0.636557  1.175541   \n152  0.078322 -1.974824  0.904151 -0.790747  1.338366  1.069392  0.741574   \n153  0.201641  0.511215 -0.078919  0.237400 -0.735804 -0.711743 -0.699124   \n154 -0.536964 -0.004015  0.128695 -1.328746  0.454019 -0.302614 -0.349543   \n155  0.226209 -0.088893  0.055940 -0.171355 -0.134680 -0.265053 -0.044708   \n\n          stl       blk       tov        pf       pts  num_games  \n0    0.313313 -0.221519 -0.390779 -1.065423  1.047605        648  \n1    0.137684 -0.010953 -0.577065 -1.254852  1.269774        278  \n2    0.442444 -0.270781  0.753860  0.702617 -1.152071        320  \n3    0.356645 -0.028732 -0.005837 -0.808327  1.196249        316  \n4   -0.063244 -0.407803 -0.160279 -0.109393  0.747505       1006  \n..        ...       ...       ...       ...       ...        ...  \n151 -0.043906 -1.310828  0.165576  0.736642  1.715212         16  \n152  1.343322  0.039646 -1.131854 -2.306165  0.623592         30  \n153 -0.168627  0.182904  0.300401  0.528843 -0.652903       1236  \n154 -0.413286 -1.446781 -0.796397  0.104749 -0.013087          8  \n155 -0.313755 -0.206618 -0.522063 -0.028031 -0.072872       2296  \n\n[156 rows x 19 columns]",
      "text/html": "<div>\n<style scoped>\n    .dataframe tbody tr th:only-of-type {\n        vertical-align: middle;\n    }\n\n    .dataframe tbody tr th {\n        vertical-align: top;\n    }\n\n    .dataframe thead th {\n        text-align: right;\n    }\n</style>\n<table border=\"1\" class=\"dataframe\">\n  <thead>\n    <tr style=\"text-align: right;\">\n      <th></th>\n      <th>first_name</th>\n      <th>last_name</th>\n      <th>official_id</th>\n      <th>fgm</th>\n      <th>fg_pct</th>\n      <th>fg3m</th>\n      <th>fg3_pct</th>\n      <th>ftm</th>\n      <th>ft_pct</th>\n      <th>oreb</th>\n      <th>dreb</th>\n      <th>reb</th>\n      <th>ast</th>\n      <th>stl</th>\n      <th>blk</th>\n      <th>tov</th>\n      <th>pf</th>\n      <th>pts</th>\n      <th>num_games</th>\n    </tr>\n  </thead>\n  <tbody>\n    <tr>\n      <th>0</th>\n      <td>Aaron</td>\n      <td>Smith</td>\n      <td>1626302</td>\n      <td>1.103713</td>\n      <td>0.554498</td>\n      <td>1.157707</td>\n      <td>0.438085</td>\n      <td>-0.604474</td>\n      <td>0.538783</td>\n      <td>-0.677941</td>\n      <td>1.063408</td>\n      <td>0.818543</td>\n      <td>1.001495</td>\n      <td>0.313313</td>\n      <td>-0.221519</td>\n      <td>-0.390779</td>\n      <td>-1.065423</td>\n      <td>1.047605</td>\n      <td>648</td>\n    </tr>\n    <tr>\n      <th>1</th>\n      <td>Andy</td>\n      <td>Nagy</td>\n      <td>1627534</td>\n      <td>1.330008</td>\n      <td>0.824532</td>\n      <td>1.425564</td>\n      <td>0.492457</td>\n      <td>-0.751356</td>\n      <td>0.846816</td>\n      <td>-0.821212</td>\n      <td>1.101960</td>\n      <td>0.773746</td>\n      <td>1.463752</td>\n      <td>0.137684</td>\n      <td>-0.010953</td>\n      <td>-0.577065</td>\n      <td>-1.254852</td>\n      <td>1.269774</td>\n      <td>278</td>\n    </tr>\n    <tr>\n      <th>2</th>\n      <td>Anthony</td>\n      <td>Jordan</td>\n      <td>1169</td>\n      <td>-1.283641</td>\n      <td>-0.406151</td>\n      <td>-1.056304</td>\n      <td>0.612911</td>\n      <td>0.466667</td>\n      <td>-0.282908</td>\n      <td>0.493510</td>\n      <td>-1.485143</td>\n      <td>-1.427578</td>\n      <td>-0.901921</td>\n      <td>0.442444</td>\n      <td>-0.270781</td>\n      <td>0.753860</td>\n      <td>0.702617</td>\n      <td>-1.152071</td>\n      <td>320</td>\n    </tr>\n    <tr>\n      <th>3</th>\n      <td>Ashley</td>\n      <td>Moyer-Gleich</td>\n      <td>1628953</td>\n      <td>1.209105</td>\n      <td>0.796958</td>\n      <td>1.246974</td>\n      <td>0.512557</td>\n      <td>-0.397034</td>\n      <td>0.557060</td>\n      <td>-1.035472</td>\n      <td>1.152188</td>\n      <td>0.698066</td>\n      <td>1.270182</td>\n      <td>0.356645</td>\n      <td>-0.028732</td>\n      <td>-0.005837</td>\n      <td>-0.808327</td>\n      <td>1.196249</td>\n      <td>316</td>\n    </tr>\n    <tr>\n      <th>4</th>\n      <td>Ben</td>\n      <td>Taylor</td>\n      <td>202049</td>\n      <td>0.736069</td>\n      <td>0.546996</td>\n      <td>0.730909</td>\n      <td>0.253331</td>\n      <td>-0.099560</td>\n      <td>0.271658</td>\n      <td>-0.659568</td>\n      <td>0.639735</td>\n      <td>0.334486</td>\n      <td>0.686358</td>\n      <td>-0.063244</td>\n      <td>-0.407803</td>\n      <td>-0.160279</td>\n      <td>-0.109393</td>\n      <td>0.747505</td>\n      <td>1006</td>\n    </tr>\n    <tr>\n      <th>...</th>\n      <td>...</td>\n      <td>...</td>\n      <td>...</td>\n      <td>...</td>\n      <td>...</td>\n      <td>...</td>\n      <td>...</td>\n      <td>...</td>\n      <td>...</td>\n      <td>...</td>\n      <td>...</td>\n      <td>...</td>\n      <td>...</td>\n      <td>...</td>\n      <td>...</td>\n      <td>...</td>\n      <td>...</td>\n      <td>...</td>\n      <td>...</td>\n    </tr>\n    <tr>\n      <th>151</th>\n      <td>Tyler</td>\n      <td>Mirkovich</td>\n      <td>1628482</td>\n      <td>1.262052</td>\n      <td>0.921703</td>\n      <td>1.443317</td>\n      <td>-0.067036</td>\n      <td>1.482349</td>\n      <td>1.312669</td>\n      <td>0.168107</td>\n      <td>0.454019</td>\n      <td>0.636557</td>\n      <td>1.175541</td>\n      <td>-0.043906</td>\n      <td>-1.310828</td>\n      <td>0.165576</td>\n      <td>0.736642</td>\n      <td>1.715212</td>\n      <td>16</td>\n    </tr>\n    <tr>\n      <th>152</th>\n      <td>Tyler</td>\n      <td>Ricks</td>\n      <td>1627539</td>\n      <td>0.879782</td>\n      <td>0.131047</td>\n      <td>1.196550</td>\n      <td>0.078322</td>\n      <td>-1.974824</td>\n      <td>0.904151</td>\n      <td>-0.790747</td>\n      <td>1.338366</td>\n      <td>1.069392</td>\n      <td>0.741574</td>\n      <td>1.343322</td>\n      <td>0.039646</td>\n      <td>-1.131854</td>\n      <td>-2.306165</td>\n      <td>0.623592</td>\n      <td>30</td>\n    </tr>\n    <tr>\n      <th>153</th>\n      <td>Violet</td>\n      <td>Palmer</td>\n      <td>1185</td>\n      <td>-0.732487</td>\n      <td>-0.256242</td>\n      <td>-0.722315</td>\n      <td>0.201641</td>\n      <td>0.511215</td>\n      <td>-0.078919</td>\n      <td>0.237400</td>\n      <td>-0.735804</td>\n      <td>-0.711743</td>\n      <td>-0.699124</td>\n      <td>-0.168627</td>\n      <td>0.182904</td>\n      <td>0.300401</td>\n      <td>0.528843</td>\n      <td>-0.652903</td>\n      <td>1236</td>\n    </tr>\n    <tr>\n      <th>154</th>\n      <td>Vladimir</td>\n      <td>Voyard-Tadal</td>\n      <td>1626303</td>\n      <td>-0.095281</td>\n      <td>-0.590985</td>\n      <td>0.121349</td>\n      <td>-0.536964</td>\n      <td>-0.004015</td>\n      <td>0.128695</td>\n      <td>-1.328746</td>\n      <td>0.454019</td>\n      <td>-0.302614</td>\n      <td>-0.349543</td>\n      <td>-0.413286</td>\n      <td>-1.446781</td>\n      <td>-0.796397</td>\n      <td>0.104749</td>\n      <td>-0.013087</td>\n      <td>8</td>\n    </tr>\n    <tr>\n      <th>155</th>\n      <td>Zach</td>\n      <td>Zarba</td>\n      <td>2534</td>\n      <td>-0.044127</td>\n      <td>0.120184</td>\n      <td>-0.062590</td>\n      <td>0.226209</td>\n      <td>-0.088893</td>\n      <td>0.055940</td>\n      <td>-0.171355</td>\n      <td>-0.134680</td>\n      <td>-0.265053</td>\n      <td>-0.044708</td>\n      <td>-0.313755</td>\n      <td>-0.206618</td>\n      <td>-0.522063</td>\n      <td>-0.028031</td>\n      <td>-0.072872</td>\n      <td>2296</td>\n    </tr>\n  </tbody>\n</table>\n<p>156 rows × 19 columns</p>\n</div>"
     },
     "execution_count": 59,
     "metadata": {},
     "output_type": "execute_result"
    }
   ],
   "source": [
    "aggregated_raw_data\n"
   ],
   "metadata": {
    "collapsed": false,
    "ExecuteTime": {
     "end_time": "2023-09-05T17:00:06.151901Z",
     "start_time": "2023-09-05T17:00:06.123194Z"
    }
   }
  },
  {
   "cell_type": "code",
   "execution_count": 95,
   "outputs": [
    {
     "name": "stderr",
     "output_type": "stream",
     "text": [
      "/Users/blakelaw/PycharmProjects/RefereeAnalysis/venv/lib/python3.11/site-packages/xgboost/data.py:312: FutureWarning: is_sparse is deprecated and will be removed in a future version. Check `isinstance(dtype, pd.SparseDtype)` instead.\n",
      "  if is_sparse(dtype):\n",
      "/Users/blakelaw/PycharmProjects/RefereeAnalysis/venv/lib/python3.11/site-packages/xgboost/data.py:314: FutureWarning: is_categorical_dtype is deprecated and will be removed in a future version. Use isinstance(dtype, CategoricalDtype) instead\n",
      "  elif is_categorical_dtype(dtype) and enable_categorical:\n",
      "/Users/blakelaw/PycharmProjects/RefereeAnalysis/venv/lib/python3.11/site-packages/xgboost/data.py:345: FutureWarning: is_categorical_dtype is deprecated and will be removed in a future version. Use isinstance(dtype, CategoricalDtype) instead\n",
      "  if is_categorical_dtype(dtype)\n",
      "/Users/blakelaw/PycharmProjects/RefereeAnalysis/venv/lib/python3.11/site-packages/xgboost/data.py:336: FutureWarning: is_categorical_dtype is deprecated and will be removed in a future version. Use isinstance(dtype, CategoricalDtype) instead\n",
      "  return is_int or is_bool or is_float or is_categorical_dtype(dtype)\n",
      "/Users/blakelaw/PycharmProjects/RefereeAnalysis/venv/lib/python3.11/site-packages/xgboost/data.py:440: FutureWarning: is_sparse is deprecated and will be removed in a future version. Check `isinstance(dtype, pd.SparseDtype)` instead.\n",
      "  if is_sparse(data):\n"
     ]
    }
   ],
   "source": [
    "X = pca_results.drop(['official_id', 'first_name', 'last_name', 'num_games', 'full_name'], axis=1)  # Include all variables except the target\n",
    "y = pca_results['num_games']\n",
    "\n",
    "X_train, X_test, y_train, y_test = train_test_split(X, y, test_size=0.2, random_state=42)\n",
    "\n",
    "model = xgb.XGBRegressor()\n",
    "model.fit(X_train, y_train)\n",
    "\n",
    "feature_importances = model.feature_importances_\n"
   ],
   "metadata": {
    "collapsed": false,
    "ExecuteTime": {
     "end_time": "2023-09-05T17:45:01.232624Z",
     "start_time": "2023-09-05T17:45:01.024045Z"
    }
   }
  },
  {
   "cell_type": "code",
   "execution_count": 96,
   "outputs": [
    {
     "data": {
      "text/plain": "<Figure size 640x480 with 1 Axes>",
      "image/png": "[encoded data removed]"
     },
     "metadata": {},
     "output_type": "display_data"
    }
   ],
   "source": [
    "plt.bar(X.columns, feature_importances)\n",
    "plt.ylabel('Importance Score')\n",
    "plt.xlabel('Feature')\n",
    "plt.title('Feature Importance Analysis')\n",
    "plt.xticks(rotation=90)\n",
    "plt.show()\n"
   ],
   "metadata": {
    "collapsed": false,
    "ExecuteTime": {
     "end_time": "2023-09-05T17:45:06.457989Z",
     "start_time": "2023-09-05T17:45:04.305723Z"
    }
   }
  },
  {
   "cell_type": "code",
   "execution_count": 97,
   "outputs": [
    {
     "name": "stdout",
     "output_type": "stream",
     "text": [
      "R-squared: 0.42356445576098545\n"
     ]
    }
   ],
   "source": [
    "X = pca_results[['fg3m', 'oreb', 'dreb', 'reb', 'ast']]\n",
    "y = pca_results['num_games']\n",
    "\n",
    "X = sm.add_constant(X)\n",
    "\n",
    "model = sm.OLS(y, X).fit()\n",
    "\n",
    "r_squared = model.rsquared\n",
    "print('R-squared:', r_squared)"
   ],
   "metadata": {
    "collapsed": false,
    "ExecuteTime": {
     "end_time": "2023-09-05T17:45:06.465411Z",
     "start_time": "2023-09-05T17:45:06.459102Z"
    }
   }
  },
  {
   "cell_type": "code",
   "execution_count": 91,
   "outputs": [
    {
     "name": "stdout",
     "output_type": "stream",
     "text": [
      "                            OLS Regression Results                            \n",
      "==============================================================================\n",
      "Dep. Variable:              num_games   R-squared:                       0.424\n",
      "Model:                            OLS   Adj. R-squared:                  0.403\n",
      "Method:                 Least Squares   F-statistic:                     20.57\n",
      "Date:                Tue, 05 Sep 2023   Prob (F-statistic):           9.89e-13\n",
      "Time:                        13:37:45   Log-Likelihood:                -900.47\n",
      "No. Observations:                 117   AIC:                             1811.\n",
      "Df Residuals:                     112   BIC:                             1825.\n",
      "Df Model:                           4                                         \n",
      "Covariance Type:            nonrobust                                         \n",
      "==============================================================================\n",
      "                 coef    std err          t      P>|t|      [0.025      0.975]\n",
      "------------------------------------------------------------------------------\n",
      "const       1007.3617     58.660     17.173      0.000     891.135    1123.588\n",
      "fg3m       -1441.3079    541.873     -2.660      0.009   -2514.960    -367.655\n",
      "oreb       -1216.5017    205.721     -5.913      0.000   -1624.112    -808.891\n",
      "dreb         719.7574    136.528      5.272      0.000     449.245     990.270\n",
      "reb           78.6538    109.541      0.718      0.474    -138.387     295.695\n",
      "ast         -431.4592    387.978     -1.112      0.268   -1200.188     337.270\n",
      "==============================================================================\n",
      "Omnibus:                        0.163   Durbin-Watson:                   1.962\n",
      "Prob(Omnibus):                  0.922   Jarque-Bera (JB):                0.117\n",
      "Skew:                          -0.075   Prob(JB):                        0.943\n",
      "Kurtosis:                       2.959   Cond. No.                     1.08e+15\n",
      "==============================================================================\n",
      "\n",
      "Notes:\n",
      "[1] Standard Errors assume that the covariance matrix of the errors is correctly specified.\n",
      "[2] The smallest eigenvalue is 2.6e-28. This might indicate that there are\n",
      "strong multicollinearity problems or that the design matrix is singular.\n"
     ]
    }
   ],
   "source": [
    "print(model.summary())"
   ],
   "metadata": {
    "collapsed": false,
    "ExecuteTime": {
     "end_time": "2023-09-05T17:37:45.144332Z",
     "start_time": "2023-09-05T17:37:45.143089Z"
    }
   }
  }
 ],
 "metadata": {
  "kernelspec": {
   "display_name": "Python 3 (ipykernel)",
   "language": "python",
   "name": "python3"
  },
  "language_info": {
   "codemirror_mode": {
    "name": "ipython",
    "version": 3
   },
   "file_extension": ".py",
   "mimetype": "text/x-python",
   "name": "python",
   "nbconvert_exporter": "python",
   "pygments_lexer": "ipython3",
   "version": "3.11.3"
  }
 },
 "nbformat": 4,
 "nbformat_minor": 1
}
