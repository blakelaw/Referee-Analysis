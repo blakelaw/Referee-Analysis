{
 "cells": [
  {
   "cell_type": "code",
   "execution_count": 6,
   "metadata": {
    "ExecuteTime": {
     "end_time": "2023-09-05T16:37:58.603169Z",
     "start_time": "2023-09-05T16:37:58.386623Z"
    }
   },
   "outputs": [],
   "source": [
    "#Imports\n",
    "import sqlite3 as sql\n",
    "import pandas as pd\n",
    "from bokeh.plotting import figure, show, output_notebook\n",
    "from bokeh.models import HoverTool, ColumnDataSource"
   ]
  },
  {
   "cell_type": "code",
   "execution_count": 7,
   "outputs": [
    {
     "name": "stdout",
     "output_type": "stream",
     "text": [
      "/Users/blakelaw/PycharmProjects/RefereeAnalysis\n"
     ]
    }
   ],
   "source": [
    "import os\n",
    "print(os.getcwd())"
   ],
   "metadata": {
    "collapsed": false,
    "ExecuteTime": {
     "end_time": "2023-09-05T16:37:58.637574Z",
     "start_time": "2023-09-05T16:37:58.390092Z"
    }
   }
  },
  {
   "cell_type": "code",
   "execution_count": 8,
   "metadata": {
    "ExecuteTime": {
     "end_time": "2023-09-05T16:37:58.638240Z",
     "start_time": "2023-09-05T16:37:58.392927Z"
    }
   },
   "outputs": [
    {
     "data": {
      "text/plain": "<sqlite3.Connection at 0x11e264400>"
     },
     "execution_count": 8,
     "metadata": {},
     "output_type": "execute_result"
    }
   ],
   "source": [
    "conn = sql.connect('nba.sqlite') # create connection object to database\n",
    "conn"
   ]
  },
  {
   "cell_type": "code",
   "execution_count": 9,
   "metadata": {
    "ExecuteTime": {
     "end_time": "2023-09-05T16:37:58.830244Z",
     "start_time": "2023-09-05T16:37:58.399589Z"
    }
   },
   "outputs": [],
   "source": [
    "df = pd.read_sql('select * from combined_all2', conn)"
   ]
  },
  {
   "cell_type": "code",
   "execution_count": 10,
   "metadata": {
    "ExecuteTime": {
     "end_time": "2023-09-05T16:37:59.021102Z",
     "start_time": "2023-09-05T16:37:58.828363Z"
    }
   },
   "outputs": [],
   "source": [
    "df.to_csv('df.csv')"
   ]
  },
  {
   "cell_type": "code",
   "execution_count": 11,
   "metadata": {
    "ExecuteTime": {
     "end_time": "2023-09-05T16:37:59.059262Z",
     "start_time": "2023-09-05T16:37:59.028909Z"
    }
   },
   "outputs": [],
   "source": [
    "home_games = df[['team_abbreviation_home','game_id', 'game_date', 'official_id', 'team_id_home', 'pts_home', 'first_name', 'last_name']].rename(columns={'team_abbreviation_home': 'team_abbreviation','team_id_home': 'team_id', 'pts_home': 'pts'})\n",
    "away_games = df[['team_abbreviation_away','game_id', 'game_date', 'official_id', 'team_id_away', 'pts_away','first_name', 'last_name']].rename(columns={'team_abbreviation_away': 'team_abbreviation', 'team_id_away': 'team_id', 'pts_away': 'pts'})\n"
   ]
  },
  {
   "cell_type": "code",
   "execution_count": 12,
   "metadata": {
    "ExecuteTime": {
     "end_time": "2023-09-05T16:37:59.069891Z",
     "start_time": "2023-09-05T16:37:59.061002Z"
    }
   },
   "outputs": [],
   "source": [
    "combined = pd.concat([home_games, away_games], axis=0)"
   ]
  },
  {
   "cell_type": "code",
   "execution_count": 13,
   "metadata": {
    "ExecuteTime": {
     "end_time": "2023-09-05T16:37:59.106472Z",
     "start_time": "2023-09-05T16:37:59.074075Z"
    }
   },
   "outputs": [],
   "source": [
    "grouped_df = combined.groupby(['official_id', 'team_abbreviation']).agg(avg_pts=('pts', 'mean'), num_games=('pts', 'size')).reset_index()"
   ]
  },
  {
   "cell_type": "code",
   "execution_count": 14,
   "outputs": [
    {
     "data": {
      "text/plain": "     official_id team_abbreviation     avg_pts  num_games\n0         101283               ATL  105.885246         61\n1         101283               BKN  104.575000         40\n2         101283               BOS  104.682540         63\n3         101283               CHA   97.381818         55\n4         101283               CHI  100.627119         59\n...          ...               ...         ...        ...\n2847        2882               SAS  105.885246         61\n2848        2882               SEA   91.500000         10\n2849        2882               TOR  104.353846         65\n2850        2882               UTA  101.875000         56\n2851        2882               WAS  105.348485         66\n\n[2852 rows x 4 columns]",
      "text/html": "<div>\n<style scoped>\n    .dataframe tbody tr th:only-of-type {\n        vertical-align: middle;\n    }\n\n    .dataframe tbody tr th {\n        vertical-align: top;\n    }\n\n    .dataframe thead th {\n        text-align: right;\n    }\n</style>\n<table border=\"1\" class=\"dataframe\">\n  <thead>\n    <tr style=\"text-align: right;\">\n      <th></th>\n      <th>official_id</th>\n      <th>team_abbreviation</th>\n      <th>avg_pts</th>\n      <th>num_games</th>\n    </tr>\n  </thead>\n  <tbody>\n    <tr>\n      <th>0</th>\n      <td>101283</td>\n      <td>ATL</td>\n      <td>105.885246</td>\n      <td>61</td>\n    </tr>\n    <tr>\n      <th>1</th>\n      <td>101283</td>\n      <td>BKN</td>\n      <td>104.575000</td>\n      <td>40</td>\n    </tr>\n    <tr>\n      <th>2</th>\n      <td>101283</td>\n      <td>BOS</td>\n      <td>104.682540</td>\n      <td>63</td>\n    </tr>\n    <tr>\n      <th>3</th>\n      <td>101283</td>\n      <td>CHA</td>\n      <td>97.381818</td>\n      <td>55</td>\n    </tr>\n    <tr>\n      <th>4</th>\n      <td>101283</td>\n      <td>CHI</td>\n      <td>100.627119</td>\n      <td>59</td>\n    </tr>\n    <tr>\n      <th>...</th>\n      <td>...</td>\n      <td>...</td>\n      <td>...</td>\n      <td>...</td>\n    </tr>\n    <tr>\n      <th>2847</th>\n      <td>2882</td>\n      <td>SAS</td>\n      <td>105.885246</td>\n      <td>61</td>\n    </tr>\n    <tr>\n      <th>2848</th>\n      <td>2882</td>\n      <td>SEA</td>\n      <td>91.500000</td>\n      <td>10</td>\n    </tr>\n    <tr>\n      <th>2849</th>\n      <td>2882</td>\n      <td>TOR</td>\n      <td>104.353846</td>\n      <td>65</td>\n    </tr>\n    <tr>\n      <th>2850</th>\n      <td>2882</td>\n      <td>UTA</td>\n      <td>101.875000</td>\n      <td>56</td>\n    </tr>\n    <tr>\n      <th>2851</th>\n      <td>2882</td>\n      <td>WAS</td>\n      <td>105.348485</td>\n      <td>66</td>\n    </tr>\n  </tbody>\n</table>\n<p>2852 rows × 4 columns</p>\n</div>"
     },
     "execution_count": 14,
     "metadata": {},
     "output_type": "execute_result"
    }
   ],
   "source": [
    "grouped_df"
   ],
   "metadata": {
    "collapsed": false,
    "ExecuteTime": {
     "end_time": "2023-09-05T16:37:59.126092Z",
     "start_time": "2023-09-05T16:37:59.107861Z"
    }
   }
  },
  {
   "cell_type": "code",
   "execution_count": 15,
   "metadata": {
    "ExecuteTime": {
     "end_time": "2023-09-05T16:37:59.729713Z",
     "start_time": "2023-09-05T16:37:59.128006Z"
    }
   },
   "outputs": [],
   "source": [
    "expanded_df = grouped_df.merge(combined[['official_id', 'first_name', 'last_name']], on='official_id', how='left')\n"
   ]
  },
  {
   "cell_type": "code",
   "execution_count": 16,
   "outputs": [
    {
     "data": {
      "text/plain": "        official_id team_abbreviation     avg_pts  num_games first_name  \\\n0            101283               ATL  105.885246         61      Brian   \n1            101283               ATL  105.885246         61      Brian   \n2            101283               ATL  105.885246         61      Brian   \n3            101283               ATL  105.885246         61      Brian   \n4            101283               ATL  105.885246         61      Brian   \n...             ...               ...         ...        ...        ...   \n4173351        2882               WAS  105.348485         66       Sean   \n4173352        2882               WAS  105.348485         66       Sean   \n4173353        2882               WAS  105.348485         66       Sean   \n4173354        2882               WAS  105.348485         66       Sean   \n4173355        2882               WAS  105.348485         66       Sean   \n\n        last_name  \n0           Forte  \n1           Forte  \n2           Forte  \n3           Forte  \n4           Forte  \n...           ...  \n4173351    Wright  \n4173352    Wright  \n4173353    Wright  \n4173354    Wright  \n4173355    Wright  \n\n[4173356 rows x 6 columns]",
      "text/html": "<div>\n<style scoped>\n    .dataframe tbody tr th:only-of-type {\n        vertical-align: middle;\n    }\n\n    .dataframe tbody tr th {\n        vertical-align: top;\n    }\n\n    .dataframe thead th {\n        text-align: right;\n    }\n</style>\n<table border=\"1\" class=\"dataframe\">\n  <thead>\n    <tr style=\"text-align: right;\">\n      <th></th>\n      <th>official_id</th>\n      <th>team_abbreviation</th>\n      <th>avg_pts</th>\n      <th>num_games</th>\n      <th>first_name</th>\n      <th>last_name</th>\n    </tr>\n  </thead>\n  <tbody>\n    <tr>\n      <th>0</th>\n      <td>101283</td>\n      <td>ATL</td>\n      <td>105.885246</td>\n      <td>61</td>\n      <td>Brian</td>\n      <td>Forte</td>\n    </tr>\n    <tr>\n      <th>1</th>\n      <td>101283</td>\n      <td>ATL</td>\n      <td>105.885246</td>\n      <td>61</td>\n      <td>Brian</td>\n      <td>Forte</td>\n    </tr>\n    <tr>\n      <th>2</th>\n      <td>101283</td>\n      <td>ATL</td>\n      <td>105.885246</td>\n      <td>61</td>\n      <td>Brian</td>\n      <td>Forte</td>\n    </tr>\n    <tr>\n      <th>3</th>\n      <td>101283</td>\n      <td>ATL</td>\n      <td>105.885246</td>\n      <td>61</td>\n      <td>Brian</td>\n      <td>Forte</td>\n    </tr>\n    <tr>\n      <th>4</th>\n      <td>101283</td>\n      <td>ATL</td>\n      <td>105.885246</td>\n      <td>61</td>\n      <td>Brian</td>\n      <td>Forte</td>\n    </tr>\n    <tr>\n      <th>...</th>\n      <td>...</td>\n      <td>...</td>\n      <td>...</td>\n      <td>...</td>\n      <td>...</td>\n      <td>...</td>\n    </tr>\n    <tr>\n      <th>4173351</th>\n      <td>2882</td>\n      <td>WAS</td>\n      <td>105.348485</td>\n      <td>66</td>\n      <td>Sean</td>\n      <td>Wright</td>\n    </tr>\n    <tr>\n      <th>4173352</th>\n      <td>2882</td>\n      <td>WAS</td>\n      <td>105.348485</td>\n      <td>66</td>\n      <td>Sean</td>\n      <td>Wright</td>\n    </tr>\n    <tr>\n      <th>4173353</th>\n      <td>2882</td>\n      <td>WAS</td>\n      <td>105.348485</td>\n      <td>66</td>\n      <td>Sean</td>\n      <td>Wright</td>\n    </tr>\n    <tr>\n      <th>4173354</th>\n      <td>2882</td>\n      <td>WAS</td>\n      <td>105.348485</td>\n      <td>66</td>\n      <td>Sean</td>\n      <td>Wright</td>\n    </tr>\n    <tr>\n      <th>4173355</th>\n      <td>2882</td>\n      <td>WAS</td>\n      <td>105.348485</td>\n      <td>66</td>\n      <td>Sean</td>\n      <td>Wright</td>\n    </tr>\n  </tbody>\n</table>\n<p>4173356 rows × 6 columns</p>\n</div>"
     },
     "execution_count": 16,
     "metadata": {},
     "output_type": "execute_result"
    }
   ],
   "source": [
    "expanded_df"
   ],
   "metadata": {
    "collapsed": false,
    "ExecuteTime": {
     "end_time": "2023-09-05T16:37:59.737456Z",
     "start_time": "2023-09-05T16:37:59.724416Z"
    }
   }
  },
  {
   "cell_type": "code",
   "execution_count": 17,
   "metadata": {
    "ExecuteTime": {
     "end_time": "2023-09-05T16:38:01.140029Z",
     "start_time": "2023-09-05T16:37:59.764093Z"
    }
   },
   "outputs": [],
   "source": [
    "expanded_df = expanded_df.drop_duplicates()\n",
    "expanded_df = expanded_df.rename(columns={'avg_pts': 'avg_pts_ref'})"
   ]
  },
  {
   "cell_type": "code",
   "execution_count": 18,
   "metadata": {
    "ExecuteTime": {
     "end_time": "2023-09-05T16:38:01.349456Z",
     "start_time": "2023-09-05T16:38:01.171272Z"
    }
   },
   "outputs": [],
   "source": [
    "avg = combined.groupby('team_abbreviation')['pts'].mean().reset_index()\n",
    "avg = avg.rename(columns={'pts': 'avg_score'})"
   ]
  },
  {
   "cell_type": "code",
   "execution_count": 19,
   "metadata": {
    "ExecuteTime": {
     "end_time": "2023-09-05T16:38:01.349878Z",
     "start_time": "2023-09-05T16:38:01.347710Z"
    }
   },
   "outputs": [],
   "source": [
    "expanded_df = expanded_df.merge(avg, on='team_abbreviation', how='left')\n",
    "\n",
    "# Rename the 'avg_score' column from 'new_table' to 'avg_team_score'\n",
    "expanded_df = expanded_df.rename(columns={'avg_score': 'avg_pts_team'})"
   ]
  },
  {
   "cell_type": "code",
   "execution_count": 20,
   "metadata": {
    "ExecuteTime": {
     "end_time": "2023-09-05T16:38:01.350117Z",
     "start_time": "2023-09-05T16:38:01.347908Z"
    }
   },
   "outputs": [],
   "source": [
    "expanded_df['score_difference'] = expanded_df['avg_pts_ref'] - expanded_df['avg_pts_team']\n",
    "expanded_df['abs_score_difference'] = expanded_df['score_difference'].abs()"
   ]
  },
  {
   "cell_type": "code",
   "execution_count": 21,
   "metadata": {
    "ExecuteTime": {
     "end_time": "2023-09-05T16:38:01.350210Z",
     "start_time": "2023-09-05T16:38:01.347985Z"
    }
   },
   "outputs": [],
   "source": [
    "expanded_df_30 = expanded_df[expanded_df['num_games'] > 30].reset_index()\n",
    "expanded_df_30 = expanded_df_30.sort_values(by='abs_score_difference', ascending=False)"
   ]
  },
  {
   "cell_type": "code",
   "execution_count": 22,
   "metadata": {
    "ExecuteTime": {
     "end_time": "2023-09-05T16:38:01.350538Z",
     "start_time": "2023-09-05T16:38:01.348077Z"
    }
   },
   "outputs": [
    {
     "data": {
      "text/plain": "     Team first_name  last_name            Full Name  Games  Team Average  \\\n1700  WAS  Gediminas  Petraitis  Gediminas Petraitis     33    101.944863   \n954   MIN      Aaron      Smith          Aaron Smith     31    101.570768   \n1677  LAC     Dedric     Taylor        Dedric Taylor     36    102.615403   \n1699  POR  Gediminas  Petraitis  Gediminas Petraitis     36    101.471829   \n1587  POR      Kevin      Scott          Kevin Scott     39    101.471829   \n1704  MIL      Tyler       Ford           Tyler Ford     32    102.275704   \n334   LAC      Kevin       Fehr           Kevin Fehr     42    102.615403   \n1702  IND      Tyler       Ford           Tyler Ford     34    101.374695   \n1674  SAC   Mitchell      Ervin       Mitchell Ervin     31    103.970955   \n1673  PHI   Mitchell      Ervin       Mitchell Ervin     32    100.098025   \n\n      Ref Average  Difference  Absolute Difference  \n1700   117.696970   15.752107            15.752107  \n954    115.000000   13.429232            13.429232  \n1677   115.027778   12.412375            12.412375  \n1699   113.694444   12.222615            12.222615  \n1587   112.974359   11.502530            11.502530  \n1704   112.937500   10.661796            10.661796  \n334     92.000000  -10.615403            10.615403  \n1702   111.882353   10.507658            10.507658  \n1674   114.193548   10.222593            10.222593  \n1673   110.093750    9.995725             9.995725  ",
      "text/html": "<div>\n<style scoped>\n    .dataframe tbody tr th:only-of-type {\n        vertical-align: middle;\n    }\n\n    .dataframe tbody tr th {\n        vertical-align: top;\n    }\n\n    .dataframe thead th {\n        text-align: right;\n    }\n</style>\n<table border=\"1\" class=\"dataframe\">\n  <thead>\n    <tr style=\"text-align: right;\">\n      <th></th>\n      <th>Team</th>\n      <th>first_name</th>\n      <th>last_name</th>\n      <th>Full Name</th>\n      <th>Games</th>\n      <th>Team Average</th>\n      <th>Ref Average</th>\n      <th>Difference</th>\n      <th>Absolute Difference</th>\n    </tr>\n  </thead>\n  <tbody>\n    <tr>\n      <th>1700</th>\n      <td>WAS</td>\n      <td>Gediminas</td>\n      <td>Petraitis</td>\n      <td>Gediminas Petraitis</td>\n      <td>33</td>\n      <td>101.944863</td>\n      <td>117.696970</td>\n      <td>15.752107</td>\n      <td>15.752107</td>\n    </tr>\n    <tr>\n      <th>954</th>\n      <td>MIN</td>\n      <td>Aaron</td>\n      <td>Smith</td>\n      <td>Aaron Smith</td>\n      <td>31</td>\n      <td>101.570768</td>\n      <td>115.000000</td>\n      <td>13.429232</td>\n      <td>13.429232</td>\n    </tr>\n    <tr>\n      <th>1677</th>\n      <td>LAC</td>\n      <td>Dedric</td>\n      <td>Taylor</td>\n      <td>Dedric Taylor</td>\n      <td>36</td>\n      <td>102.615403</td>\n      <td>115.027778</td>\n      <td>12.412375</td>\n      <td>12.412375</td>\n    </tr>\n    <tr>\n      <th>1699</th>\n      <td>POR</td>\n      <td>Gediminas</td>\n      <td>Petraitis</td>\n      <td>Gediminas Petraitis</td>\n      <td>36</td>\n      <td>101.471829</td>\n      <td>113.694444</td>\n      <td>12.222615</td>\n      <td>12.222615</td>\n    </tr>\n    <tr>\n      <th>1587</th>\n      <td>POR</td>\n      <td>Kevin</td>\n      <td>Scott</td>\n      <td>Kevin Scott</td>\n      <td>39</td>\n      <td>101.471829</td>\n      <td>112.974359</td>\n      <td>11.502530</td>\n      <td>11.502530</td>\n    </tr>\n    <tr>\n      <th>1704</th>\n      <td>MIL</td>\n      <td>Tyler</td>\n      <td>Ford</td>\n      <td>Tyler Ford</td>\n      <td>32</td>\n      <td>102.275704</td>\n      <td>112.937500</td>\n      <td>10.661796</td>\n      <td>10.661796</td>\n    </tr>\n    <tr>\n      <th>334</th>\n      <td>LAC</td>\n      <td>Kevin</td>\n      <td>Fehr</td>\n      <td>Kevin Fehr</td>\n      <td>42</td>\n      <td>102.615403</td>\n      <td>92.000000</td>\n      <td>-10.615403</td>\n      <td>10.615403</td>\n    </tr>\n    <tr>\n      <th>1702</th>\n      <td>IND</td>\n      <td>Tyler</td>\n      <td>Ford</td>\n      <td>Tyler Ford</td>\n      <td>34</td>\n      <td>101.374695</td>\n      <td>111.882353</td>\n      <td>10.507658</td>\n      <td>10.507658</td>\n    </tr>\n    <tr>\n      <th>1674</th>\n      <td>SAC</td>\n      <td>Mitchell</td>\n      <td>Ervin</td>\n      <td>Mitchell Ervin</td>\n      <td>31</td>\n      <td>103.970955</td>\n      <td>114.193548</td>\n      <td>10.222593</td>\n      <td>10.222593</td>\n    </tr>\n    <tr>\n      <th>1673</th>\n      <td>PHI</td>\n      <td>Mitchell</td>\n      <td>Ervin</td>\n      <td>Mitchell Ervin</td>\n      <td>32</td>\n      <td>100.098025</td>\n      <td>110.093750</td>\n      <td>9.995725</td>\n      <td>9.995725</td>\n    </tr>\n  </tbody>\n</table>\n</div>"
     },
     "execution_count": 22,
     "metadata": {},
     "output_type": "execute_result"
    }
   ],
   "source": [
    "diagram = expanded_df_30.head(10)[['team_abbreviation', 'first_name', 'last_name', 'num_games', 'avg_pts_team', 'avg_pts_ref', 'score_difference', 'abs_score_difference']]\n",
    "diagram.insert(3, 'Full Name', diagram['first_name'] + ' ' + diagram['last_name'])\n",
    "\n",
    "diagram = diagram.rename(columns={\n",
    "    'team_abbreviation': 'Team',\n",
    "    'num_games': 'Games',\n",
    "    'avg_pts_team': 'Team Average',\n",
    "    'avg_pts_ref': 'Ref Average',\n",
    "    'score_difference': 'Difference',\n",
    "    'abs_score_difference': 'Absolute Difference'\n",
    "})\n",
    "diagram"
   ]
  },
  {
   "cell_type": "code",
   "execution_count": 23,
   "metadata": {
    "ExecuteTime": {
     "end_time": "2023-09-05T16:38:01.350863Z",
     "start_time": "2023-09-05T16:38:01.348269Z"
    }
   },
   "outputs": [],
   "source": [
    "Ged_Games = combined[(combined['first_name']=='Gediminas') & (combined['team_abbreviation']=='WAS')][['game_date','pts']]\n",
    "WAS = combined[combined['team_abbreviation']=='WAS'][['game_date','pts']]\n",
    "\n",
    "Ged_Games = Ged_Games.drop_duplicates()\n",
    "WAS = WAS.drop_duplicates()\n",
    "\n",
    "WAS['game_date'] = pd.to_datetime(WAS['game_date'])\n",
    "Ged_Games['game_date'] = pd.to_datetime(Ged_Games['game_date'])"
   ]
  },
  {
   "cell_type": "code",
   "execution_count": 24,
   "metadata": {
    "ExecuteTime": {
     "end_time": "2023-09-05T16:38:01.351047Z",
     "start_time": "2023-09-05T16:38:01.348399Z"
    }
   },
   "outputs": [],
   "source": [
    "Ged_Games.to_csv('Ged_Games.csv')\n",
    "WAS.to_csv('WAS.csv')"
   ]
  },
  {
   "cell_type": "code",
   "execution_count": 25,
   "metadata": {
    "ExecuteTime": {
     "end_time": "2023-09-05T16:38:01.351207Z",
     "start_time": "2023-09-05T16:38:01.348452Z"
    }
   },
   "outputs": [],
   "source": [
    "diff = expanded_df_30['score_difference'].round().astype(int)"
   ]
  },
  {
   "cell_type": "code",
   "execution_count": 26,
   "metadata": {
    "ExecuteTime": {
     "end_time": "2023-09-05T16:38:01.379516Z",
     "start_time": "2023-09-05T16:38:01.353043Z"
    }
   },
   "outputs": [],
   "source": [
    "diff.to_csv('diff.csv')"
   ]
  },
  {
   "cell_type": "code",
   "execution_count": 27,
   "metadata": {
    "ExecuteTime": {
     "end_time": "2023-09-05T16:38:01.446624Z",
     "start_time": "2023-09-05T16:38:01.371159Z"
    }
   },
   "outputs": [],
   "source": [
    "combined['game_date'] = pd.to_datetime(combined['game_date'])\n",
    "combined['year'] = combined['game_date'].dt.year"
   ]
  },
  {
   "cell_type": "code",
   "execution_count": 28,
   "metadata": {
    "ExecuteTime": {
     "end_time": "2023-09-05T16:38:01.537562Z",
     "start_time": "2023-09-05T16:38:01.423967Z"
    }
   },
   "outputs": [],
   "source": [
    "avg2 = combined.groupby(['year', 'team_abbreviation'])['pts'].mean().reset_index()\n",
    "avg2 = avg2.rename(columns={'pts': 'avg_score'})"
   ]
  },
  {
   "cell_type": "code",
   "execution_count": 29,
   "metadata": {
    "ExecuteTime": {
     "end_time": "2023-09-05T16:38:01.568416Z",
     "start_time": "2023-09-05T16:38:01.459501Z"
    }
   },
   "outputs": [],
   "source": [
    "combined = pd.merge(combined, avg2,  how='left', left_on=['year','team_abbreviation'], right_on = ['year','team_abbreviation'])\n",
    "combined['score_diff'] = combined['pts'] - combined['avg_score']"
   ]
  },
  {
   "cell_type": "code",
   "execution_count": 30,
   "metadata": {
    "ExecuteTime": {
     "end_time": "2023-09-05T16:38:01.613100Z",
     "start_time": "2023-09-05T16:38:01.585886Z"
    }
   },
   "outputs": [],
   "source": [
    "avg_diff = combined.groupby(['official_id', 'team_abbreviation'])['score_diff'].mean().reset_index()"
   ]
  },
  {
   "cell_type": "code",
   "execution_count": 31,
   "metadata": {
    "ExecuteTime": {
     "end_time": "2023-09-05T16:38:01.704825Z",
     "start_time": "2023-09-05T16:38:01.631601Z"
    }
   },
   "outputs": [],
   "source": [
    "num_games = combined.groupby(['official_id', 'team_abbreviation']).size().reset_index(name='num_games')\n",
    "\n",
    "referee_names = combined[['official_id', 'first_name', 'last_name']].drop_duplicates()\n",
    "referee_names['referee_name'] = referee_names['first_name'] + ' ' + referee_names['last_name']\n",
    "referee_names = referee_names[['official_id', 'referee_name']].drop_duplicates()\n",
    "\n",
    "avg_diff = pd.merge(avg_diff, num_games,  how='left', on=['official_id', 'team_abbreviation'])\n",
    "avg_diff = pd.merge(avg_diff, referee_names, how='left', on='official_id')\n",
    "avg_diff['abs_score_difference'] = avg_diff['score_diff'].abs()"
   ]
  },
  {
   "cell_type": "code",
   "execution_count": 32,
   "metadata": {
    "ExecuteTime": {
     "end_time": "2023-09-05T16:38:01.720884Z",
     "start_time": "2023-09-05T16:38:01.715457Z"
    }
   },
   "outputs": [
    {
     "data": {
      "text/plain": "      team_abbreviation     game_id  game_date official_id     team_id  pts  \\\n29220               NJN  0021100360 2012-02-06      202049  1610612751   87   \n\n      first_name last_name  year  avg_score  score_diff  \n29220        Ben    Taylor  2012  93.494318   -6.494318  ",
      "text/html": "<div>\n<style scoped>\n    .dataframe tbody tr th:only-of-type {\n        vertical-align: middle;\n    }\n\n    .dataframe tbody tr th {\n        vertical-align: top;\n    }\n\n    .dataframe thead th {\n        text-align: right;\n    }\n</style>\n<table border=\"1\" class=\"dataframe\">\n  <thead>\n    <tr style=\"text-align: right;\">\n      <th></th>\n      <th>team_abbreviation</th>\n      <th>game_id</th>\n      <th>game_date</th>\n      <th>official_id</th>\n      <th>team_id</th>\n      <th>pts</th>\n      <th>first_name</th>\n      <th>last_name</th>\n      <th>year</th>\n      <th>avg_score</th>\n      <th>score_diff</th>\n    </tr>\n  </thead>\n  <tbody>\n    <tr>\n      <th>29220</th>\n      <td>NJN</td>\n      <td>0021100360</td>\n      <td>2012-02-06</td>\n      <td>202049</td>\n      <td>1610612751</td>\n      <td>87</td>\n      <td>Ben</td>\n      <td>Taylor</td>\n      <td>2012</td>\n      <td>93.494318</td>\n      <td>-6.494318</td>\n    </tr>\n  </tbody>\n</table>\n</div>"
     },
     "execution_count": 32,
     "metadata": {},
     "output_type": "execute_result"
    }
   ],
   "source": [
    "combined[(combined['team_abbreviation'] == 'NJN') & (combined['official_id'] == '202049')]"
   ]
  },
  {
   "cell_type": "code",
   "execution_count": 33,
   "outputs": [
    {
     "data": {
      "text/plain": "     official_id team_abbreviation  score_diff  num_games referee_name  \\\n0         101283               ATL    0.164631         61  Brian Forte   \n1         101283               BKN   -0.919404         40  Brian Forte   \n2         101283               BOS   -0.895299         63  Brian Forte   \n3         101283               CHA   -2.453807         55  Brian Forte   \n4         101283               CHI   -1.350248         59  Brian Forte   \n...          ...               ...         ...        ...          ...   \n2847        2882               SAS    1.309160         61  Sean Wright   \n2848        2882               SEA   -6.851104         10  Sean Wright   \n2849        2882               TOR    1.346268         65  Sean Wright   \n2850        2882               UTA   -0.349890         56  Sean Wright   \n2851        2882               WAS    1.651958         66  Sean Wright   \n\n      abs_score_difference  \n0                 0.164631  \n1                 0.919404  \n2                 0.895299  \n3                 2.453807  \n4                 1.350248  \n...                    ...  \n2847              1.309160  \n2848              6.851104  \n2849              1.346268  \n2850              0.349890  \n2851              1.651958  \n\n[2852 rows x 6 columns]",
      "text/html": "<div>\n<style scoped>\n    .dataframe tbody tr th:only-of-type {\n        vertical-align: middle;\n    }\n\n    .dataframe tbody tr th {\n        vertical-align: top;\n    }\n\n    .dataframe thead th {\n        text-align: right;\n    }\n</style>\n<table border=\"1\" class=\"dataframe\">\n  <thead>\n    <tr style=\"text-align: right;\">\n      <th></th>\n      <th>official_id</th>\n      <th>team_abbreviation</th>\n      <th>score_diff</th>\n      <th>num_games</th>\n      <th>referee_name</th>\n      <th>abs_score_difference</th>\n    </tr>\n  </thead>\n  <tbody>\n    <tr>\n      <th>0</th>\n      <td>101283</td>\n      <td>ATL</td>\n      <td>0.164631</td>\n      <td>61</td>\n      <td>Brian Forte</td>\n      <td>0.164631</td>\n    </tr>\n    <tr>\n      <th>1</th>\n      <td>101283</td>\n      <td>BKN</td>\n      <td>-0.919404</td>\n      <td>40</td>\n      <td>Brian Forte</td>\n      <td>0.919404</td>\n    </tr>\n    <tr>\n      <th>2</th>\n      <td>101283</td>\n      <td>BOS</td>\n      <td>-0.895299</td>\n      <td>63</td>\n      <td>Brian Forte</td>\n      <td>0.895299</td>\n    </tr>\n    <tr>\n      <th>3</th>\n      <td>101283</td>\n      <td>CHA</td>\n      <td>-2.453807</td>\n      <td>55</td>\n      <td>Brian Forte</td>\n      <td>2.453807</td>\n    </tr>\n    <tr>\n      <th>4</th>\n      <td>101283</td>\n      <td>CHI</td>\n      <td>-1.350248</td>\n      <td>59</td>\n      <td>Brian Forte</td>\n      <td>1.350248</td>\n    </tr>\n    <tr>\n      <th>...</th>\n      <td>...</td>\n      <td>...</td>\n      <td>...</td>\n      <td>...</td>\n      <td>...</td>\n      <td>...</td>\n    </tr>\n    <tr>\n      <th>2847</th>\n      <td>2882</td>\n      <td>SAS</td>\n      <td>1.309160</td>\n      <td>61</td>\n      <td>Sean Wright</td>\n      <td>1.309160</td>\n    </tr>\n    <tr>\n      <th>2848</th>\n      <td>2882</td>\n      <td>SEA</td>\n      <td>-6.851104</td>\n      <td>10</td>\n      <td>Sean Wright</td>\n      <td>6.851104</td>\n    </tr>\n    <tr>\n      <th>2849</th>\n      <td>2882</td>\n      <td>TOR</td>\n      <td>1.346268</td>\n      <td>65</td>\n      <td>Sean Wright</td>\n      <td>1.346268</td>\n    </tr>\n    <tr>\n      <th>2850</th>\n      <td>2882</td>\n      <td>UTA</td>\n      <td>-0.349890</td>\n      <td>56</td>\n      <td>Sean Wright</td>\n      <td>0.349890</td>\n    </tr>\n    <tr>\n      <th>2851</th>\n      <td>2882</td>\n      <td>WAS</td>\n      <td>1.651958</td>\n      <td>66</td>\n      <td>Sean Wright</td>\n      <td>1.651958</td>\n    </tr>\n  </tbody>\n</table>\n<p>2852 rows × 6 columns</p>\n</div>"
     },
     "execution_count": 33,
     "metadata": {},
     "output_type": "execute_result"
    }
   ],
   "source": [
    "avg_diff"
   ],
   "metadata": {
    "collapsed": false,
    "ExecuteTime": {
     "end_time": "2023-09-05T16:38:01.725605Z",
     "start_time": "2023-09-05T16:38:01.720671Z"
    }
   }
  },
  {
   "cell_type": "code",
   "execution_count": 34,
   "outputs": [],
   "source": [
    "avg_diff_30 = avg_diff[avg_diff['num_games'] > 30]\n",
    "avg_diff_30 = avg_diff_30.sort_values(by='abs_score_difference', ascending=False)"
   ],
   "metadata": {
    "collapsed": false,
    "ExecuteTime": {
     "end_time": "2023-09-05T16:38:01.744734Z",
     "start_time": "2023-09-05T16:38:01.726296Z"
    }
   }
  },
  {
   "cell_type": "code",
   "execution_count": 35,
   "metadata": {
    "ExecuteTime": {
     "end_time": "2023-09-05T16:38:01.783766Z",
     "start_time": "2023-09-05T16:38:01.731146Z"
    }
   },
   "outputs": [
    {
     "data": {
      "text/plain": "     official_id team_abbreviation  score_diff  num_games  \\\n2536        2148               NYK    7.457746         49   \n2483      204058               WAS    6.929190         33   \n2232      202041               POR    5.955241         39   \n1206        1200               LAL    5.938039         35   \n206         1150               BOS    5.602471         32   \n...          ...               ...         ...        ...   \n1457        1662               CHA    0.005276         69   \n512         1162               CLE    0.003255         81   \n636         1167               PHX   -0.002485         36   \n671         1168               PHI    0.001987         51   \n1502        1664               LAL   -0.001009         71   \n\n             referee_name  abs_score_difference  \n2536          Mark Ayotte              7.457746  \n2483  Gediminas Petraitis              6.929190  \n2232          Kevin Scott              5.955241  \n1206         Greg Willard              5.938039  \n206           Jimmy Clark              5.602471  \n...                   ...                   ...  \n1457         Bill Kennedy              0.005276  \n512          Scott Foster              0.003255  \n636           Steve Javie              0.002485  \n671           David Jones              0.001987  \n1502       Gary Zielinski              0.001009  \n\n[1980 rows x 6 columns]",
      "text/html": "<div>\n<style scoped>\n    .dataframe tbody tr th:only-of-type {\n        vertical-align: middle;\n    }\n\n    .dataframe tbody tr th {\n        vertical-align: top;\n    }\n\n    .dataframe thead th {\n        text-align: right;\n    }\n</style>\n<table border=\"1\" class=\"dataframe\">\n  <thead>\n    <tr style=\"text-align: right;\">\n      <th></th>\n      <th>official_id</th>\n      <th>team_abbreviation</th>\n      <th>score_diff</th>\n      <th>num_games</th>\n      <th>referee_name</th>\n      <th>abs_score_difference</th>\n    </tr>\n  </thead>\n  <tbody>\n    <tr>\n      <th>2536</th>\n      <td>2148</td>\n      <td>NYK</td>\n      <td>7.457746</td>\n      <td>49</td>\n      <td>Mark Ayotte</td>\n      <td>7.457746</td>\n    </tr>\n    <tr>\n      <th>2483</th>\n      <td>204058</td>\n      <td>WAS</td>\n      <td>6.929190</td>\n      <td>33</td>\n      <td>Gediminas Petraitis</td>\n      <td>6.929190</td>\n    </tr>\n    <tr>\n      <th>2232</th>\n      <td>202041</td>\n      <td>POR</td>\n      <td>5.955241</td>\n      <td>39</td>\n      <td>Kevin Scott</td>\n      <td>5.955241</td>\n    </tr>\n    <tr>\n      <th>1206</th>\n      <td>1200</td>\n      <td>LAL</td>\n      <td>5.938039</td>\n      <td>35</td>\n      <td>Greg Willard</td>\n      <td>5.938039</td>\n    </tr>\n    <tr>\n      <th>206</th>\n      <td>1150</td>\n      <td>BOS</td>\n      <td>5.602471</td>\n      <td>32</td>\n      <td>Jimmy Clark</td>\n      <td>5.602471</td>\n    </tr>\n    <tr>\n      <th>...</th>\n      <td>...</td>\n      <td>...</td>\n      <td>...</td>\n      <td>...</td>\n      <td>...</td>\n      <td>...</td>\n    </tr>\n    <tr>\n      <th>1457</th>\n      <td>1662</td>\n      <td>CHA</td>\n      <td>0.005276</td>\n      <td>69</td>\n      <td>Bill Kennedy</td>\n      <td>0.005276</td>\n    </tr>\n    <tr>\n      <th>512</th>\n      <td>1162</td>\n      <td>CLE</td>\n      <td>0.003255</td>\n      <td>81</td>\n      <td>Scott Foster</td>\n      <td>0.003255</td>\n    </tr>\n    <tr>\n      <th>636</th>\n      <td>1167</td>\n      <td>PHX</td>\n      <td>-0.002485</td>\n      <td>36</td>\n      <td>Steve Javie</td>\n      <td>0.002485</td>\n    </tr>\n    <tr>\n      <th>671</th>\n      <td>1168</td>\n      <td>PHI</td>\n      <td>0.001987</td>\n      <td>51</td>\n      <td>David Jones</td>\n      <td>0.001987</td>\n    </tr>\n    <tr>\n      <th>1502</th>\n      <td>1664</td>\n      <td>LAL</td>\n      <td>-0.001009</td>\n      <td>71</td>\n      <td>Gary Zielinski</td>\n      <td>0.001009</td>\n    </tr>\n  </tbody>\n</table>\n<p>1980 rows × 6 columns</p>\n</div>"
     },
     "execution_count": 35,
     "metadata": {},
     "output_type": "execute_result"
    }
   ],
   "source": [
    "avg_diff_30"
   ]
  },
  {
   "cell_type": "code",
   "execution_count": 36,
   "outputs": [
    {
     "data": {
      "text/plain": "     Team         referee_name  Games  Difference  Absolute Difference\n2536  NYK          Mark Ayotte     49    7.457746             7.457746\n2483  WAS  Gediminas Petraitis     33    6.929190             6.929190\n2232  POR          Kevin Scott     39    5.955241             5.955241\n1206  LAL         Greg Willard     35    5.938039             5.938039\n206   BOS          Jimmy Clark     32    5.602471             5.602471\n644   WAS          Steve Javie     31   -5.506602             5.506602\n2222  MIL          Kevin Scott     43    5.454770             5.454770\n617   DAL          Steve Javie     38   -5.255949             5.255949\n2765  LAL        Olandis Poole     32    5.251950             5.251950\n2293  ORL      Scott Twardoski     37   -5.110032             5.110032",
      "text/html": "<div>\n<style scoped>\n    .dataframe tbody tr th:only-of-type {\n        vertical-align: middle;\n    }\n\n    .dataframe tbody tr th {\n        vertical-align: top;\n    }\n\n    .dataframe thead th {\n        text-align: right;\n    }\n</style>\n<table border=\"1\" class=\"dataframe\">\n  <thead>\n    <tr style=\"text-align: right;\">\n      <th></th>\n      <th>Team</th>\n      <th>referee_name</th>\n      <th>Games</th>\n      <th>Difference</th>\n      <th>Absolute Difference</th>\n    </tr>\n  </thead>\n  <tbody>\n    <tr>\n      <th>2536</th>\n      <td>NYK</td>\n      <td>Mark Ayotte</td>\n      <td>49</td>\n      <td>7.457746</td>\n      <td>7.457746</td>\n    </tr>\n    <tr>\n      <th>2483</th>\n      <td>WAS</td>\n      <td>Gediminas Petraitis</td>\n      <td>33</td>\n      <td>6.929190</td>\n      <td>6.929190</td>\n    </tr>\n    <tr>\n      <th>2232</th>\n      <td>POR</td>\n      <td>Kevin Scott</td>\n      <td>39</td>\n      <td>5.955241</td>\n      <td>5.955241</td>\n    </tr>\n    <tr>\n      <th>1206</th>\n      <td>LAL</td>\n      <td>Greg Willard</td>\n      <td>35</td>\n      <td>5.938039</td>\n      <td>5.938039</td>\n    </tr>\n    <tr>\n      <th>206</th>\n      <td>BOS</td>\n      <td>Jimmy Clark</td>\n      <td>32</td>\n      <td>5.602471</td>\n      <td>5.602471</td>\n    </tr>\n    <tr>\n      <th>644</th>\n      <td>WAS</td>\n      <td>Steve Javie</td>\n      <td>31</td>\n      <td>-5.506602</td>\n      <td>5.506602</td>\n    </tr>\n    <tr>\n      <th>2222</th>\n      <td>MIL</td>\n      <td>Kevin Scott</td>\n      <td>43</td>\n      <td>5.454770</td>\n      <td>5.454770</td>\n    </tr>\n    <tr>\n      <th>617</th>\n      <td>DAL</td>\n      <td>Steve Javie</td>\n      <td>38</td>\n      <td>-5.255949</td>\n      <td>5.255949</td>\n    </tr>\n    <tr>\n      <th>2765</th>\n      <td>LAL</td>\n      <td>Olandis Poole</td>\n      <td>32</td>\n      <td>5.251950</td>\n      <td>5.251950</td>\n    </tr>\n    <tr>\n      <th>2293</th>\n      <td>ORL</td>\n      <td>Scott Twardoski</td>\n      <td>37</td>\n      <td>-5.110032</td>\n      <td>5.110032</td>\n    </tr>\n  </tbody>\n</table>\n</div>"
     },
     "execution_count": 36,
     "metadata": {},
     "output_type": "execute_result"
    }
   ],
   "source": [
    "\n",
    "diagram2 = avg_diff_30.head(10)[['team_abbreviation', 'referee_name', 'num_games', 'score_diff', 'abs_score_difference']]\n",
    "\n",
    "diagram2 = diagram2.rename(columns={\n",
    "    'team_abbreviation': 'Team',\n",
    "    'num_games': 'Games',\n",
    "    'score_diff': 'Difference',\n",
    "    'abs_score_difference': 'Absolute Difference'\n",
    "})\n",
    "diagram2"
   ],
   "metadata": {
    "collapsed": false,
    "ExecuteTime": {
     "end_time": "2023-09-05T16:38:01.813460Z",
     "start_time": "2023-09-05T16:38:01.745201Z"
    }
   }
  },
  {
   "cell_type": "code",
   "execution_count": 37,
   "outputs": [],
   "source": [
    "diagram2.to_csv('diagram2.csv')"
   ],
   "metadata": {
    "collapsed": false,
    "ExecuteTime": {
     "end_time": "2023-09-05T16:38:01.813806Z",
     "start_time": "2023-09-05T16:38:01.749249Z"
    }
   }
  },
  {
   "cell_type": "code",
   "execution_count": 38,
   "outputs": [],
   "source": [
    "Ayotte_Games = combined[(combined['first_name']=='Mark') & (combined['last_name']=='Ayotte') & ((combined['team_abbreviation']=='NYK'))][['game_date','pts']]\n",
    "NYK = combined[combined['team_abbreviation']=='NYK'][['game_date','pts']]\n",
    "\n",
    "Ayotte_Games = Ayotte_Games.drop_duplicates()\n",
    "NYK = NYK.drop_duplicates()\n",
    "\n",
    "NYK['game_date'] = pd.to_datetime(NYK['game_date'])\n",
    "Ayotte_Games['game_date'] = pd.to_datetime(Ayotte_Games['game_date'])"
   ],
   "metadata": {
    "collapsed": false,
    "ExecuteTime": {
     "end_time": "2023-09-05T16:38:01.872485Z",
     "start_time": "2023-09-05T16:38:01.769426Z"
    }
   }
  },
  {
   "cell_type": "code",
   "execution_count": 39,
   "outputs": [],
   "source": [
    "Ayotte_Games.to_csv('Ayotte_Games.csv')\n",
    "NYK.to_csv('NYK.csv')"
   ],
   "metadata": {
    "collapsed": false,
    "ExecuteTime": {
     "end_time": "2023-09-05T16:38:01.872783Z",
     "start_time": "2023-09-05T16:38:01.801597Z"
    }
   }
  },
  {
   "cell_type": "code",
   "execution_count": 40,
   "outputs": [
    {
     "data": {
      "text/plain": "Empty DataFrame\nColumns: [game_date, pts, official_id, first_name, last_name]\nIndex: []",
      "text/html": "<div>\n<style scoped>\n    .dataframe tbody tr th:only-of-type {\n        vertical-align: middle;\n    }\n\n    .dataframe tbody tr th {\n        vertical-align: top;\n    }\n\n    .dataframe thead th {\n        text-align: right;\n    }\n</style>\n<table border=\"1\" class=\"dataframe\">\n  <thead>\n    <tr style=\"text-align: right;\">\n      <th></th>\n      <th>game_date</th>\n      <th>pts</th>\n      <th>official_id</th>\n      <th>first_name</th>\n      <th>last_name</th>\n    </tr>\n  </thead>\n  <tbody>\n  </tbody>\n</table>\n</div>"
     },
     "execution_count": 40,
     "metadata": {},
     "output_type": "execute_result"
    }
   ],
   "source": [
    "H = combined[(combined['last_name']=='Haskill')][['game_date','pts','official_id','first_name','last_name']]\n",
    "H"
   ],
   "metadata": {
    "collapsed": false,
    "ExecuteTime": {
     "end_time": "2023-09-05T16:38:01.872985Z",
     "start_time": "2023-09-05T16:38:01.806984Z"
    }
   }
  },
  {
   "cell_type": "code",
   "execution_count": 41,
   "outputs": [],
   "source": [
    "# Load the data\n",
    "data = pd.read_csv('combined_all3.csv')"
   ],
   "metadata": {
    "collapsed": false,
    "ExecuteTime": {
     "end_time": "2023-09-05T16:38:01.963065Z",
     "start_time": "2023-09-05T16:38:01.811009Z"
    }
   }
  },
  {
   "cell_type": "code",
   "execution_count": 42,
   "outputs": [],
   "source": [
    "# List of columns that contain statistics\n",
    "stats_columns = ['fgm', 'fg_pct', 'fg3m', 'fg3_pct', 'ftm', 'ft_pct', 'oreb', 'dreb', 'reb', 'ast', 'stl', 'blk', 'tov', 'pf', 'pts']\n",
    "\n",
    "# Group by referee and aggregate the original data\n",
    "aggregated_raw_data = data.groupby(['first_name', 'last_name', 'official_id']).agg({**{col: 'mean' for col in stats_columns}, 'game_date': 'count'}).reset_index()\n",
    "aggregated_raw_data = aggregated_raw_data.rename(columns={'game_date': 'num_games'})"
   ],
   "metadata": {
    "collapsed": false,
    "ExecuteTime": {
     "end_time": "2023-09-05T16:38:01.997548Z",
     "start_time": "2023-09-05T16:38:01.948030Z"
    }
   }
  },
  {
   "cell_type": "code",
   "execution_count": 43,
   "outputs": [
    {
     "data": {
      "text/plain": "    first_name     last_name  official_id        fgm    fg_pct       fg3m  \\\n0        Aaron         Smith      1626302  40.705247  0.464247  11.689815   \n1         Andy          Nagy      1627534  41.215827  0.468018  12.449640   \n2      Anthony        Jordan         1169  35.318750  0.450831   5.409375   \n3       Ashley  Moyer-Gleich      1628953  40.943038  0.467633  11.943038   \n4          Ben        Taylor       202049  39.875746  0.464142  10.479125   \n..         ...           ...          ...        ...       ...        ...   \n151      Tyler     Mirkovich      1628482  41.062500  0.469375  12.500000   \n152      Tyler         Ricks      1627539  40.200000  0.458333  11.800000   \n153     Violet        Palmer         1185  36.562298  0.452925   6.356796   \n154   Vladimir  Voyard-Tadal      1626303  38.000000  0.448250   8.750000   \n155       Zach         Zarba         2534  38.115418  0.458182   8.228223   \n\n      fg3_pct        ftm    ft_pct       oreb       dreb        reb  \\\n0    0.362363  17.341049  0.774860  10.375000  33.841049  44.216049   \n1    0.363888  17.118705  0.782453  10.237410  33.910072  44.147482   \n2    0.367269  18.962500  0.754603  11.500000  29.278125  40.778125   \n3    0.364453  17.655063  0.775310  10.031646  34.000000  44.031646   \n4    0.357178  18.105368  0.768274  10.392644  33.082505  43.475149   \n..        ...        ...       ...        ...        ...        ...   \n151  0.348187  20.500000  0.793937  11.187500  32.750000  43.937500   \n152  0.352267  15.266667  0.783867  10.266667  34.333333  44.600000   \n153  0.355727  19.029935  0.759632  11.254045  30.619741  41.873786   \n154  0.335000  18.250000  0.764750   9.750000  32.750000  42.500000   \n155  0.356417  18.121516  0.762956  10.861498  31.695993  42.557491   \n\n           ast       stl       blk        tov         pf         pts  \\\n0    24.270062  7.743827  4.813272  14.092593  19.495370  110.441358   \n1    25.046763  7.654676  4.910072  13.935252  19.251799  112.000000   \n2    21.071875  7.809375  4.790625  15.059375  21.768750   95.009375   \n3    24.721519  7.765823  4.901899  14.417722  19.825949  111.484177   \n4    23.740557  7.552684  4.727634  14.287276  20.724652  108.335984   \n..         ...       ...       ...        ...        ...         ...   \n151  24.562500  7.562500  4.312500  14.562500  21.812500  115.125000   \n152  23.833333  8.266667  4.933333  13.466667  17.900000  107.466667   \n153  21.412621  7.499191  4.999191  14.676375  21.545307   98.511327   \n154  22.000000  7.375000  4.250000  13.750000  21.000000  103.000000   \n155  22.512195  7.425523  4.820122  13.981707  20.829268  102.580575   \n\n     num_games  \n0          648  \n1          278  \n2          320  \n3          316  \n4         1006  \n..         ...  \n151         16  \n152         30  \n153       1236  \n154          8  \n155       2296  \n\n[156 rows x 19 columns]",
      "text/html": "<div>\n<style scoped>\n    .dataframe tbody tr th:only-of-type {\n        vertical-align: middle;\n    }\n\n    .dataframe tbody tr th {\n        vertical-align: top;\n    }\n\n    .dataframe thead th {\n        text-align: right;\n    }\n</style>\n<table border=\"1\" class=\"dataframe\">\n  <thead>\n    <tr style=\"text-align: right;\">\n      <th></th>\n      <th>first_name</th>\n      <th>last_name</th>\n      <th>official_id</th>\n      <th>fgm</th>\n      <th>fg_pct</th>\n      <th>fg3m</th>\n      <th>fg3_pct</th>\n      <th>ftm</th>\n      <th>ft_pct</th>\n      <th>oreb</th>\n      <th>dreb</th>\n      <th>reb</th>\n      <th>ast</th>\n      <th>stl</th>\n      <th>blk</th>\n      <th>tov</th>\n      <th>pf</th>\n      <th>pts</th>\n      <th>num_games</th>\n    </tr>\n  </thead>\n  <tbody>\n    <tr>\n      <th>0</th>\n      <td>Aaron</td>\n      <td>Smith</td>\n      <td>1626302</td>\n      <td>40.705247</td>\n      <td>0.464247</td>\n      <td>11.689815</td>\n      <td>0.362363</td>\n      <td>17.341049</td>\n      <td>0.774860</td>\n      <td>10.375000</td>\n      <td>33.841049</td>\n      <td>44.216049</td>\n      <td>24.270062</td>\n      <td>7.743827</td>\n      <td>4.813272</td>\n      <td>14.092593</td>\n      <td>19.495370</td>\n      <td>110.441358</td>\n      <td>648</td>\n    </tr>\n    <tr>\n      <th>1</th>\n      <td>Andy</td>\n      <td>Nagy</td>\n      <td>1627534</td>\n      <td>41.215827</td>\n      <td>0.468018</td>\n      <td>12.449640</td>\n      <td>0.363888</td>\n      <td>17.118705</td>\n      <td>0.782453</td>\n      <td>10.237410</td>\n      <td>33.910072</td>\n      <td>44.147482</td>\n      <td>25.046763</td>\n      <td>7.654676</td>\n      <td>4.910072</td>\n      <td>13.935252</td>\n      <td>19.251799</td>\n      <td>112.000000</td>\n      <td>278</td>\n    </tr>\n    <tr>\n      <th>2</th>\n      <td>Anthony</td>\n      <td>Jordan</td>\n      <td>1169</td>\n      <td>35.318750</td>\n      <td>0.450831</td>\n      <td>5.409375</td>\n      <td>0.367269</td>\n      <td>18.962500</td>\n      <td>0.754603</td>\n      <td>11.500000</td>\n      <td>29.278125</td>\n      <td>40.778125</td>\n      <td>21.071875</td>\n      <td>7.809375</td>\n      <td>4.790625</td>\n      <td>15.059375</td>\n      <td>21.768750</td>\n      <td>95.009375</td>\n      <td>320</td>\n    </tr>\n    <tr>\n      <th>3</th>\n      <td>Ashley</td>\n      <td>Moyer-Gleich</td>\n      <td>1628953</td>\n      <td>40.943038</td>\n      <td>0.467633</td>\n      <td>11.943038</td>\n      <td>0.364453</td>\n      <td>17.655063</td>\n      <td>0.775310</td>\n      <td>10.031646</td>\n      <td>34.000000</td>\n      <td>44.031646</td>\n      <td>24.721519</td>\n      <td>7.765823</td>\n      <td>4.901899</td>\n      <td>14.417722</td>\n      <td>19.825949</td>\n      <td>111.484177</td>\n      <td>316</td>\n    </tr>\n    <tr>\n      <th>4</th>\n      <td>Ben</td>\n      <td>Taylor</td>\n      <td>202049</td>\n      <td>39.875746</td>\n      <td>0.464142</td>\n      <td>10.479125</td>\n      <td>0.357178</td>\n      <td>18.105368</td>\n      <td>0.768274</td>\n      <td>10.392644</td>\n      <td>33.082505</td>\n      <td>43.475149</td>\n      <td>23.740557</td>\n      <td>7.552684</td>\n      <td>4.727634</td>\n      <td>14.287276</td>\n      <td>20.724652</td>\n      <td>108.335984</td>\n      <td>1006</td>\n    </tr>\n    <tr>\n      <th>...</th>\n      <td>...</td>\n      <td>...</td>\n      <td>...</td>\n      <td>...</td>\n      <td>...</td>\n      <td>...</td>\n      <td>...</td>\n      <td>...</td>\n      <td>...</td>\n      <td>...</td>\n      <td>...</td>\n      <td>...</td>\n      <td>...</td>\n      <td>...</td>\n      <td>...</td>\n      <td>...</td>\n      <td>...</td>\n      <td>...</td>\n      <td>...</td>\n    </tr>\n    <tr>\n      <th>151</th>\n      <td>Tyler</td>\n      <td>Mirkovich</td>\n      <td>1628482</td>\n      <td>41.062500</td>\n      <td>0.469375</td>\n      <td>12.500000</td>\n      <td>0.348187</td>\n      <td>20.500000</td>\n      <td>0.793937</td>\n      <td>11.187500</td>\n      <td>32.750000</td>\n      <td>43.937500</td>\n      <td>24.562500</td>\n      <td>7.562500</td>\n      <td>4.312500</td>\n      <td>14.562500</td>\n      <td>21.812500</td>\n      <td>115.125000</td>\n      <td>16</td>\n    </tr>\n    <tr>\n      <th>152</th>\n      <td>Tyler</td>\n      <td>Ricks</td>\n      <td>1627539</td>\n      <td>40.200000</td>\n      <td>0.458333</td>\n      <td>11.800000</td>\n      <td>0.352267</td>\n      <td>15.266667</td>\n      <td>0.783867</td>\n      <td>10.266667</td>\n      <td>34.333333</td>\n      <td>44.600000</td>\n      <td>23.833333</td>\n      <td>8.266667</td>\n      <td>4.933333</td>\n      <td>13.466667</td>\n      <td>17.900000</td>\n      <td>107.466667</td>\n      <td>30</td>\n    </tr>\n    <tr>\n      <th>153</th>\n      <td>Violet</td>\n      <td>Palmer</td>\n      <td>1185</td>\n      <td>36.562298</td>\n      <td>0.452925</td>\n      <td>6.356796</td>\n      <td>0.355727</td>\n      <td>19.029935</td>\n      <td>0.759632</td>\n      <td>11.254045</td>\n      <td>30.619741</td>\n      <td>41.873786</td>\n      <td>21.412621</td>\n      <td>7.499191</td>\n      <td>4.999191</td>\n      <td>14.676375</td>\n      <td>21.545307</td>\n      <td>98.511327</td>\n      <td>1236</td>\n    </tr>\n    <tr>\n      <th>154</th>\n      <td>Vladimir</td>\n      <td>Voyard-Tadal</td>\n      <td>1626303</td>\n      <td>38.000000</td>\n      <td>0.448250</td>\n      <td>8.750000</td>\n      <td>0.335000</td>\n      <td>18.250000</td>\n      <td>0.764750</td>\n      <td>9.750000</td>\n      <td>32.750000</td>\n      <td>42.500000</td>\n      <td>22.000000</td>\n      <td>7.375000</td>\n      <td>4.250000</td>\n      <td>13.750000</td>\n      <td>21.000000</td>\n      <td>103.000000</td>\n      <td>8</td>\n    </tr>\n    <tr>\n      <th>155</th>\n      <td>Zach</td>\n      <td>Zarba</td>\n      <td>2534</td>\n      <td>38.115418</td>\n      <td>0.458182</td>\n      <td>8.228223</td>\n      <td>0.356417</td>\n      <td>18.121516</td>\n      <td>0.762956</td>\n      <td>10.861498</td>\n      <td>31.695993</td>\n      <td>42.557491</td>\n      <td>22.512195</td>\n      <td>7.425523</td>\n      <td>4.820122</td>\n      <td>13.981707</td>\n      <td>20.829268</td>\n      <td>102.580575</td>\n      <td>2296</td>\n    </tr>\n  </tbody>\n</table>\n<p>156 rows × 19 columns</p>\n</div>"
     },
     "execution_count": 43,
     "metadata": {},
     "output_type": "execute_result"
    }
   ],
   "source": [
    "aggregated_raw_data"
   ],
   "metadata": {
    "collapsed": false,
    "ExecuteTime": {
     "end_time": "2023-09-05T16:38:01.999582Z",
     "start_time": "2023-09-05T16:38:01.983136Z"
    }
   }
  },
  {
   "cell_type": "code",
   "execution_count": 44,
   "outputs": [],
   "source": [
    "# Normalize the aggregated data\n",
    "aggregated_raw_data[stats_columns] = (aggregated_raw_data[stats_columns] - aggregated_raw_data[stats_columns].mean()) / aggregated_raw_data[stats_columns].std()\n",
    "\n",
    "# Create a dataframe for means and standard deviations\n",
    "means = data[stats_columns].mean()\n",
    "stds = data[stats_columns].std()\n",
    "mean_std_df = pd.DataFrame({\n",
    "    'first_name': ['MEAN', 'STD_DEV'],\n",
    "    'last_name': ['', ''],\n",
    "    'official_id': ['', ''],\n",
    "    **{col: [means[col], stds[col]] for col in stats_columns},\n",
    "    'num_games': ['', '']\n",
    "})\n",
    "\n",
    "# Concatenate the mean_std_df with the aggregated raw data to create the final table\n",
    "final_table_corrected = pd.concat([mean_std_df, aggregated_raw_data], ignore_index=True)\n",
    "# Split the dataframe\n",
    "top_rows = final_table_corrected.iloc[:2]\n",
    "remaining_rows = final_table_corrected.iloc[2:]\n",
    "\n",
    "# Sort the remaining rows\n",
    "sorted_remaining_rows = remaining_rows.sort_values(by='num_games', ascending=False).reset_index(drop=True)\n",
    "\n",
    "# Concatenate them back together\n",
    "final_table_sorted = pd.concat([top_rows, sorted_remaining_rows], ignore_index=True)"
   ],
   "metadata": {
    "collapsed": false,
    "ExecuteTime": {
     "end_time": "2023-09-05T16:38:02.052254Z",
     "start_time": "2023-09-05T16:38:01.983580Z"
    }
   }
  },
  {
   "cell_type": "code",
   "execution_count": 45,
   "outputs": [
    {
     "data": {
      "text/plain": "['fgm',\n 'fg_pct',\n 'fg3m',\n 'fg3_pct',\n 'ftm',\n 'ft_pct',\n 'oreb',\n 'dreb',\n 'reb',\n 'ast',\n 'stl',\n 'blk',\n 'tov',\n 'pf',\n 'pts']"
     },
     "execution_count": 45,
     "metadata": {},
     "output_type": "execute_result"
    }
   ],
   "source": [
    "stats_columns"
   ],
   "metadata": {
    "collapsed": false,
    "ExecuteTime": {
     "end_time": "2023-09-05T16:38:02.052936Z",
     "start_time": "2023-09-05T16:38:02.012890Z"
    }
   }
  },
  {
   "cell_type": "code",
   "execution_count": 46,
   "outputs": [
    {
     "data": {
      "text/plain": "                 game_date team_abbrevation  official_id first_name  \\\n9      1996-11-19 00:00:00              ORL         1144        Ted   \n37     1997-02-21 00:00:00              LAL         1144        Ted   \n193    1999-12-15 00:00:00              VAN         1144        Ted   \n223    2000-04-02 00:00:00              LAL         1144        Ted   \n244    2000-11-11 00:00:00              IND         1144        Ted   \n...                    ...              ...          ...        ...   \n74522  2005-11-02 00:00:00              GSW         1144        Ted   \n74552  2005-11-04 00:00:00              DEN         1144        Ted   \n74609  2005-11-06 00:00:00              PHX         1144        Ted   \n74652  2005-11-09 00:00:00              IND         1144        Ted   \n74705  2005-11-11 00:00:00              BOS         1144        Ted   \n\n       last_name  fgm  fg_pct  fg3m  fg3_pct  ftm  ft_pct  oreb  dreb  reb  \\\n9      Bernhardt   27   0.355     6    0.333   28   0.757     7    24   31   \n37     Bernhardt   37   0.514     9    0.450   16   0.667    10    30   40   \n193    Bernhardt   37   0.430     6    0.400   26   0.743    12    43   55   \n223    Bernhardt   39   0.513     4    0.364   24   0.828    10    40   50   \n244    Bernhardt   35   0.443     6    0.375   18   0.643    14    41   55   \n...          ...  ...     ...   ...      ...  ...     ...   ...   ...  ...   \n74522  Bernhardt   39   0.419     3    0.300   16   0.762    20    27   47   \n74552  Bernhardt   29   0.333     3    0.231    7   0.350    16    28   44   \n74609  Bernhardt   44   0.444     7    0.438   23   0.793    20    26   46   \n74652  Bernhardt   34   0.459     3    0.273   19   0.679    14    33   47   \n74705  Bernhardt   40   0.563     6    0.400   17   0.773     4    37   41   \n\n       ast  stl  blk  tov  pf  pts  \n9       14   10    3   17  23   88  \n37      29    5   14   15  19   99  \n193     22    6    6   17  30  106  \n223     31    4    9    8  13  106  \n244     24    8    9   17  23   94  \n...    ...  ...  ...  ...  ..  ...  \n74522   21   12    3   22  35   97  \n74552   20    7   12   19  18   68  \n74609   28    9    2   10  18  118  \n74652   19    7    8   22  30   90  \n74705   19    5    4   17  20  103  \n\n[162 rows x 20 columns]",
      "text/html": "<div>\n<style scoped>\n    .dataframe tbody tr th:only-of-type {\n        vertical-align: middle;\n    }\n\n    .dataframe tbody tr th {\n        vertical-align: top;\n    }\n\n    .dataframe thead th {\n        text-align: right;\n    }\n</style>\n<table border=\"1\" class=\"dataframe\">\n  <thead>\n    <tr style=\"text-align: right;\">\n      <th></th>\n      <th>game_date</th>\n      <th>team_abbrevation</th>\n      <th>official_id</th>\n      <th>first_name</th>\n      <th>last_name</th>\n      <th>fgm</th>\n      <th>fg_pct</th>\n      <th>fg3m</th>\n      <th>fg3_pct</th>\n      <th>ftm</th>\n      <th>ft_pct</th>\n      <th>oreb</th>\n      <th>dreb</th>\n      <th>reb</th>\n      <th>ast</th>\n      <th>stl</th>\n      <th>blk</th>\n      <th>tov</th>\n      <th>pf</th>\n      <th>pts</th>\n    </tr>\n  </thead>\n  <tbody>\n    <tr>\n      <th>9</th>\n      <td>1996-11-19 00:00:00</td>\n      <td>ORL</td>\n      <td>1144</td>\n      <td>Ted</td>\n      <td>Bernhardt</td>\n      <td>27</td>\n      <td>0.355</td>\n      <td>6</td>\n      <td>0.333</td>\n      <td>28</td>\n      <td>0.757</td>\n      <td>7</td>\n      <td>24</td>\n      <td>31</td>\n      <td>14</td>\n      <td>10</td>\n      <td>3</td>\n      <td>17</td>\n      <td>23</td>\n      <td>88</td>\n    </tr>\n    <tr>\n      <th>37</th>\n      <td>1997-02-21 00:00:00</td>\n      <td>LAL</td>\n      <td>1144</td>\n      <td>Ted</td>\n      <td>Bernhardt</td>\n      <td>37</td>\n      <td>0.514</td>\n      <td>9</td>\n      <td>0.450</td>\n      <td>16</td>\n      <td>0.667</td>\n      <td>10</td>\n      <td>30</td>\n      <td>40</td>\n      <td>29</td>\n      <td>5</td>\n      <td>14</td>\n      <td>15</td>\n      <td>19</td>\n      <td>99</td>\n    </tr>\n    <tr>\n      <th>193</th>\n      <td>1999-12-15 00:00:00</td>\n      <td>VAN</td>\n      <td>1144</td>\n      <td>Ted</td>\n      <td>Bernhardt</td>\n      <td>37</td>\n      <td>0.430</td>\n      <td>6</td>\n      <td>0.400</td>\n      <td>26</td>\n      <td>0.743</td>\n      <td>12</td>\n      <td>43</td>\n      <td>55</td>\n      <td>22</td>\n      <td>6</td>\n      <td>6</td>\n      <td>17</td>\n      <td>30</td>\n      <td>106</td>\n    </tr>\n    <tr>\n      <th>223</th>\n      <td>2000-04-02 00:00:00</td>\n      <td>LAL</td>\n      <td>1144</td>\n      <td>Ted</td>\n      <td>Bernhardt</td>\n      <td>39</td>\n      <td>0.513</td>\n      <td>4</td>\n      <td>0.364</td>\n      <td>24</td>\n      <td>0.828</td>\n      <td>10</td>\n      <td>40</td>\n      <td>50</td>\n      <td>31</td>\n      <td>4</td>\n      <td>9</td>\n      <td>8</td>\n      <td>13</td>\n      <td>106</td>\n    </tr>\n    <tr>\n      <th>244</th>\n      <td>2000-11-11 00:00:00</td>\n      <td>IND</td>\n      <td>1144</td>\n      <td>Ted</td>\n      <td>Bernhardt</td>\n      <td>35</td>\n      <td>0.443</td>\n      <td>6</td>\n      <td>0.375</td>\n      <td>18</td>\n      <td>0.643</td>\n      <td>14</td>\n      <td>41</td>\n      <td>55</td>\n      <td>24</td>\n      <td>8</td>\n      <td>9</td>\n      <td>17</td>\n      <td>23</td>\n      <td>94</td>\n    </tr>\n    <tr>\n      <th>...</th>\n      <td>...</td>\n      <td>...</td>\n      <td>...</td>\n      <td>...</td>\n      <td>...</td>\n      <td>...</td>\n      <td>...</td>\n      <td>...</td>\n      <td>...</td>\n      <td>...</td>\n      <td>...</td>\n      <td>...</td>\n      <td>...</td>\n      <td>...</td>\n      <td>...</td>\n      <td>...</td>\n      <td>...</td>\n      <td>...</td>\n      <td>...</td>\n      <td>...</td>\n    </tr>\n    <tr>\n      <th>74522</th>\n      <td>2005-11-02 00:00:00</td>\n      <td>GSW</td>\n      <td>1144</td>\n      <td>Ted</td>\n      <td>Bernhardt</td>\n      <td>39</td>\n      <td>0.419</td>\n      <td>3</td>\n      <td>0.300</td>\n      <td>16</td>\n      <td>0.762</td>\n      <td>20</td>\n      <td>27</td>\n      <td>47</td>\n      <td>21</td>\n      <td>12</td>\n      <td>3</td>\n      <td>22</td>\n      <td>35</td>\n      <td>97</td>\n    </tr>\n    <tr>\n      <th>74552</th>\n      <td>2005-11-04 00:00:00</td>\n      <td>DEN</td>\n      <td>1144</td>\n      <td>Ted</td>\n      <td>Bernhardt</td>\n      <td>29</td>\n      <td>0.333</td>\n      <td>3</td>\n      <td>0.231</td>\n      <td>7</td>\n      <td>0.350</td>\n      <td>16</td>\n      <td>28</td>\n      <td>44</td>\n      <td>20</td>\n      <td>7</td>\n      <td>12</td>\n      <td>19</td>\n      <td>18</td>\n      <td>68</td>\n    </tr>\n    <tr>\n      <th>74609</th>\n      <td>2005-11-06 00:00:00</td>\n      <td>PHX</td>\n      <td>1144</td>\n      <td>Ted</td>\n      <td>Bernhardt</td>\n      <td>44</td>\n      <td>0.444</td>\n      <td>7</td>\n      <td>0.438</td>\n      <td>23</td>\n      <td>0.793</td>\n      <td>20</td>\n      <td>26</td>\n      <td>46</td>\n      <td>28</td>\n      <td>9</td>\n      <td>2</td>\n      <td>10</td>\n      <td>18</td>\n      <td>118</td>\n    </tr>\n    <tr>\n      <th>74652</th>\n      <td>2005-11-09 00:00:00</td>\n      <td>IND</td>\n      <td>1144</td>\n      <td>Ted</td>\n      <td>Bernhardt</td>\n      <td>34</td>\n      <td>0.459</td>\n      <td>3</td>\n      <td>0.273</td>\n      <td>19</td>\n      <td>0.679</td>\n      <td>14</td>\n      <td>33</td>\n      <td>47</td>\n      <td>19</td>\n      <td>7</td>\n      <td>8</td>\n      <td>22</td>\n      <td>30</td>\n      <td>90</td>\n    </tr>\n    <tr>\n      <th>74705</th>\n      <td>2005-11-11 00:00:00</td>\n      <td>BOS</td>\n      <td>1144</td>\n      <td>Ted</td>\n      <td>Bernhardt</td>\n      <td>40</td>\n      <td>0.563</td>\n      <td>6</td>\n      <td>0.400</td>\n      <td>17</td>\n      <td>0.773</td>\n      <td>4</td>\n      <td>37</td>\n      <td>41</td>\n      <td>19</td>\n      <td>5</td>\n      <td>4</td>\n      <td>17</td>\n      <td>20</td>\n      <td>103</td>\n    </tr>\n  </tbody>\n</table>\n<p>162 rows × 20 columns</p>\n</div>"
     },
     "execution_count": 46,
     "metadata": {},
     "output_type": "execute_result"
    }
   ],
   "source": [
    "data[(data['last_name']=='Bernhardt')]"
   ],
   "metadata": {
    "collapsed": false,
    "ExecuteTime": {
     "end_time": "2023-09-05T16:38:02.099970Z",
     "start_time": "2023-09-05T16:38:02.037104Z"
    }
   }
  },
  {
   "cell_type": "code",
   "execution_count": 47,
   "outputs": [],
   "source": [
    "PCA = remaining_rows[remaining_rows['num_games'] > 100]"
   ],
   "metadata": {
    "collapsed": false,
    "ExecuteTime": {
     "end_time": "2023-09-05T16:38:02.100158Z",
     "start_time": "2023-09-05T16:38:02.045839Z"
    }
   }
  },
  {
   "cell_type": "code",
   "execution_count": 54,
   "outputs": [],
   "source": [
    "PCA.to_csv('PCA.csv')"
   ],
   "metadata": {
    "collapsed": false,
    "ExecuteTime": {
     "end_time": "2023-09-05T16:38:44.191696Z",
     "start_time": "2023-09-05T16:38:44.186289Z"
    }
   }
  },
  {
   "cell_type": "code",
   "execution_count": 49,
   "outputs": [],
   "source": [
    "pca_results = pd.read_csv('pca_results.csv')"
   ],
   "metadata": {
    "collapsed": false,
    "ExecuteTime": {
     "end_time": "2023-09-05T16:38:02.102615Z",
     "start_time": "2023-09-05T16:38:02.069692Z"
    }
   }
  },
  {
   "cell_type": "code",
   "execution_count": 50,
   "outputs": [],
   "source": [
    "pca_results['full_name'] = pca_results['first_name'] + \" \" + pca_results['last_name']\n",
    "pca_results = pca_results.drop(columns=['X'])"
   ],
   "metadata": {
    "collapsed": false,
    "ExecuteTime": {
     "end_time": "2023-09-05T16:38:02.102724Z",
     "start_time": "2023-09-05T16:38:02.070355Z"
    }
   }
  },
  {
   "cell_type": "code",
   "execution_count": 51,
   "outputs": [
    {
     "data": {
      "text/plain": "    first_name     last_name  official_id       fgm    fg_pct      fg3m  \\\n0        Aaron         Smith      1626302  1.103713  0.554498  1.157707   \n1         Andy          Nagy      1627534  1.330008  0.824532  1.425564   \n2      Anthony        Jordan         1169 -1.283641 -0.406151 -1.056304   \n3       Ashley  Moyer-Gleich      1628953  1.209105  0.796958  1.246974   \n4          Ben        Taylor       202049  0.736069  0.546996  0.730909   \n..         ...           ...          ...       ...       ...       ...   \n112       Tony         Brown         2529 -0.260638  0.061412 -0.244741   \n113        Tre        Maddox       202027  0.574510  0.170314  0.464893   \n114      Tyler          Ford       204059  0.835461  0.555943  0.982358   \n115     Violet        Palmer         1185 -0.732487 -0.256242 -0.722315   \n116       Zach         Zarba         2534 -0.044127  0.120184 -0.062590   \n\n      fg3_pct       ftm    ft_pct      oreb  ...       PC7       PC8  \\\n0    0.438085 -0.604474  0.538783 -0.677941  ... -0.020794  0.364523   \n1    0.492457 -0.751356  0.846816 -0.821212  ...  0.586821  0.514440   \n2    0.612911  0.466667 -0.282908  0.493510  ... -0.028578  0.462150   \n3    0.512557 -0.397034  0.557060 -1.035472  ... -0.033151 -0.136467   \n4    0.253331 -0.099560  0.271658 -0.659568  ... -0.231120 -0.178434   \n..        ...       ...       ...       ...  ...       ...       ...   \n112  0.357308 -0.090042  0.009348 -0.225627  ... -0.404798  0.157891   \n113  0.059465 -0.498329  0.115015 -0.340960  ... -0.018188 -0.282127   \n114  0.338512  0.040722  0.513569 -0.889164  ... -0.109282 -0.026451   \n115  0.201641  0.511215 -0.078919  0.237400  ...  0.269791  0.067530   \n116  0.226209 -0.088893  0.055940 -0.171355  ...  0.204564 -0.100859   \n\n          PC9      PC10      PC11      PC12      PC13          PC14  \\\n0   -0.148711 -0.171852  0.121561  0.040170  0.020091  1.083321e-15   \n1   -0.159534  0.066602  0.017301 -0.046995 -0.089570 -1.423162e-15   \n2    0.373530  0.283533 -0.245785  0.109823 -0.024403  9.706421e-16   \n3    0.105540 -0.142203 -0.057785 -0.119803 -0.024542 -8.989549e-17   \n4   -0.148344  0.088826  0.050850 -0.037981 -0.005484 -5.281223e-17   \n..        ...       ...       ...       ...       ...           ...   \n112  0.273631  0.176630  0.034481 -0.057717 -0.000708 -2.208621e-15   \n113 -0.201343  0.045838  0.090687 -0.062778  0.049826 -2.738838e-15   \n114  0.350648 -0.022471 -0.060286 -0.012889 -0.012517  1.344159e-15   \n115  0.426316 -0.123065 -0.024044 -0.057706  0.011672 -2.985460e-16   \n116  0.047867  0.239280 -0.036973 -0.018383 -0.016455  1.178417e-15   \n\n             PC15            full_name  \n0   -1.361417e-15          Aaron Smith  \n1   -5.438130e-16            Andy Nagy  \n2    1.655327e-15       Anthony Jordan  \n3    4.269050e-16  Ashley Moyer-Gleich  \n4   -1.383846e-15           Ben Taylor  \n..            ...                  ...  \n112 -1.060248e-15           Tony Brown  \n113 -1.698637e-16           Tre Maddox  \n114 -1.101542e-15           Tyler Ford  \n115 -6.954927e-16        Violet Palmer  \n116  5.976023e-16           Zach Zarba  \n\n[117 rows x 35 columns]",
      "text/html": "<div>\n<style scoped>\n    .dataframe tbody tr th:only-of-type {\n        vertical-align: middle;\n    }\n\n    .dataframe tbody tr th {\n        vertical-align: top;\n    }\n\n    .dataframe thead th {\n        text-align: right;\n    }\n</style>\n<table border=\"1\" class=\"dataframe\">\n  <thead>\n    <tr style=\"text-align: right;\">\n      <th></th>\n      <th>first_name</th>\n      <th>last_name</th>\n      <th>official_id</th>\n      <th>fgm</th>\n      <th>fg_pct</th>\n      <th>fg3m</th>\n      <th>fg3_pct</th>\n      <th>ftm</th>\n      <th>ft_pct</th>\n      <th>oreb</th>\n      <th>...</th>\n      <th>PC7</th>\n      <th>PC8</th>\n      <th>PC9</th>\n      <th>PC10</th>\n      <th>PC11</th>\n      <th>PC12</th>\n      <th>PC13</th>\n      <th>PC14</th>\n      <th>PC15</th>\n      <th>full_name</th>\n    </tr>\n  </thead>\n  <tbody>\n    <tr>\n      <th>0</th>\n      <td>Aaron</td>\n      <td>Smith</td>\n      <td>1626302</td>\n      <td>1.103713</td>\n      <td>0.554498</td>\n      <td>1.157707</td>\n      <td>0.438085</td>\n      <td>-0.604474</td>\n      <td>0.538783</td>\n      <td>-0.677941</td>\n      <td>...</td>\n      <td>-0.020794</td>\n      <td>0.364523</td>\n      <td>-0.148711</td>\n      <td>-0.171852</td>\n      <td>0.121561</td>\n      <td>0.040170</td>\n      <td>0.020091</td>\n      <td>1.083321e-15</td>\n      <td>-1.361417e-15</td>\n      <td>Aaron Smith</td>\n    </tr>\n    <tr>\n      <th>1</th>\n      <td>Andy</td>\n      <td>Nagy</td>\n      <td>1627534</td>\n      <td>1.330008</td>\n      <td>0.824532</td>\n      <td>1.425564</td>\n      <td>0.492457</td>\n      <td>-0.751356</td>\n      <td>0.846816</td>\n      <td>-0.821212</td>\n      <td>...</td>\n      <td>0.586821</td>\n      <td>0.514440</td>\n      <td>-0.159534</td>\n      <td>0.066602</td>\n      <td>0.017301</td>\n      <td>-0.046995</td>\n      <td>-0.089570</td>\n      <td>-1.423162e-15</td>\n      <td>-5.438130e-16</td>\n      <td>Andy Nagy</td>\n    </tr>\n    <tr>\n      <th>2</th>\n      <td>Anthony</td>\n      <td>Jordan</td>\n      <td>1169</td>\n      <td>-1.283641</td>\n      <td>-0.406151</td>\n      <td>-1.056304</td>\n      <td>0.612911</td>\n      <td>0.466667</td>\n      <td>-0.282908</td>\n      <td>0.493510</td>\n      <td>...</td>\n      <td>-0.028578</td>\n      <td>0.462150</td>\n      <td>0.373530</td>\n      <td>0.283533</td>\n      <td>-0.245785</td>\n      <td>0.109823</td>\n      <td>-0.024403</td>\n      <td>9.706421e-16</td>\n      <td>1.655327e-15</td>\n      <td>Anthony Jordan</td>\n    </tr>\n    <tr>\n      <th>3</th>\n      <td>Ashley</td>\n      <td>Moyer-Gleich</td>\n      <td>1628953</td>\n      <td>1.209105</td>\n      <td>0.796958</td>\n      <td>1.246974</td>\n      <td>0.512557</td>\n      <td>-0.397034</td>\n      <td>0.557060</td>\n      <td>-1.035472</td>\n      <td>...</td>\n      <td>-0.033151</td>\n      <td>-0.136467</td>\n      <td>0.105540</td>\n      <td>-0.142203</td>\n      <td>-0.057785</td>\n      <td>-0.119803</td>\n      <td>-0.024542</td>\n      <td>-8.989549e-17</td>\n      <td>4.269050e-16</td>\n      <td>Ashley Moyer-Gleich</td>\n    </tr>\n    <tr>\n      <th>4</th>\n      <td>Ben</td>\n      <td>Taylor</td>\n      <td>202049</td>\n      <td>0.736069</td>\n      <td>0.546996</td>\n      <td>0.730909</td>\n      <td>0.253331</td>\n      <td>-0.099560</td>\n      <td>0.271658</td>\n      <td>-0.659568</td>\n      <td>...</td>\n      <td>-0.231120</td>\n      <td>-0.178434</td>\n      <td>-0.148344</td>\n      <td>0.088826</td>\n      <td>0.050850</td>\n      <td>-0.037981</td>\n      <td>-0.005484</td>\n      <td>-5.281223e-17</td>\n      <td>-1.383846e-15</td>\n      <td>Ben Taylor</td>\n    </tr>\n    <tr>\n      <th>...</th>\n      <td>...</td>\n      <td>...</td>\n      <td>...</td>\n      <td>...</td>\n      <td>...</td>\n      <td>...</td>\n      <td>...</td>\n      <td>...</td>\n      <td>...</td>\n      <td>...</td>\n      <td>...</td>\n      <td>...</td>\n      <td>...</td>\n      <td>...</td>\n      <td>...</td>\n      <td>...</td>\n      <td>...</td>\n      <td>...</td>\n      <td>...</td>\n      <td>...</td>\n      <td>...</td>\n    </tr>\n    <tr>\n      <th>112</th>\n      <td>Tony</td>\n      <td>Brown</td>\n      <td>2529</td>\n      <td>-0.260638</td>\n      <td>0.061412</td>\n      <td>-0.244741</td>\n      <td>0.357308</td>\n      <td>-0.090042</td>\n      <td>0.009348</td>\n      <td>-0.225627</td>\n      <td>...</td>\n      <td>-0.404798</td>\n      <td>0.157891</td>\n      <td>0.273631</td>\n      <td>0.176630</td>\n      <td>0.034481</td>\n      <td>-0.057717</td>\n      <td>-0.000708</td>\n      <td>-2.208621e-15</td>\n      <td>-1.060248e-15</td>\n      <td>Tony Brown</td>\n    </tr>\n    <tr>\n      <th>113</th>\n      <td>Tre</td>\n      <td>Maddox</td>\n      <td>202027</td>\n      <td>0.574510</td>\n      <td>0.170314</td>\n      <td>0.464893</td>\n      <td>0.059465</td>\n      <td>-0.498329</td>\n      <td>0.115015</td>\n      <td>-0.340960</td>\n      <td>...</td>\n      <td>-0.018188</td>\n      <td>-0.282127</td>\n      <td>-0.201343</td>\n      <td>0.045838</td>\n      <td>0.090687</td>\n      <td>-0.062778</td>\n      <td>0.049826</td>\n      <td>-2.738838e-15</td>\n      <td>-1.698637e-16</td>\n      <td>Tre Maddox</td>\n    </tr>\n    <tr>\n      <th>114</th>\n      <td>Tyler</td>\n      <td>Ford</td>\n      <td>204059</td>\n      <td>0.835461</td>\n      <td>0.555943</td>\n      <td>0.982358</td>\n      <td>0.338512</td>\n      <td>0.040722</td>\n      <td>0.513569</td>\n      <td>-0.889164</td>\n      <td>...</td>\n      <td>-0.109282</td>\n      <td>-0.026451</td>\n      <td>0.350648</td>\n      <td>-0.022471</td>\n      <td>-0.060286</td>\n      <td>-0.012889</td>\n      <td>-0.012517</td>\n      <td>1.344159e-15</td>\n      <td>-1.101542e-15</td>\n      <td>Tyler Ford</td>\n    </tr>\n    <tr>\n      <th>115</th>\n      <td>Violet</td>\n      <td>Palmer</td>\n      <td>1185</td>\n      <td>-0.732487</td>\n      <td>-0.256242</td>\n      <td>-0.722315</td>\n      <td>0.201641</td>\n      <td>0.511215</td>\n      <td>-0.078919</td>\n      <td>0.237400</td>\n      <td>...</td>\n      <td>0.269791</td>\n      <td>0.067530</td>\n      <td>0.426316</td>\n      <td>-0.123065</td>\n      <td>-0.024044</td>\n      <td>-0.057706</td>\n      <td>0.011672</td>\n      <td>-2.985460e-16</td>\n      <td>-6.954927e-16</td>\n      <td>Violet Palmer</td>\n    </tr>\n    <tr>\n      <th>116</th>\n      <td>Zach</td>\n      <td>Zarba</td>\n      <td>2534</td>\n      <td>-0.044127</td>\n      <td>0.120184</td>\n      <td>-0.062590</td>\n      <td>0.226209</td>\n      <td>-0.088893</td>\n      <td>0.055940</td>\n      <td>-0.171355</td>\n      <td>...</td>\n      <td>0.204564</td>\n      <td>-0.100859</td>\n      <td>0.047867</td>\n      <td>0.239280</td>\n      <td>-0.036973</td>\n      <td>-0.018383</td>\n      <td>-0.016455</td>\n      <td>1.178417e-15</td>\n      <td>5.976023e-16</td>\n      <td>Zach Zarba</td>\n    </tr>\n  </tbody>\n</table>\n<p>117 rows × 35 columns</p>\n</div>"
     },
     "execution_count": 51,
     "metadata": {},
     "output_type": "execute_result"
    }
   ],
   "source": [
    "pca_results"
   ],
   "metadata": {
    "collapsed": false,
    "ExecuteTime": {
     "end_time": "2023-09-05T16:38:02.103427Z",
     "start_time": "2023-09-05T16:38:02.070634Z"
    }
   }
  },
  {
   "cell_type": "code",
   "execution_count": 52,
   "outputs": [
    {
     "data": {
      "text/html": "<style>\n        .bk-notebook-logo {\n            display: block;\n            width: 20px;\n            height: 20px;\n            background-image: url(data:image/png;base64,iVBORw0KGgoAAAANSUhEUgAAABQAAAAUCAYAAACNiR0NAAAABHNCSVQICAgIfAhkiAAAAAlwSFlzAAALEgAACxIB0t1+/AAAABx0RVh0U29mdHdhcmUAQWRvYmUgRmlyZXdvcmtzIENTNui8sowAAAOkSURBVDiNjZRtaJVlGMd/1/08zzln5zjP1LWcU9N0NkN8m2CYjpgQYQXqSs0I84OLIC0hkEKoPtiH3gmKoiJDU7QpLgoLjLIQCpEsNJ1vqUOdO7ppbuec5+V+rj4ctwzd8IIbbi6u+8f1539dt3A78eXC7QizUF7gyV1fD1Yqg4JWz84yffhm0qkFqBogB9rM8tZdtwVsPUhWhGcFJngGeWrPzHm5oaMmkfEg1usvLFyc8jLRqDOMru7AyC8saQr7GG7f5fvDeH7Ej8CM66nIF+8yngt6HWaKh7k49Soy9nXurCi1o3qUbS3zWfrYeQDTB/Qj6kX6Ybhw4B+bOYoLKCC9H3Nu/leUTZ1JdRWkkn2ldcCamzrcf47KKXdAJllSlxAOkRgyHsGC/zRday5Qld9DyoM4/q/rUoy/CXh3jzOu3bHUVZeU+DEn8FInkPBFlu3+nW3Nw0mk6vCDiWg8CeJaxEwuHS3+z5RgY+YBR6V1Z1nxSOfoaPa4LASWxxdNp+VWTk7+4vzaou8v8PN+xo+KY2xsw6une2frhw05CTYOmQvsEhjhWjn0bmXPjpE1+kplmmkP3suftwTubK9Vq22qKmrBhpY4jvd5afdRA3wGjFAgcnTK2s4hY0/GPNIb0nErGMCRxWOOX64Z8RAC4oCXdklmEvcL8o0BfkNK4lUg9HTl+oPlQxdNo3Mg4Nv175e/1LDGzZen30MEjRUtmXSfiTVu1kK8W4txyV6BMKlbgk3lMwYCiusNy9fVfvvwMxv8Ynl6vxoByANLTWplvuj/nF9m2+PDtt1eiHPBr1oIfhCChQMBw6Aw0UulqTKZdfVvfG7VcfIqLG9bcldL/+pdWTLxLUy8Qq38heUIjh4XlzZxzQm19lLFlr8vdQ97rjZVOLf8nclzckbcD4wxXMidpX30sFd37Fv/GtwwhzhxGVAprjbg0gCAEeIgwCZyTV2Z1REEW8O4py0wsjeloKoMr6iCY6dP92H6Vw/oTyICIthibxjm/DfN9lVz8IqtqKYLUXfoKVMVQVVJOElGjrnnUt9T9wbgp8AyYKaGlqingHZU/uG2NTZSVqwHQTWkx9hxjkpWDaCg6Ckj5qebgBVbT3V3NNXMSiWSDdGV3hrtzla7J+duwPOToIg42ChPQOQjspnSlp1V+Gjdged7+8UN5CRAV7a5EdFNwCjEaBR27b3W890TE7g24NAP/mMDXRWrGoFPQI9ls/MWO2dWFAar/xcOIImbbpA3zgAAAABJRU5ErkJggg==);\n        }\n    </style>\n    <div>\n        <a href=\"https://bokeh.org\" target=\"_blank\" class=\"bk-notebook-logo\"></a>\n        <span id=\"a426bc64-0762-44fd-8d51-4982cc0e3543\">Loading BokehJS ...</span>\n    </div>\n"
     },
     "metadata": {},
     "output_type": "display_data"
    },
    {
     "data": {
      "application/javascript": "(function(root) {\n  function now() {\n    return new Date();\n  }\n\n  const force = true;\n\n  if (typeof root._bokeh_onload_callbacks === \"undefined\" || force === true) {\n    root._bokeh_onload_callbacks = [];\n    root._bokeh_is_loading = undefined;\n  }\n\nconst JS_MIME_TYPE = 'application/javascript';\n  const HTML_MIME_TYPE = 'text/html';\n  const EXEC_MIME_TYPE = 'application/vnd.bokehjs_exec.v0+json';\n  const CLASS_NAME = 'output_bokeh rendered_html';\n\n  /**\n   * Render data to the DOM node\n   */\n  function render(props, node) {\n    const script = document.createElement(\"script\");\n    node.appendChild(script);\n  }\n\n  /**\n   * Handle when an output is cleared or removed\n   */\n  function handleClearOutput(event, handle) {\n    const cell = handle.cell;\n\n    const id = cell.output_area._bokeh_element_id;\n    const server_id = cell.output_area._bokeh_server_id;\n    // Clean up Bokeh references\n    if (id != null && id in Bokeh.index) {\n      Bokeh.index[id].model.document.clear();\n      delete Bokeh.index[id];\n    }\n\n    if (server_id !== undefined) {\n      // Clean up Bokeh references\n      const cmd_clean = \"from bokeh.io.state import curstate; print(curstate().uuid_to_server['\" + server_id + \"'].get_sessions()[0].document.roots[0]._id)\";\n      cell.notebook.kernel.execute(cmd_clean, {\n        iopub: {\n          output: function(msg) {\n            const id = msg.content.text.trim();\n            if (id in Bokeh.index) {\n              Bokeh.index[id].model.document.clear();\n              delete Bokeh.index[id];\n            }\n          }\n        }\n      });\n      // Destroy server and session\n      const cmd_destroy = \"import bokeh.io.notebook as ion; ion.destroy_server('\" + server_id + \"')\";\n      cell.notebook.kernel.execute(cmd_destroy);\n    }\n  }\n\n  /**\n   * Handle when a new output is added\n   */\n  function handleAddOutput(event, handle) {\n    const output_area = handle.output_area;\n    const output = handle.output;\n\n    // limit handleAddOutput to display_data with EXEC_MIME_TYPE content only\n    if ((output.output_type != \"display_data\") || (!Object.prototype.hasOwnProperty.call(output.data, EXEC_MIME_TYPE))) {\n      return\n    }\n\n    const toinsert = output_area.element.find(\".\" + CLASS_NAME.split(' ')[0]);\n\n    if (output.metadata[EXEC_MIME_TYPE][\"id\"] !== undefined) {\n      toinsert[toinsert.length - 1].firstChild.textContent = output.data[JS_MIME_TYPE];\n      // store reference to embed id on output_area\n      output_area._bokeh_element_id = output.metadata[EXEC_MIME_TYPE][\"id\"];\n    }\n    if (output.metadata[EXEC_MIME_TYPE][\"server_id\"] !== undefined) {\n      const bk_div = document.createElement(\"div\");\n      bk_div.innerHTML = output.data[HTML_MIME_TYPE];\n      const script_attrs = bk_div.children[0].attributes;\n      for (let i = 0; i < script_attrs.length; i++) {\n        toinsert[toinsert.length - 1].firstChild.setAttribute(script_attrs[i].name, script_attrs[i].value);\n        toinsert[toinsert.length - 1].firstChild.textContent = bk_div.children[0].textContent\n      }\n      // store reference to server id on output_area\n      output_area._bokeh_server_id = output.metadata[EXEC_MIME_TYPE][\"server_id\"];\n    }\n  }\n\n  function register_renderer(events, OutputArea) {\n\n    function append_mime(data, metadata, element) {\n      // create a DOM node to render to\n      const toinsert = this.create_output_subarea(\n        metadata,\n        CLASS_NAME,\n        EXEC_MIME_TYPE\n      );\n      this.keyboard_manager.register_events(toinsert);\n      // Render to node\n      const props = {data: data, metadata: metadata[EXEC_MIME_TYPE]};\n      render(props, toinsert[toinsert.length - 1]);\n      element.append(toinsert);\n      return toinsert\n    }\n\n    /* Handle when an output is cleared or removed */\n    events.on('clear_output.CodeCell', handleClearOutput);\n    events.on('delete.Cell', handleClearOutput);\n\n    /* Handle when a new output is added */\n    events.on('output_added.OutputArea', handleAddOutput);\n\n    /**\n     * Register the mime type and append_mime function with output_area\n     */\n    OutputArea.prototype.register_mime_type(EXEC_MIME_TYPE, append_mime, {\n      /* Is output safe? */\n      safe: true,\n      /* Index of renderer in `output_area.display_order` */\n      index: 0\n    });\n  }\n\n  // register the mime type if in Jupyter Notebook environment and previously unregistered\n  if (root.Jupyter !== undefined) {\n    const events = require('base/js/events');\n    const OutputArea = require('notebook/js/outputarea').OutputArea;\n\n    if (OutputArea.prototype.mime_types().indexOf(EXEC_MIME_TYPE) == -1) {\n      register_renderer(events, OutputArea);\n    }\n  }\n  if (typeof (root._bokeh_timeout) === \"undefined\" || force === true) {\n    root._bokeh_timeout = Date.now() + 5000;\n    root._bokeh_failed_load = false;\n  }\n\n  const NB_LOAD_WARNING = {'data': {'text/html':\n     \"<div style='background-color: #fdd'>\\n\"+\n     \"<p>\\n\"+\n     \"BokehJS does not appear to have successfully loaded. If loading BokehJS from CDN, this \\n\"+\n     \"may be due to a slow or bad network connection. Possible fixes:\\n\"+\n     \"</p>\\n\"+\n     \"<ul>\\n\"+\n     \"<li>re-rerun `output_notebook()` to attempt to load from CDN again, or</li>\\n\"+\n     \"<li>use INLINE resources instead, as so:</li>\\n\"+\n     \"</ul>\\n\"+\n     \"<code>\\n\"+\n     \"from bokeh.resources import INLINE\\n\"+\n     \"output_notebook(resources=INLINE)\\n\"+\n     \"</code>\\n\"+\n     \"</div>\"}};\n\n  function display_loaded() {\n    const el = document.getElementById(\"a426bc64-0762-44fd-8d51-4982cc0e3543\");\n    if (el != null) {\n      el.textContent = \"BokehJS is loading...\";\n    }\n    if (root.Bokeh !== undefined) {\n      if (el != null) {\n        el.textContent = \"BokehJS \" + root.Bokeh.version + \" successfully loaded.\";\n      }\n    } else if (Date.now() < root._bokeh_timeout) {\n      setTimeout(display_loaded, 100)\n    }\n  }\n\n  function run_callbacks() {\n    try {\n      root._bokeh_onload_callbacks.forEach(function(callback) {\n        if (callback != null)\n          callback();\n      });\n    } finally {\n      delete root._bokeh_onload_callbacks\n    }\n    console.debug(\"Bokeh: all callbacks have finished\");\n  }\n\n  function load_libs(css_urls, js_urls, callback) {\n    if (css_urls == null) css_urls = [];\n    if (js_urls == null) js_urls = [];\n\n    root._bokeh_onload_callbacks.push(callback);\n    if (root._bokeh_is_loading > 0) {\n      console.debug(\"Bokeh: BokehJS is being loaded, scheduling callback at\", now());\n      return null;\n    }\n    if (js_urls == null || js_urls.length === 0) {\n      run_callbacks();\n      return null;\n    }\n    console.debug(\"Bokeh: BokehJS not loaded, scheduling load and callback at\", now());\n    root._bokeh_is_loading = css_urls.length + js_urls.length;\n\n    function on_load() {\n      root._bokeh_is_loading--;\n      if (root._bokeh_is_loading === 0) {\n        console.debug(\"Bokeh: all BokehJS libraries/stylesheets loaded\");\n        run_callbacks()\n      }\n    }\n\n    function on_error(url) {\n      console.error(\"failed to load \" + url);\n    }\n\n    for (let i = 0; i < css_urls.length; i++) {\n      const url = css_urls[i];\n      const element = document.createElement(\"link\");\n      element.onload = on_load;\n      element.onerror = on_error.bind(null, url);\n      element.rel = \"stylesheet\";\n      element.type = \"text/css\";\n      element.href = url;\n      console.debug(\"Bokeh: injecting link tag for BokehJS stylesheet: \", url);\n      document.body.appendChild(element);\n    }\n\n    for (let i = 0; i < js_urls.length; i++) {\n      const url = js_urls[i];\n      const element = document.createElement('script');\n      element.onload = on_load;\n      element.onerror = on_error.bind(null, url);\n      element.async = false;\n      element.src = url;\n      console.debug(\"Bokeh: injecting script tag for BokehJS library: \", url);\n      document.head.appendChild(element);\n    }\n  };\n\n  function inject_raw_css(css) {\n    const element = document.createElement(\"style\");\n    element.appendChild(document.createTextNode(css));\n    document.body.appendChild(element);\n  }\n\n  const js_urls = [\"https://cdn.bokeh.org/bokeh/release/bokeh-3.2.2.min.js\", \"https://cdn.bokeh.org/bokeh/release/bokeh-gl-3.2.2.min.js\", \"https://cdn.bokeh.org/bokeh/release/bokeh-widgets-3.2.2.min.js\", \"https://cdn.bokeh.org/bokeh/release/bokeh-tables-3.2.2.min.js\", \"https://cdn.bokeh.org/bokeh/release/bokeh-mathjax-3.2.2.min.js\"];\n  const css_urls = [];\n\n  const inline_js = [    function(Bokeh) {\n      Bokeh.set_log_level(\"info\");\n    },\nfunction(Bokeh) {\n    }\n  ];\n\n  function run_inline_js() {\n    if (root.Bokeh !== undefined || force === true) {\n          for (let i = 0; i < inline_js.length; i++) {\n      inline_js[i].call(root, root.Bokeh);\n    }\nif (force === true) {\n        display_loaded();\n      }} else if (Date.now() < root._bokeh_timeout) {\n      setTimeout(run_inline_js, 100);\n    } else if (!root._bokeh_failed_load) {\n      console.log(\"Bokeh: BokehJS failed to load within specified timeout.\");\n      root._bokeh_failed_load = true;\n    } else if (force !== true) {\n      const cell = $(document.getElementById(\"a426bc64-0762-44fd-8d51-4982cc0e3543\")).parents('.cell').data().cell;\n      cell.output_area.append_execute_result(NB_LOAD_WARNING)\n    }\n  }\n\n  if (root._bokeh_is_loading === 0) {\n    console.debug(\"Bokeh: BokehJS loaded, going straight to plotting\");\n    run_inline_js();\n  } else {\n    load_libs(css_urls, js_urls, function() {\n      console.debug(\"Bokeh: BokehJS plotting callback run at\", now());\n      run_inline_js();\n    });\n  }\n}(window));",
      "application/vnd.bokehjs_load.v0+json": "(function(root) {\n  function now() {\n    return new Date();\n  }\n\n  const force = true;\n\n  if (typeof root._bokeh_onload_callbacks === \"undefined\" || force === true) {\n    root._bokeh_onload_callbacks = [];\n    root._bokeh_is_loading = undefined;\n  }\n\n\n  if (typeof (root._bokeh_timeout) === \"undefined\" || force === true) {\n    root._bokeh_timeout = Date.now() + 5000;\n    root._bokeh_failed_load = false;\n  }\n\n  const NB_LOAD_WARNING = {'data': {'text/html':\n     \"<div style='background-color: #fdd'>\\n\"+\n     \"<p>\\n\"+\n     \"BokehJS does not appear to have successfully loaded. If loading BokehJS from CDN, this \\n\"+\n     \"may be due to a slow or bad network connection. Possible fixes:\\n\"+\n     \"</p>\\n\"+\n     \"<ul>\\n\"+\n     \"<li>re-rerun `output_notebook()` to attempt to load from CDN again, or</li>\\n\"+\n     \"<li>use INLINE resources instead, as so:</li>\\n\"+\n     \"</ul>\\n\"+\n     \"<code>\\n\"+\n     \"from bokeh.resources import INLINE\\n\"+\n     \"output_notebook(resources=INLINE)\\n\"+\n     \"</code>\\n\"+\n     \"</div>\"}};\n\n  function display_loaded() {\n    const el = document.getElementById(\"a426bc64-0762-44fd-8d51-4982cc0e3543\");\n    if (el != null) {\n      el.textContent = \"BokehJS is loading...\";\n    }\n    if (root.Bokeh !== undefined) {\n      if (el != null) {\n        el.textContent = \"BokehJS \" + root.Bokeh.version + \" successfully loaded.\";\n      }\n    } else if (Date.now() < root._bokeh_timeout) {\n      setTimeout(display_loaded, 100)\n    }\n  }\n\n  function run_callbacks() {\n    try {\n      root._bokeh_onload_callbacks.forEach(function(callback) {\n        if (callback != null)\n          callback();\n      });\n    } finally {\n      delete root._bokeh_onload_callbacks\n    }\n    console.debug(\"Bokeh: all callbacks have finished\");\n  }\n\n  function load_libs(css_urls, js_urls, callback) {\n    if (css_urls == null) css_urls = [];\n    if (js_urls == null) js_urls = [];\n\n    root._bokeh_onload_callbacks.push(callback);\n    if (root._bokeh_is_loading > 0) {\n      console.debug(\"Bokeh: BokehJS is being loaded, scheduling callback at\", now());\n      return null;\n    }\n    if (js_urls == null || js_urls.length === 0) {\n      run_callbacks();\n      return null;\n    }\n    console.debug(\"Bokeh: BokehJS not loaded, scheduling load and callback at\", now());\n    root._bokeh_is_loading = css_urls.length + js_urls.length;\n\n    function on_load() {\n      root._bokeh_is_loading--;\n      if (root._bokeh_is_loading === 0) {\n        console.debug(\"Bokeh: all BokehJS libraries/stylesheets loaded\");\n        run_callbacks()\n      }\n    }\n\n    function on_error(url) {\n      console.error(\"failed to load \" + url);\n    }\n\n    for (let i = 0; i < css_urls.length; i++) {\n      const url = css_urls[i];\n      const element = document.createElement(\"link\");\n      element.onload = on_load;\n      element.onerror = on_error.bind(null, url);\n      element.rel = \"stylesheet\";\n      element.type = \"text/css\";\n      element.href = url;\n      console.debug(\"Bokeh: injecting link tag for BokehJS stylesheet: \", url);\n      document.body.appendChild(element);\n    }\n\n    for (let i = 0; i < js_urls.length; i++) {\n      const url = js_urls[i];\n      const element = document.createElement('script');\n      element.onload = on_load;\n      element.onerror = on_error.bind(null, url);\n      element.async = false;\n      element.src = url;\n      console.debug(\"Bokeh: injecting script tag for BokehJS library: \", url);\n      document.head.appendChild(element);\n    }\n  };\n\n  function inject_raw_css(css) {\n    const element = document.createElement(\"style\");\n    element.appendChild(document.createTextNode(css));\n    document.body.appendChild(element);\n  }\n\n  const js_urls = [\"https://cdn.bokeh.org/bokeh/release/bokeh-3.2.2.min.js\", \"https://cdn.bokeh.org/bokeh/release/bokeh-gl-3.2.2.min.js\", \"https://cdn.bokeh.org/bokeh/release/bokeh-widgets-3.2.2.min.js\", \"https://cdn.bokeh.org/bokeh/release/bokeh-tables-3.2.2.min.js\", \"https://cdn.bokeh.org/bokeh/release/bokeh-mathjax-3.2.2.min.js\"];\n  const css_urls = [];\n\n  const inline_js = [    function(Bokeh) {\n      Bokeh.set_log_level(\"info\");\n    },\nfunction(Bokeh) {\n    }\n  ];\n\n  function run_inline_js() {\n    if (root.Bokeh !== undefined || force === true) {\n          for (let i = 0; i < inline_js.length; i++) {\n      inline_js[i].call(root, root.Bokeh);\n    }\nif (force === true) {\n        display_loaded();\n      }} else if (Date.now() < root._bokeh_timeout) {\n      setTimeout(run_inline_js, 100);\n    } else if (!root._bokeh_failed_load) {\n      console.log(\"Bokeh: BokehJS failed to load within specified timeout.\");\n      root._bokeh_failed_load = true;\n    } else if (force !== true) {\n      const cell = $(document.getElementById(\"a426bc64-0762-44fd-8d51-4982cc0e3543\")).parents('.cell').data().cell;\n      cell.output_area.append_execute_result(NB_LOAD_WARNING)\n    }\n  }\n\n  if (root._bokeh_is_loading === 0) {\n    console.debug(\"Bokeh: BokehJS loaded, going straight to plotting\");\n    run_inline_js();\n  } else {\n    load_libs(css_urls, js_urls, function() {\n      console.debug(\"Bokeh: BokehJS plotting callback run at\", now());\n      run_inline_js();\n    });\n  }\n}(window));"
     },
     "metadata": {},
     "output_type": "display_data"
    },
    {
     "data": {
      "text/html": "\n  <div id=\"d7222e2d-6ca3-4cc8-a9da-94625571a38c\" data-root-id=\"p1004\" style=\"display: contents;\"></div>\n"
     },
     "metadata": {},
     "output_type": "display_data"
    },
    {
     "data": {
      "application/javascript": "(function(root) {\n  function embed_document(root) {\n  const docs_json = {\"83dc3c83-65ad-4b58-83e8-bffe84e5ac1e\":{\"version\":\"3.2.2\",\"title\":\"Bokeh Application\",\"roots\":[{\"type\":\"object\",\"name\":\"Figure\",\"id\":\"p1004\",\"attributes\":{\"width\":800,\"x_range\":{\"type\":\"object\",\"name\":\"DataRange1d\",\"id\":\"p1005\"},\"y_range\":{\"type\":\"object\",\"name\":\"DataRange1d\",\"id\":\"p1006\"},\"x_scale\":{\"type\":\"object\",\"name\":\"LinearScale\",\"id\":\"p1014\"},\"y_scale\":{\"type\":\"object\",\"name\":\"LinearScale\",\"id\":\"p1015\"},\"title\":{\"type\":\"object\",\"name\":\"Title\",\"id\":\"p1007\",\"attributes\":{\"text\":\"PCA Results: PC1 vs PC2\",\"text_font_size\":\"16pt\"}},\"renderers\":[{\"type\":\"object\",\"name\":\"GlyphRenderer\",\"id\":\"p1039\",\"attributes\":{\"data_source\":{\"type\":\"object\",\"name\":\"ColumnDataSource\",\"id\":\"p1001\",\"attributes\":{\"selected\":{\"type\":\"object\",\"name\":\"Selection\",\"id\":\"p1002\",\"attributes\":{\"indices\":[],\"line_indices\":[]}},\"selection_policy\":{\"type\":\"object\",\"name\":\"UnionRenderers\",\"id\":\"p1003\"},\"data\":{\"type\":\"map\",\"entries\":[[\"index\",{\"type\":\"ndarray\",\"array\":{\"type\":\"bytes\",\"data\":\"AAAAAAEAAAACAAAAAwAAAAQAAAAFAAAABgAAAAcAAAAIAAAACQAAAAoAAAALAAAADAAAAA0AAAAOAAAADwAAABAAAAARAAAAEgAAABMAAAAUAAAAFQAAABYAAAAXAAAAGAAAABkAAAAaAAAAGwAAABwAAAAdAAAAHgAAAB8AAAAgAAAAIQAAACIAAAAjAAAAJAAAACUAAAAmAAAAJwAAACgAAAApAAAAKgAAACsAAAAsAAAALQAAAC4AAAAvAAAAMAAAADEAAAAyAAAAMwAAADQAAAA1AAAANgAAADcAAAA4AAAAOQAAADoAAAA7AAAAPAAAAD0AAAA+AAAAPwAAAEAAAABBAAAAQgAAAEMAAABEAAAARQAAAEYAAABHAAAASAAAAEkAAABKAAAASwAAAEwAAABNAAAATgAAAE8AAABQAAAAUQAAAFIAAABTAAAAVAAAAFUAAABWAAAAVwAAAFgAAABZAAAAWgAAAFsAAABcAAAAXQAAAF4AAABfAAAAYAAAAGEAAABiAAAAYwAAAGQAAABlAAAAZgAAAGcAAABoAAAAaQAAAGoAAABrAAAAbAAAAG0AAABuAAAAbwAAAHAAAABxAAAAcgAAAHMAAAB0AAAA\"},\"shape\":[117],\"dtype\":\"int32\",\"order\":\"little\"}],[\"first_name\",{\"type\":\"ndarray\",\"array\":[\"Aaron\",\"Andy\",\"Anthony\",\"Ashley\",\"Ben\",\"Bennett\",\"Bennie\",\"Bernie\",\"Bill\",\"Bill\",\"Blane\",\"Bob\",\"Brandon\",\"Brandon\",\"Brent\",\"Brett\",\"Brian\",\"CJ\",\"Courtney\",\"Curtis\",\"Dan\",\"Danielle\",\"Dannica\",\"David\",\"David\",\"Dedric\",\"Derek\",\"Derrick\",\"Derrick\",\"Dick\",\"Ed\",\"Eddie\",\"Eli\",\"Eric\",\"Eric\",\"Evan\",\"Gary\",\"Gary\",\"Gediminas\",\"Greg\",\"Haywoode\",\"J.T.\",\"JB\",\"Jack\",\"Jacyn\",\"James\",\"James\",\"Jason\",\"Jason\",\"Jenna\",\"Jess\",\"Jimmy\",\"Joe\",\"Joe\",\"John\",\"John\",\"John\",\"Jonathan\",\"Josh\",\"Justin\",\"Kane\",\"Karl\",\"Ken\",\"Kevin\",\"Kevin\",\"Kevin\",\"Lauren\",\"Leon\",\"Leroy\",\"Luis\",\"Marat\",\"Marc\",\"Mark\",\"Mark\",\"Mark\",\"Matt\",\"Matt\",\"Matt\",\"Michael\",\"Michael\",\"Mike\",\"Mitchell\",\"Monty\",\"Mousa\",\"Natalie\",\"Nate\",\"Nick\",\"Nolan\",\"Olandis\",\"Pat\",\"Phenizee\",\"Phil\",\"Ray\",\"Robbie\",\"Robert\",\"Rodney\",\"Ron\",\"Ron\",\"Scott\",\"Scott\",\"Scott\",\"Sean\",\"Sean\",\"Simone\",\"Steve\",\"Steve\",\"Suyash\",\"Ted\",\"Tim\",\"Tom\",\"Tommy\",\"Tony\",\"Tony\",\"Tre\",\"Tyler\",\"Violet\",\"Zach\"],\"shape\":[117],\"dtype\":\"object\",\"order\":\"little\"}],[\"last_name\",{\"type\":\"ndarray\",\"array\":[\"Smith\",\"Nagy\",\"Jordan\",\"Moyer-Gleich\",\"Taylor\",\"Salvatore\",\"Adams\",\"Fryer\",\"Kennedy\",\"Spooner\",\"Reichelt\",\"Delaney\",\"Adair\",\"Schwab\",\"Barnaky\",\"Nansel\",\"Forte\",\"Washington\",\"Kirkland\",\"Blair\",\"Crawford\",\"Scott\",\"Mosher\",\"Guthrie\",\"Jones\",\"Taylor\",\"Richardson\",\"Collins\",\"Stafford\",\"Bavetta\",\"Malloy\",\"Rush\",\"Roe\",\"Dalen\",\"Lewis\",\"Scott\",\"Benson\",\"Zielinski\",\"Petraitis\",\"Willard\",\"Workman\",\"Orr\",\"DeRosa\",\"Nies\",\"Goble\",\"Capers\",\"Williams\",\"Goldenberg\",\"Phillips\",\"Schroeder\",\"Kersey\",\"Clark\",\"Crawford\",\"Forte\",\"Butler\",\"Conley\",\"Goble\",\"Sterling\",\"Tiven\",\"Van Duyne\",\"Fitzgerald\",\"Lane\",\"Mauer\",\"Cutler\",\"Fehr\",\"Scott\",\"Holtkamp\",\"Wood\",\"Richardson\",\"Grillo\",\"Kogut\",\"Davis\",\"Ayotte\",\"Lindsay\",\"Wunderlich\",\"Boland\",\"Kallio\",\"Myers\",\"Henderson\",\"Smith\",\"Callahan\",\"Ervin\",\"McCutchen\",\"Dagher\",\"Sago\",\"Green\",\"Buchert\",\"Fine\",\"Poole\",\"Fraher\",\"Ransom\",\"Robinson\",\"Acosta\",\"Robinson\",\"Hussey\",\"Mott\",\"Garretson\",\"Olesiak\",\"Foster\",\"Twardoski\",\"Wall\",\"Corbin\",\"Wright\",\"Jelks\",\"Anderson\",\"Javie\",\"Mehta\",\"Bernhardt\",\"Donaghy\",\"Washington\",\"Nunez Jr.\",\"Brothers\",\"Brown\",\"Maddox\",\"Ford\",\"Palmer\",\"Zarba\"],\"shape\":[117],\"dtype\":\"object\",\"order\":\"little\"}],[\"official_id\",{\"type\":\"ndarray\",\"array\":{\"type\":\"bytes\",\"data\":\"vtAYAI7VGACRBAAAGdsYAEEVAwCoBAAAUwUAAIsEAAB+BgAAqgQAAKIEAACCBAAAOdcYAAvYGACmEwMAMxUDAKOLAQBIFQMA1AcAAIAQAwCABAAAR9kYAETZGACaCgAAkAQAAEgbAwC0BAAA0gcAAKsEAAB2BAAA4gkAAKYEAADkCQAAgRADAJsKAAAM2BgAdwQAAIAGAAAaHQMAsAQAAKUTAwA1FQMAgwQAAJwEAAA61xgAfAQAAEoVAwC90BgA0QcAABrbGAAiBwAAfgQAAIEEAACJBAAAF9sYAH/VGACkiwEAPNcYAKcTAwBJGwMAqBMDACoVAwCWBAAAHhIDAIcEAAA5FQMAqRkDALEEAACkBAAAjQQAAB0SAwAmBwAAZAgAAIIQAwCzBAAA1QcAAIbVGACVGAMAYwgAAKkEAAB7BAAARxsDAJgEAAD/1xgAldUYAITVGAAXFQMAiAQAAJwKAADTBwAAO9cYAKUEAAC80BgAQwsAAEDZGACbBAAAjAQAAKAEAACKBAAARRUDAK4EAAB/BAAAQgsAAEHZGAAQFQMAjwQAAInVGAB4BAAAhAQAAK8EAAA+CwAAegQAAOEJAAArFQMAGx0DAKEEAADmCQAA\"},\"shape\":[117],\"dtype\":\"int32\",\"order\":\"little\"}],[\"fgm\",{\"type\":\"ndarray\",\"array\":{\"type\":\"bytes\",\"data\":\"okfgTc+o8T96OIKWtkf1P07zELjKifS/vcrGYn5Y8z8QIa824Y3nP2u0DydFGeS/1KqmcoTZ379itAtOGVLqv64dkLjU6se/KulfQOoA1b9dal2g+wryv1OpyuTAI+u/X0gaRR1V8z9dwYw0xzP0P/+jsF7HOtg/AlG6ciBF8j+ilgWEJJO9PwQ4K5ZHves/PdCR3qBQxL8q8Abbl2bTP0dGJrz3VN2/vGK3yaW4/D/kMrxb+5jgPyshNfrai8M/hBdFG+Vg5L/ziqzsonjrP0cG9MU5S8q/rlcLVLdEsb8jV2FGbYXhvxMciNngcum/8iRsR/dbr79zzt0vJv3qv9C4pLe7ety/BJdYrPa6wz+6KeuTUlWuvxagPQwnXvU/s+3+rXLM9r/HLaSC4FDgvzmQAo2Kge0/lddPPpOe5L8ZhdspmjyjvzMiVqAmLNw/x3u4SSdevz+gEreuFivsvyK2myUqVvE/soyQ+m4Zpr9qlB69zu/cP6YXkVzkIvU/HVP32zTi2r8k0wPOveT1P6Bx23h26e6/S7VGIvxS6r/CmO3fd1Pjv/0E1FDkkOi/4knEDiSW9D8Hnkdw4lj0P8jQrsGIZsg/Ixxc11mH9D87w8ylxrXWPwEoItJePec/mcC6KggCxz8119vHAOzbP5X+hiu0SNW/WmFnzBmw3T+yb0xg5CTpv4b62rjga+M/WhqIBQVi4z++aBuz57yrvzn8zKbLYNa/+JpVuimm8L/mzioT6l3RP8B58q/0f7K/NrBeAqcjgz/IO7HFlMnHP0feuKsEMuq/W9PkLcmBvL9UPMHh8eP1PwKA7grH6/I/5ghJ/y1z878nRhdmE5LKv3jMsUs7It6/zDQieOzM7j9OjSlS/V3gvwb6dVY77PU/JiXZyDT88j9oMPwwoc/yP7WEFhoQsso/CWL9jjJ09L+iRMQ94P/dvxDr2DG7tcC/5kJv7li28z8Vk+0Q6Tvjv2fp24AgCPI/z4W/obt17r+K5gd4aBn5P3tJXIpF1bS/h58zrw+Z2L+dPzsDWZbwv31rCT53ub2/RgwfdGhF0z/5WQlv/uG8v9YVioLEdMy/23/IJvn6sT/TJWSzIKvuPxrqKy8N7rY/a8Bza4+26r9/J2wy9GT2P6Y6GuPfIPS/1AlXL2QC87+Y/nCaf1fOv51UasPbBOC/DTCGXuzexL/AGzLWTK7Qv2/LaqRjYuI/W3PBYRm86j8jBnAFiHDnv5WKIaLNl6a/\"},\"shape\":[117],\"dtype\":\"float64\",\"order\":\"little\"}],[\"fg_pct\",{\"type\":\"ndarray\",\"array\":{\"type\":\"bytes\",\"data\":\"41t8YHO+4T/V8SBxkGLqPyO3Qcxf/tm/p7gr7q2A6T+xtLee/oDhP79EtDy/7L6/3vBWAhtv0b9GGk0452iZPy1u7VX7fLs/ODxjVCD4rD8Ho78U9GLtv2o9cDaQLtG/uUjHEYAP2D+fKSwSVUDhP2xrVydhlsc/0er1RbLq5D/fYE5TqaipvyVZ8lG5HeE/XO34NUwtsL/ypvM1oCnLPx4RIYKvlbW/hBsPwGd+9j94a3n1I0HNvxGMasic/9Y/wvKeBOVY0L9/DMYYV4XaPzO13V4kt70/PYZ1Jjd7lj9px466IZPKv80mpZ0Jjbq/pOOwD5G+sz+V13OXbaTNvzdhn7/KIKu/Yeg1EaROub8rDBiavEHDPzxPnabTrug/s9o8GbYY87/ff+N2psnQv8MADOEQJ+A/bnkFXH4irb/kgyQ5UHGeP6aBSYkEWLw/tCreW3xn0D85F37DQf3Yv6tE5pKa7uU/bZ7NR+qckL9tMblRgNDIP1FlzoP+Ae4/qPazs94hub9Wq0Qnh0joP084aMoJW9m/v2+EZxAydT+t7R2XoDzTvwILfDafD8I/57ugkzgV3z9av4p0QDXiP803F8lBE7E/P+kvz4ld5T/2kX6oTqXZP5fwY3/aaNw/xsWaW9OMwj+TqIVM+ENmP28KoPduJs+/xaXLRdgS0T8T/UToTM7Wv6bnbpIPUNM/nZ/i6oGryz94x2oDtIi4PyOy1CyRdM6/T1OEwt161L8gkKN0X0nJP41/3MmteZC/YyxhZQxXwT83y6aFILrCP2/hw7EcU9K/qhp3bJ+5tr+XTfXU6lPpP8PhdqGbfts/BEnBIzqd5L8cYN5nUGSjv92u57zE5cC/pDv3TAAP3T9L9iMsyYbLv+bCxGxdlO8/Vvm7FYus5z92ewpvJ4vcPxXfajIDqYg/CwKlaIw38b93R3qgcxqmPzuOcu7fA7U/Ltqsuzgg4z/wgYq88Hy2v0IX0eepFOY/UTGwxfPExD/NaHDoUeH6PzjGWjggvq4/jouJBlsLx79az/ldsybUvy3nxFfiicc/D9fU5IlLtb+UWTwiEfa7PyGRghRhzJa/BCmbAmUpyT8K+BZZtifFP9FEENoV77g/ctH8kZqD2L8Bz7hDzG3uP9QkyzT3zfG/6kdoCbJU3b/gCl0cqe1TP5+Jw+pirsE/taif7yc9pT9qk91rWnGvP7tcDzvVzMU/pGxtDknK4T+Dt8e7RGbQv0yBF79cxL4/\"},\"shape\":[117],\"dtype\":\"float64\",\"order\":\"little\"}],[\"fg3m\",{\"type\":\"ndarray\",\"array\":{\"type\":\"bytes\",\"data\":\"Bwo2lPeF8j86ErRkHM/2PyjvanKf5vC/DePQS5vz8z/idH6AmmPnP1xFcs+X1+S/ZNe3KUnq27851/nxDdftv1KjYGhcl8u/+Lv/JEAt4L/RNY3TYkHwv+kglwAKG+y/QC7A8pZC9D//eA46+4r0P8pfwgaEB9w/hLS0mQa18T8eU2+ksYrHP4APTk82ffA/dOXetskkvL/AvpC6omXRPxOeXVFedOG/LN/v1hBt+j/ocveTIRLzP8bs1xh+25c/WtxVkUbH5L9k/ErQZjHrP27q6BE4S8u/p5iKpX7RvL+rErF8EQ/iv0meHfmuAem/QX1IvVgvur8OC199Qezqv2isR0qY5uG/cUZnW3Wjwj8wLrV7COanv5p7eAzkc/c/zbiu++VY8r+/LTWVul3gv/exepTPgPE/04+Foibs6b/iXSiQ8NS2v1UfpcYitts/uyrmcGltcr9JG4aUFI7qv4prC9O0V/M/ak35NYdovr/Sgxdr1tTXP20oV3lDKfQ/DCzE5ZBd379y3k3DTuH3PyUiuxK/AO+/cM6b160e6r+7yEOJ3+zkvzCBRMfRaOu/jHBefocU9D85t1Cx0c72PwqQkpcOjME/+ychITxp9T+waj35bZfYP5ODVzH/Kuc/Os6+loL9wz8lrqne+Q7iP7aOGaGxV9O/26gUoP/H2j/S3oAUpanpvy6ntHdfK+A/2YGcoVlU4j8/ObZIbJ3Dv0Q+Djo8aNa/uE5LGVmC67/mYJvJagPUPyqtnfWly7y/zmAdOQIoxr9+m1EWhBHBP8GNDYQF0+u/pMAycrv3uL/nRNllidb3P7DOAi+NVfQ/TNcUaDd38r94zhsxUmvGv86WrJFbVdy/BcSaoS6e8D83Oza3e67hvzgpysgyfPQ/WWS348mD9T86M2iv8232P3JSdV+gVdg/eGH2AdS187+hLW4CIDzlv3Fx/RNmacK/MtAwsG879j9oHON9wzXqv/MuW5qWuPQ/zdmJhM5w7L/jiloV2rf0P73EbUN2qcC/qK0mzxkV4L+w4HpRKKbuv0bHIGn7N8e/RSRQgJGl2z9lpWj34ZrGvwyuCp/AtsK/paVYqkebkT+BA+zczYT3PwLv3MmcWbK/w2cXwru26r+Db+Ws4TP4P/llSgeOrfG/CTUfr39b8L/al4RTKXfMv4V6AkJ7PuW/yNejErgrvb8cpqsJsFPPv29K887PwN0/BNEKAnlv7z+A7S0jNB3nvx6Vr23sBbC/\"},\"shape\":[117],\"dtype\":\"float64\",\"order\":\"little\"}],[\"fg3_pct\",{\"type\":\"ndarray\",\"array\":{\"type\":\"bytes\",\"data\":\"pK9k6ZYJ3D9LaeDea4TfP0Vfb672nOM/iyjyIt1m4D8tR1qtlDbQP17E+v3mecg/TMNg2cNKmD+JdhPcBUbaP0izt1JPBNA/RU+CNUNJxT9yUp/Pfo/PP8COkF9v7LI/+QzH/sR2sj9ht1wxkK6eP9zBqFjGR9E/OxMzIYhA0T+fnHpmoOu/P0Dfa8So17s/+dv7RjLswj/8GeGC9F/DP6qnYotyw8U/fsLGJ/AK6T9aj830R7Shv/J2Eq7GFsk/SijyQzzruj/6R7M5vZPFP58JUFFdQLw/x8UhgHAcm78ZC0uCty1Bv01uSImJpaq/am56t9yw0j+scSMIIVGyP2f97AxPG8s/p9vzcg7Wnb+iXt/23jfEP6qe4Pqrrt0/QhW3f37pxb9/drga2Xq+P7XnXrjUTdw/wJ9lsaB0wD8OZSxXXdOjPyEUVuW9L8o/lMcEys0Q0z9kR8HGiHPYP88EZT69ztY/XXFvatOJvT91beiXuKulv9ttzSjb2tM/Ph0DfrKfvT+ppC5B+PfgP9NhV1qnm8E/35OS/aEZ0T+yo9xvhD6Rv3Wx7NjpQa8/r9cChoLksj+NjXox9efVP/kdnWAW08o/YuauS19H1T/uQPapDuvJP8dUEcNeUL0/KV1yl+pWzj9qSgHZJvPOP1/vwqmNtbo/G022nED1zj+XpfLKbwuov/ahilseDsg/NECHQH2awL9YCaeyLE/BPxi9lYZwyKg/pkxGYAFDxD+5GqSTNCrTPy5AFjdNKLw/K91tzFBguj+e7aeJ9+jNP6rRfqnXoLc/P+7dHEAUs7+IQjQYlBGwP0H/J6JmcdQ/E/cSjq7Oy796x/MgBDKqP/Q1nbta2cQ/a69mASVzzT8E2p8ULKKvP08ZXLaH+NI/5DuTmt4X0j/SRUuUDXvPP3jKqRtNNMU/em8NfTlW4L99wREruwHEPwp/o2JXDs8/h5fX2Isp0z8EoEIl6uiKv9iKJv/uhdg/O6ykkDMO2j+/+10wYfnMP5Z5puk7lbI/jH41UnVHtj81nja4p3G5P6sX1svshLM//BBC8rFIfT+U8QT3ShilP4fMFNoaQMw/9TcXOmJDwD9u/DjXPzjhP4PiVp9eo7u/1fxkO6pozD9B6DLwQaLjP4PCzbI1YuQ/w7wINl/+sr836JzY0+yxPws8gaEdi+E/1to53KHYsj+Xv5xzI97WP0/Xho8jcq4/HECVxy+q1T+4JBj2XM/JP9qqMYZt9Mw/\"},\"shape\":[117],\"dtype\":\"float64\",\"order\":\"little\"}],[\"ftm\",{\"type\":\"ndarray\",\"array\":{\"type\":\"bytes\",\"data\":\"S4zVl9lX479A6LeqGwvov2dLTSne3d0/gvYGfQJp2b/ezvgAyHy5vwpaDUuaCOA/bSEQkzAbvb9in9l50JbkP+KBjt06W56/jVFRHI9Xtr+fU1BiHpnlPxITHnmBgNY/yMyBdrmF7r/xcZS4gkHkv3173z5gEeS/qKoqgYYrzL/7DkyiabbZv5jkpvoXrr+/SC2FaKNIyb+8yhy1I8zfvzJqZCafbc6/3ENZPKP29L/BVSp4dOLuv59cEWEE0cK/f210Ci79ub9UMWkR8eXNv4OR2tKB2Lw/wMkeyVDsx788LWIR6fSiP7OF6lXk6ds/cVOjt0DTyL9P6rss7FnXP5PTwQ9+Z80//fxWcikF67+5xGTguTTGP5nHmseY/Ny/W2xdz7133D8cVRXAXw3FvzgYSA4+8Ny/oqoC3+OS2T+0tRKQe67ev4Mmsy/2ZOK/3Dywxotl3j/6S28s+hy/P9r0WhNTlNE/q829IdzExb+Cj3qKiZTZv8AwxTR75dC/Cuth/CGyV79GNBtyVmjkv7bz7AW5ddk/AvbX6Lnk9j9pQCCJpEzKv/z8HV52eO4/If0KnHqS378jfz6ka/3mv7mvZrdhHte/v17Zmkf54b/XYvrxiG+5v0/KRrlHRua/xEsapdmWzL8WPLos9Bjhv766/zZVAtC/YCXUEkU44L+agX9f8DDAv5JAovTQOOW/j+ovtik40L96SqvSfEW/v2hdtEF/k7U/8acVR95d8j+myFBuASTRvzxYSeOCL7+/W7zUy1rDrL9+8TJdEtjZv2BHYlahedU/6js2D7yWn79k3TDxK/3Xv7hbLRMQSNW/UQkNfB/+9T+1YTjJgizMP6wqJzKHP9W/O3meb/6P2z+mhIL8OFCIP50eVQdWpdG/OMVjPD9fQT/3kb0UUS/sv3Ed9JxkGd2/s95uYTDW0j/vGXYxdJXBP73i2MM9FKo/diG9UIq36L8XywRqC5LlP5UjReli4sG/o3CrVRXR+z+i/fJdEorgvxXxwY0BK8a/0rr8u4X94r909t8YwePaP3oXOBIM58E/d7A6jTZ63r9OLsMLxXCpv+kPr6nK86M/y9umojsFzz+Gg+gSAPjkv/05D5dKl8O/qSpIxnvD1L8Bn49M+taUP578wrIdxeA/KKTi12xQ9z/6XfMYZyG0P2WBgMfyWN4/CF17Aac5yD9xIanIAg23v0m+/+af5N+/XIimWoLZpD+r4J9e31vgP4eTv8muwba/\"},\"shape\":[117],\"dtype\":\"float64\",\"order\":\"little\"}],[\"ft_pct\",{\"type\":\"ndarray\",\"array\":{\"type\":\"bytes\",\"data\":\"xYPt1rY94T9R1ymuHhnrP4ygm9koG9K/Kn4qxW/T4T+r+qgu2GLRPwqmchodBMO/vC7+yFKmyb9cUQ3BPavjvykHS22GUIS/9feokOSox7/obMlkYja0P7gt/48Zfs+/gYJ6Cy7f3T+YLH+CKpnjP39QSwUIIdc/Dz8WRgFt4T+rmOX5FkLJP4w3PVCx2d8/Jrn+Y3jiq7/YWE1HdwizP1J6AUPRZNy/rZCmClLX6T9reBHoiGPHPzap8NiPIKE/YDZpoxy+0L8V7Vb5t8/APzASESuCQbk/F3BzKewzur/oWdVgQLSaPyF8CHX2HtK/wznlq1DQuD/WwUXAmXzUv4dok8xxy8K/ZDKbn4g3ur8vMeDjXEfCv5WERqnbouM//AukNmTJ1L9Xd0/7XrTAv7VbBRlK+dM/u+5WwZfI17/Vn8jSAhy0P8ZpDx3KnsC/cZneGiQ+rr/D2D8EXyLTv8XNSmbD/eE/EPXv8JCKu7/fy0Jx71nKP6SOFFqpLOM/VP+YojhOwb8oGSF1uzLiP0nwQxrI7OK/j03//GGwsL86uR97VrfSv1C3GiCjR7e/6u2CypHE2z9jb9rcgyDmP3MGxW9ef6i/nmgOgC1I4j951e6nIt67P5X8QpdRF9E/HmIiwkRZwj8yRj/DYGnRPy7Xfjrd5cW/BsMxygmnoD+PlBndBGWrv6US6XHZP8A/xwk7nfdLzD9syyZVZsumP/CEvY0S37+/gKCgz8v8zr+cQXO+zlfIP3uiupVM4aU/jCOIxnal07/SVySTOmm1P8jX5GpnvsG/51Jnwmx9or/J2FhZhZbyPy6mhCjlGMM/ZXv0HS9meL/1+kFfsn19v3voYlH2hLa/LnZlcTnW2j+0i0/wtvLGv3MVzw7jpOQ/LC2JcZT65j/VbFhL5BbsP7y9VKLTJMw/djrdKeFY4L+VK0XiNgt+v9w+XvLPx6K/barizP2D4T9BlTNYNhXHv5IWrKaZseI/iM/gRToa278D/KAMRyHwP1HrQxMgMrC/I3Fd9uucyr+bHNZf51/Xv6xhzk7oMru/qStfBPcAc7+8RBCXgvmrvxsn1GP1yce/4gJdLJE8ar9U2VV7QoHgP4HQRn1LtL4/uyHmyDsnub+tqE3NdGfvP2IrJInZeOG/69h3XthK4b//h5S4OcLFvyKRNA58edO/hEuUyn8opz8Qr6Cd+iSDPxPp/BCncb0/uWeZCShv4D91uHWHDDS0v4ZeVeEspKw/\"},\"shape\":[117],\"dtype\":\"float64\",\"order\":\"little\"}],[\"oreb\",{\"type\":\"ndarray\",\"array\":{\"type\":\"bytes\",\"data\":\"cIqJlrCx5b8kaNJsXUfqvxq60Depld8/Va1z9EqR8L/Re45bLhvlv/bLXl578Mo/WE9I6w/etz8E/f+FyWnpP7/BLpHcnLa/+bLWrJd4zD8aWsJlWoryP6EUHY66O90/7OhH+RN45L/dz3ELs2XSvwwNyRtNKOO/g6xhLujq57/zewzeeXTOvw3XoguZRuq/AoXBezQIzL9OKqUTcOnfv62rQ5exv8U/bpeEwnqj9b8RSR9vVKHov4riO004WNS/Ow11mgAPzj+FEBIuTETjvwv3i2AyOMq/gRs4a+vQxL8JkBQXqyDEP3+HBh+vuMA/pomvEZx5tL9Av9vC0lXFP02rksNW0Ls/jwVYEP1S07/TzcuAlzTgv9gptGOIWei/s9QjSnJ1+D8djCnJW23PP7Jx2Tq3de2/oTa6i9sW4D/lMQh4sy7Rv6iK4m9BL9W/4zUgbKpOnb90+2ZbjxDgP2c+j+3ttvK/W53o9rWbkL8YOpyN1rPhvxCIgW2jYu+/Tx01GJbVpj/nu0mtsE/qv/RvjEEfp/A/vuZDle9j4j8LwkUW0jbOP1WPRf0927y/f7P3LTfp6b/07KZs8zfgv6SnBMeEPdC/QR9rZHPP7L9XQ6lVajnnv7mv2tM9UvC/SL68GgCA279g24SXVFHbv8zlI+s8Bbs/j3ah15Qd17/r2eLv6ffVP5EOzZ3LJuO/k67KlsyW5L9SPt+HXjPDv4BQvnLmK7U/NYj+TO0g2T+UkNTVj3jWv3q305hgvLA/9MZfi6KtgD/xSHUkWybSv7xU59VcM9k/B0u09IRTxb/jxvTyoPXqv5MibrQjLdy/6xJYD/WX6z+cUPW0Fi26v+klNnSRvLK/487OHwAJ778Ef9kIgPXHP2Mee41g6+u/t/SnrHf87b8omUxxLrrwv+scuIujDuG/Bv4195I29z/t9D+NwiLHP4MFFURjese/k+1Tc17r8L/uxi7+90/ZP1HMoukPMfG/oz6JIYip3T/ox/6OYsv2v62zvcCX88C/UU41jmj9yj/5WFrx6FTgPwSmku539tK/qdBWbMoz2b/er/DqvSy4v+0CCyjz5My/tey83yiD379qRswoB/Dwv1DOnxc+BOK/I1x0ZGnD0z+SQwebsDruv9GVS4NvIvQ/95Z4usg84D83wD+vquW+v0NU60+pS7o/rXdYa/NTy7/rb9unW+HMvygj47ZL0tW/KL8caAh07L98ivmMHGPOP8RcJpj47sW/\"},\"shape\":[117],\"dtype\":\"float64\",\"order\":\"little\"}],[\"dreb\",{\"type\":\"ndarray\",\"array\":{\"type\":\"bytes\",\"data\":\"WZ5TirgD8T/wmVm2oKHxP1q2p34lw/e/dSl1hlxv8j/ahbCdtXjkP0J+Gj6zKui/ZBkoxu+J178+d2QzOcLyv8GvZOf+atS/Uaa7+frg4r9IwKnW38ruv1Mi1ib/UOy/u5LJ7f8a9z+5eUHZ07jxP6xzHTne8uE/hrSl/vP28T8iBBZrFmzWP1X2wHrhG+o/DQCE9pOSrL8l8sCCtNnYP0KGVGS/uuC/c1i9eQr28T8KUZZwApD3PzLaQj6El4C/t6GxdX+E4b+uZq18YHDwP/Yw6xzGaNG/6pCx3DV7az8G6tb3GGvkv08zGG5uOOu/AeDpth49vL9Fi2atEAbuv+IMaPkP0OK/53GG0kq64D+Ld3E1mxWFv6vQEa8x6vI/y2v92BjJ8L9rI6+4Vf/av/ehfP1ti+8/58PqUSJF7b/bhI8xQAuzPy2mz2dz1+E/5sU7I6bTu78iVG0a70Ptvyx4KifMvvI/E3FehWfnpb/7kjgbcRrjP9xwDhLBIO0/Xz2QS8MI1L+WHohN+5PzP5h322RpE/W/zHU2fD+a9b+hikBjyYPcvz8DFuBagfC/L7Pq6+jf9z+4Yqs0q6DwP5YDBvGHztE/mQkCiACe8z9qEgZqGXHXP+lfHvWrceo/sqF4ICHP1D+9R1S873btP6ZbIq8rq7a/iscEo/4K3T82Al0afOHpvxPSrWHtHuY/8P8z1LNV7j+7T4Y3R+nEv2oJKfy0v8a/0PWysBhM8b+Gd9oWXRTSP+0GhmAsbLO/55udRWA+r7+Ce8kXOnDKP2P3021qfO2/VY6pCWAYtz+frJ9fx1nyP6CH9OmYW/M/+Lzpk60o9b+f273/adOzv+g9PUClytu/hKBFEHiy8j/YCnSkRjPdv72edeTa/+0/ozqPzZO47j9vikRk/R/zP1esMk1Mtts/iJQlXahO778XlDHAzCfpv4gk6E4T6se/FxMa60fM9T/8A3pq7Uzmv85cmOZghPE/nyaPBHU3+b/OiRGvtg/VP4GqlrRWXsu/8Nme41eS2b8E0QOwJPDxv0/OtThXUc6/5oNnPJzl6D/8iMZ2kZDMv/kBzhBqTpi/jdRkOaYSxj90PrGqMvb7P5ZnrepuLdk/ii/dSOBP7b8oK8kiE77vP0PYRZm0eue/fF3Mixga879mQfCH7sHCvzqY2cRzuum/6Cvw61Cswr/W381l00DUv4iex4elSec/mtGoWL9T6j90j9rntIvnv1UPEaExPcG/\"},\"shape\":[117],\"dtype\":\"float64\",\"order\":\"little\"}],[\"reb\",{\"type\":\"ndarray\",\"array\":{\"type\":\"bytes\",\"data\":\"hoUSF4Ix6j93SE7GhsLoP2lbpWBc1/a/XR+M6o1W5j+7ejncOGjVP0K8ldsFC+i/10lFD1TK179T5A4CtvDrvyloEr03btu/I+z8vAae4b8p2qA4sYHZv2Q1K9uh8+e/fSk7RRSb9D/83lgmINjxP/CM/6RS89E/BSQeyWUF6z+c//Vcf6zQPyENxdLEG9w/AjaMtZjxyb9M1htmfBfCPxmkuT9WKOC/4lthv1673T+3o3GAw9XzP1lYoRgfvsq/obw75kqN37/zhJOwrl7qP3Wi5IX0lty/lErsQuMdub8zWNUDE7rkv/BsQWq/N+2/5LFWpnHwxr+bQ93F6sXvv8U1DIUR0+O/gwlBKmMC2z+8KB4lNhvVv9juo6sK+ew/53qDa1Yn0b+e80FUd7jVv/LSkwsyauI/yLEAuKsk6L8Y/R5kxti0v6oc2ICuctw/utQ9Rs+Swr8uWsPkNyfov+SGDbqsXuQ/xjQRbf7Urr+iCrZ7MnrWP1lqd5R4wtw/BvbLaNKk1b/9ehtlL0vtPwCR4i/CaOy/s86LovZ/87+y3UyIReDXv5SyD3Y5cPS/5HH+61zM8z8CnGrgRbnsP4PIBgNsR8U/A5P54zjR6z95CCXVw4+bvxgQnL0x59Q/WjOF6tVYvD8uDpEOT+XpP8x2Hm8mIKO/Rb6WwxZ40z/H/wn0vWHnv7FjxbDmt9s/wxe8X72Q5j/pdgTp+kDSv10tbsjg98O/c+2wR6NK8L+Yej14eDK8P1JuZSvvb6i/nhrC5R73sL8HDUEV+kywP/UHtN69leq/F00yDKQ9UD91W93QAATqP6UlG3NKOfI/Vkk/Of8X8L9jcfmTrM7Dv7XUWcxOueG/XrOs+9hE6D9WPuns56PavyPHeRjmkuE/NMy+1wEf4T9FIOMDdsDnP82yyl7SBcY/Os72BKD3zb8Y+ZVS0cvpv9iRN+IlWtW/TmiuFJ3D7T+iXWqQDiXiv8NZW9RUaOM/e3z+Jw/Y+L8NJ+QWKkngv0npN44rU9W/2SB8aONx1b9C3CBB77fvv2xkk98wod2/dIYt/2U35T/gqNDhoH/UvwuLV5fkrsW/8xwQStNyu78/msUhoBT2P6U02sfaXrs/acOyh1EW7L9M6a5i2SniP9WhVamRlrG/jGssmw9A8b9eejrIXKLPv7iY141vCOy/AVbyfZV+07+SH0jcImDgv3Z1nqAHZeQ/BLqmqfbi2T8o4M5/mMbmvyNd+Meh9tC/\"},\"shape\":[117],\"dtype\":\"float64\",\"order\":\"little\"}],[\"ast\",{\"type\":\"ndarray\",\"array\":{\"type\":\"bytes\",\"data\":\"J+6wnR8G8D/f4sBph2v3Pw4L3lqJ3Oy/ZHFwRqpS9D+pF0MbpPblP0HAQRC3dOG/CcEJ8AHi37+xP+tea1Ljv0eMcfTMwcy/MwkL7M4R2r8MwlpzNDvxv+OBd2zaYe+/6srsXGgo8T8s6kzZhu/zP/VWq5tDBtg/doMhf88M8T80L+7Tve6Yv44VK1zleek/cO3rjoKf0r9e14aAJVXDPwuiIURwsOK/KMxTEiS0/z8lOSSXU2njPwnJzg/rQIA/GYnMoLex5r88s0WH+YHoP1lcTX/54sm/Kn3z5oMQxL+pXZB929nlv3s3NwiLy+q/YjDpmBRbu78+0MVHN/Trv4Xr7C7Qvei/AbziQtyYmD/iuVt0WFi2v2thZJuutfc/JqHySp40679nDUdrt3Hjv9oMM/VufO0/zD5QPaWc6L+DdNu+mwHSv9W8wVJARt4/0RGv+c2DoT80HrX0TgPrv/0DNo8+5vE/ZoGCFtEn0L8sHqtGy+bYP5RZppFMvPQ/sl9sg1Bh4r/3sOo4tpD3P4kLW6bBfuW/yNcpHJyZ47+Xvn9EpIPov9wDbvHKL+y/7ms1N8xF8j/Bgb4HrV71P8YtRFtvKre/Ua2LJkug9D9fMLmuVEnQP/exGOsicOY/MKALvt1WqT+RAIdJa8rZP9B7blaOmti/q5MH3NuR1T8Hz+L1O0fuvyvqGZpDp+A/KFvlu0XY1j+HO+CEJ2TGvwm11yRRrNy/FvUq1fzx8L9sK2xkL5PHP5x0xRhlWMa/eD6XqBNNyb9Nyr/B+bm+PzRiTR9lAey/4bVwANaJy7+zKXQ4fa74P5/5+bJzC+8/dxgxmd3Q57+GRxnze7XTv0lFs4ybg9m/8vXcLIjj6T9Zq2my52vlv+IJ4Rb9ivQ/mZvexFMC9T+RjvvSqez1P47UlVP/58A/jQogD1q05r9OYDtbycTgv0ieY2ZkLsi/pCq4nppx9D9tFdUWcInlv1hpXJ24zvE/Y8QbwiWk8L+s0NCXB2LzP0JM3pYUnqK/WbMSqfyR278ob0Fkqjztv2mrms4Kv9G/WGVvIGp11j9p+HUEKLjLv8TtE5Y1pNO/UNnpGs28ub+dcIiyeSPuP3eBBbY8m6q/5b6q2Mxg7r+625aT0cP1P63y4ZO4puG/jYNl053g8b931pjdQGLSv0jFkcmKg+K/nHy5q5JGyr/lH2aJqU3Tvwjb4jfy3N0/YdZaqWoG6z+jWtyfOV/mv4Onwinr46a/\"},\"shape\":[117],\"dtype\":\"float64\",\"order\":\"little\"}],[\"stl\",{\"type\":\"ndarray\",\"array\":{\"type\":\"bytes\",\"data\":\"uDWXn1MN1D/6A5MBnp/BP7LVW5kCUdw/DIqGLUfT1j+iG20WxTCwvwOihPXC3sK/xFQ1T5+Pvb8svDcPLPjcP4vMFJ51pM6/2CYE4OYNoL8Gw6rPR2vgP5coG4/8btm/cNLu2n2osb8Ml/dRvd3aP8Xa8HdDfdY/HOH8KCsSyT98AknFY2HBPwZ0HWtcTNe/as8On4T1xr+rN9aLQYzFvzUCr0GIP7k/Il+u9fEV7D8DvlvcA6a/P06Cp89hScG/BJdQhZYYvL8hgYh9UTueP9nt5w/xNJI/RaZp8YWJn78Tl1YRn3XAP1aME/epYs2/tGlxJb1QqT+9cJHt5V7mv2ZCTw8iIc2/eYygiRg0yT97tl/JF2jRv8kDO+Ep7dI/P1zdLLaRyz/I5FoXGWrAP2dM4NAFWMo/VIJzDCw10b+9OUUoJVewPzd2V5VKw4e/Wd02PS344r+PDCBAIm/MP0gKUxH1eti/t32PGi2ZyL+dy3/XXd+2v9vcs/NJ1Ko/HWEsmbEPx790r6sP6RjUP5U/jS7FXNW/srEdL/pr2L9MCaOZhOjUv+XC+4OTyeC/eFkhLuHe1L+repTq8WXcv72T0haD2cM/Qshx1i3Dwj/50tKEsnu4P+Od5AVvLse/HcozHudVt7/T32jvH2DSv/TWaG1EPMa/4a+nXAOU1D9DrwHRSHPavxX5Zz1nM9Y/xJDEuYbo3j8nid8pUHq7vw/8ZtuhAtq/HbxQvqXe4L/NqLw2HzbAv25pvpWp9bq/i93Wr7ZtmL800em30wt5v4QQvxKxrLm/cVq9Hf+xsj/BlY1HKLT1v0tn8q8HZdi/hOykxDfHsD+Qw+zqChGxv8M0bCCVkq6/im7pOq/uoL+cYRCVBtDcv9B9yl9Dp9y/mk/PTpefyj+lVIwq8eLnv08pB47QYZs/DqwcJ8ifmL8fYY3Ds6eSv+JwOPTHBrM/bLRd/D1ay79fzK4OoTzJv/UZFjqqD9u/noiRKwS+6L+PM2CIPaekP6UROeV1qMC/j5RpAgkOzj/pKHV69ve+v7dc61sVaNi/obIlCV/Z4z+qCXLGUlDcv7zYC5pqU9O/S+VhIwVM279oeSIzTNm3Pw/cjIuw09o/W7USyw+bzr9QahyEJz/SP6QRN1p5QvU/3R140eM6yb/1E5FHpDLKP5Qc8JkypeO/O+t1leOnwb9bkkgu7x7Yv34HN2xLF8o/3PJS/YHn1L/XUtMIkJXFvzcRBm+RFNS/\"},\"shape\":[117],\"dtype\":\"float64\",\"order\":\"little\"}],[\"blk\",{\"type\":\"ndarray\",\"array\":{\"type\":\"bytes\",\"data\":\"UINw2L1azL/6LVR1s26Gv0jnE8V7VNG/hd5GPPhrnb8+1SkHcRnav+pGDAwQKOC/duDGGJA/yb+tSnr1fM3XvyqSvoUsCNK/DUxQaIL5wb80rRAsOFvQv1RTRzeRTsO/6J/7SJ/rrL9QB8DI1sroP8Ae1w5K9MS/OEMKqEkhy79LFM27urG3P9bV6TXCVuS//9p6wAsuyL+OBaLgvbqTv8DjJqcNa8o/PqUmCxpZlD/oTjxrIKWuPzF3kzu/lNu/rHpL7zd4er+keM/0r/XVv6zp9EY+w9S/GheAxYohtb//Fo/USSHFP3HO19lu1+C/m1r2QolBt78TmD3AsKHIv7RJ0yB/D7M/jz/DslMuhr+YmwowBcjRvzchPwiHKcA/wBOvIhVYuD/+X3U5AJCzP7pTS6HbfNC/kLR97k7Mwr8rOlub5ZfEv1XY66oKir6/sN4Azd/ewj+svKnZhWOGvzs49IdAq8m/kWiGTcHevL+cY4FR6X7Rv1MGM1YDzOS/ecl6FpLpxL+Ljc60NpzEvwZ2S6VejNq/kPj/PejP5799HXmEmi/iv0tpSmQSo+m/j3R/bjJG3z/qWC8IMDTVP2fGBv+RHrC/6FEts9pPxb/z+Gsjes7DvxmatsPinty/Q2RMmXVjzb+Iy0LqtSelP2q18YrqVMm/CZphgSfnwL8w07e36Le6P2fS0NZnF8e/f4CUU7XjoD81Opv0uKaYv4h4ex+nC8U/9QV+pxnl7L8ET94XAiOxvzEGxEx9iHu/wQNWxhH707+PF5+5gzylv+7O30sxptI/AEFH+16fzr/u2mIB4ZTrv69pkWRgHdE/EYMaUACW0j/ioWyADOLUv7oQcDyET7e/5q9LI0Pxwb8i2m89Dh/EvzemYbj5ieO/+WAh34/x179TzawYT3nWvyD3vqFpCpS/+jFVKJXC9T+zRPaEMi/Gv0vkMjoFusy/qIBDSdqM2b9qXSg/KbDZvy0ZlWIjHum/NEPLIwLf5r/i63O62HPqv7kYNCoQ8sG/v/MPOLQ/wj/w0gWRp6Opv4tQnZ9wX8u/wEUc6Y940b/v3pevLcHRv/MvdUhM3tO/taKmKNLw2r9uRSu7iGrgPxbzHJArfY4/H8JPrdfupj9yqMYGT+vJP4odMAyrZu4/08WzOsKE5r+ycPkRu6PAv6d8YkkRH7y/kd6OH6HQ0b9R8dBKo/bUv3oKnt1nHbo/CGxP0v4Iur8PpzHkYmnHP5xjedN0csq/\"},\"shape\":[117],\"dtype\":\"float64\",\"order\":\"little\"}],[\"tov\",{\"type\":\"ndarray\",\"array\":{\"type\":\"bytes\",\"data\":\"R+nlcIQC2b+08mnyUHfivyn6mMWeH+g/nY2SWTrod7+p/bnhCYTEvzqopA2tcbc/gEnY6xomoD8ojh3wXkXgP9xcbHUOcsM/8B74/zKozz+mIEunpBjTv1qz7Ffq3uA/Cl3PGj488L/NOze7xPDGv2JC+yVz9MO/7Eq+LIqz6L8kSvLhjAjGvwmerxyDWue/hGQr4T2LvT8gUjOmC6Dhv3Njiu0yPbM/ENY0PntQwD/CZSGUy2V2v01C//Z14tu/sKtoONGKyb/YhwhDvbzevyzmo0SY8dI/wRMv3ofJw78jBHLvyLHeP7zRWkUvAu0/mWBlsDRa079/74h8Q722vyYV0K2iIMA/dsufvfoAwr+cCK75tEXOv2Wi4SCQh7w/e0ETMtUV4j8LQCwhJkDSP/T5vz/04te/JTvLayEn1b+mKEtqT4SvvwwUoh+Hbce/G5NUan+U47/u6wX6gv3nP1ojbp7kHee/FMSvdR5C2r/Ap+w+e6HLv9yd3dlCWs0/a+NcgPKS3L8c+INqFCXfv/qKWpGKGKu/KDVRmzT+2z84bl6ugq7qv/ITHrzul9c/6U8BiQcg8L83JU9NckbQvxW71778y6a/eMF9Zduvsj+Af1YR5FTVv3CTCsqdo8e/+Uu7kb1Hsr8jd64/IrnYv8YUxJuw7N6/Dt0OlPU5zr8dty9Qkm28v5moL7n0zca/dJkoM2F91r8lNBSKA9+3v1sG988AFr0/pkl9+gRz2D/Uf+WMnHHJv/Lg1TIVc82/9Jo2Y6C+178Dw37BLJrJv2gFI0cBC8Q/ln7ZO3QewD9ShKDrbDHyv1B1cfglyte/bf08i4BH0z+IqR1LZlbHPzjMW8IDUNG/gH6cFrGM2L+mTWFJ6SO/v3T3h+RDVuG/OYuYs7R4pD/53Z4Kwuruv80sC0gKL0c/JXCpBrZ40T+c+zofkM64P2lRBitAEcS/q5GNiGqZ5L8Ax6d/kFCevwOYPPlAJeq/4S7Zw+az6z/tC3Eia/nsvx34bH0j388/e7Vvpa22fr8u4RC02DDoP6WXxNiobco//KMYtujcyT+VWlvGznHGv5zLu8FR8bi/N6OkhpTo37/ejdyCU03kv37zGfVaUaE/zpKB1Eappb/PtKPbH2bWvxVx2sKzqvA/d0schJcH4T86qKQNrXG3P48Lw3AFDsy/hcgLcIM1uj/GqTe51fSbv2XBEomh69O/ZBhKg2kjzb8vpRMHxTnTP6/eps29tOC/\"},\"shape\":[117],\"dtype\":\"float64\",\"order\":\"little\"}],[\"pf\",{\"type\":\"ndarray\",\"array\":{\"type\":\"bytes\",\"data\":\"wbyHkfgL8b9CKXmV3xP0v2uNCIjXe+Y/N2tuqs/d6b9gW/EyJgG8v/SyqjRQKOA/crLpcWRJxz9Ibj8gGwrnP0QUYD6C6ba/cPI9Mo0pyL8lJWmN4ZXgP2iyuf1HM+E/mb3QqXF3878ABbLyKT/yv6OcOGisUe2/rRaGXgZu479UG/7/Bb7gv+nxe680b9a/+679O6bdzb/xNdOLFDPhv5vBDKzSsrO/oPYdfAbL+r884YXxGY/0v88r8l92C9O/9nxIjmQz0L+2L2ztvPbgv0dGXW+skMs/AEbstjjJxL/2/tH5KS3SP+b1QJioV+g/uH3K+u3W1r83kZ8t8JXlPy4rr60udr0/8AiXLPXh8L/ZpuhEOerTP+Tvb/rkje6/bbX5erGm5T88KVl02+jCv/hq1emZFeO/VgUnYJzp2T/Yx2BcQg/lv7Qjuo3eld2/vNOpyNbQzD8AXi+5MJ3JP2aJIAScRMi/994GeXULmz9q8aJyR7Pfvwr89g2eAMu/S7mJ2wHCr7+ubzoKSWPyv0naHVtN6+U/D5q0O8vW+T+cbCZoyyy5P8D/dzSbvu0/XHYAt9wq6b8eNMqsPrXqvznfkT0cRNS/WfLHwwzB1b8DsuK56g3Xv0a+Ja85qeK/yq1oL3upxr+4eP/PJ/Pdv1nvSu0U89u/WPonX9qc4b+eQazXAIaiv+L4Bb4Bf+S/a8NWmSFn4r9StTVGqcXFP2OaTNOzXac/cfkN12xq+T+gESFnT67Vv0fJw7Kj4ty/87mcIwE/sb8EVkPbQoDiv/o6do/RnNM/BLb01alRvT+WUDJtls/xv4OJj4iR1NC/4KqSpG2D+z8DnzUBdfzVP3/M1KfnSMi/WfZHcql10D+RBQqJZvTTP9gbgieap9O/WXvQ50OL27+MUg69FTvzvwkIi1YrdNq/12BdaAo+7T8s8zTDfCewv1dIwRzstsO/g2FLYVpB5r+z5PPDhtbpP+ZIzapWoN6//qYhT13zAECTCnarrLj5v4oaJOD7TrE/obLKug6G4L/Wd7hhvcLtPwVNjlQMj9Y/k+W1PuBL278jcVfgoTy/v4uIDrNbJpM/Zqd+5+0oyj/b3J2gplTfv2YZjBb6bNK/SRQfkXez17+mKJOsmnniv3Ex+e3KGOQ/1XlqFARW/z/NUePn/DnLP39tD5in4d4/iJO+V/n4tT/kvNAucS24P0afZKsOAOG/dtLvjks0wL/fe80DSOzgP3+G+icptJy/\"},\"shape\":[117],\"dtype\":\"float64\",\"order\":\"little\"}],[\"pts\",{\"type\":\"ndarray\",\"array\":{\"type\":\"bytes\",\"data\":\"wW7luP3C8D/ulIzG/lD0PwHCpw/ibvK/X1m6xtUj8z9m1DK3j+vnPwrOOChC5eG/32/BnPir4L8Q1sDSiY3ov5nuVtLnW8u/kIaiLP/L27/IrhZMNrLvvw9902KsZOq/t2OesYFV8T8W6vSaix3zP22rMrUTQtI/oJRFPcgm8j+ZB5+CuLyvP3fnUyuHUu4/oAqq0VQ2yL8bzfA47k3JP9L2X1nhIeK/XZ5Sw8Ki+D9EJMdKHG/jPy2fXRa+b7M/CZ0jXtU15r8DbcU9Zw3rPwk535sp1si/C+m+UrOKwL89hiAo8lDiv5nZtfD9d+e/e479mNtiv7+qcn9w9bnpv/O7cytDn92/KS8ZM6S/mL9AVE7lRQSUv6FkNOPQqfU/QrNAmR6M9L/ef+G2bT/iv7euSvHbAu4/KJlB+DX85L8aNlfyHfPEvzXIRIlLY9U/4kMHswb5xj994titMgTsv2QptiSi6/M/AQtEUAHMvL9xgDVSpbrWP7zp3ijz1fQ/+2uaBYn+3b+Nr3GzSIn1Pw8ft8kKrO2/GsQO6iid4b+3jKHzd0/mv7ZdjyouT+S/LC0OkV6o8z8da2m0WtTzPwu0MPpNoLk/wAKIbjLs8z8Wkjoiwi3XPxSJDBh7guM/yr+O7JO2wD8LDm9eYC/ZP5DavJAq99i/OIqYTsfs1j9eQzEcRmzrvycYUeDq5tw/580ANv8g4j/nvlIey4e/v4f86U5KSta/o+Gii22d6L+EXr3d9SDPP5Z7WCyDRb6/IST9R057s7/TmkPBIRm2P2rAACltyOm/utTjd7Uivr9+cPyVxmz2P5Wbd2SGPvM/8b6814p27r8XMWpPlhPEv/dE//U3tuG/XEynypwc8j9PNP2+Upjhv7xf9rGjbvU/QOUQ2Kbp9D+/sL0owyDyPzdh753SSsg/NMKTTx0c9L/f6072IUnhv1n5zbAvycC/JeoTPoQA8z/pXKBiqlDivwTAdyyKfvM/Q8TJmX4W47/My7aEsLz2P71zfiZtOMK/5Ig1o9+C4r/WU0PMftTuvzp0a+mHK76/2iURUX//0D/gfRLLJ83Dvy9VaEg+y8i/yulrDE+7uj9Xonz7ThzxP1svJ42mAHK/cIwvzE857r/fLtUywkL4P5P88t4bSfK/lWSJFv+e67+ttapcsdrMvzfL69omPd+/rIPyaYYwvL8xfLpZYk7Sv5dRyeKJzNw/Q0jktiEw7j+Wh3rOk+Tkv4Y9KBm1p7K/\"},\"shape\":[117],\"dtype\":\"float64\",\"order\":\"little\"}],[\"num_games\",{\"type\":\"ndarray\",\"array\":{\"type\":\"bytes\",\"data\":\"iAIAABYBAABAAQAAPAEAAO4DAAAaBQAAKgcAAKoBAACCCAAArAUAAPwAAADgAwAAugEAALwAAAAyBQAAFAIAALwGAADgAQAAvAgAAOAFAAAKBwAAhAAAAHoAAAA4BwAALgYAAHIDAADUBwAAlggAAIIGAABqBQAA2ggAAEgEAAC0BAAAegUAAFwIAAAqAQAAqgAAAJgGAAAOAwAAYgQAAIAEAAAcBAAAegUAAN4CAABAAgAAkggAAEAFAACUAQAACAcAAAIBAAD8AQAAKAMAALAFAABsAwAAQgEAALIAAAAABwAAvgEAAIIFAABIAwAAegUAAL4EAAAQCAAA4gQAAKgEAAB+BAAATAIAAIIIAACOBwAAgAIAAFYFAAAaCQAAJgcAAFAGAABYAwAAFAgAAGoAAABwAQAAIAEAAKoIAAA+BwAA7gIAAPwGAAB0AQAAtAEAABABAAA+BQAAfAAAAFgEAACkCAAAfAEAAFIDAAAEAgAAOAEAAHIAAABYCAAAeAcAACwCAAD6CAAAcAQAAMwHAABqBwAAkAcAAGoAAACaAQAAhgMAAPQAAACiAAAADAIAALIIAABKAwAA/ggAAKoHAACGBAAAFgMAANQEAAD4CAAA\"},\"shape\":[117],\"dtype\":\"int32\",\"order\":\"little\"}],[\"PC1\",{\"type\":\"ndarray\",\"array\":{\"type\":\"bytes\",\"data\":\"KAfddRCOEMCMD7xi/E4VwM4TnxjJnBJAMOK5H4prEcBju6xMT+AAwPXIBT+miAZApgopSoq2AEDHiJRq8C4QQA6mSZYooPA/gQrGeQnX/T/NOkPPEB0QQJ4Og24rFQ9APA1OMZ+1EsDW2haDXC4QwOLxHWpm0f6/pFOP1tImEMAYOdCs2wHiv/08sni6TQjA9ENPQ8Vn6T8kgu2fVvnyvwh2YhryMQFAG36tm9rPGsD3B6iQkGYHwIsKZAGbmNS/cw016zgmAkCGAqF6bAQGwH5QF97jMPM/MIXoSSof5D9lsAyiswUFQDaJU5NJhw9AyF2AlwwLwz8dAS6Kl9gMQAKcoToIWwJA7wWo7CQa6L82Q92rSOXjP7iEZi/xbBLA9jhMp8NbFkC+tgUcvNEAQEmEXG/PzwvAY4/X2ULmCEDKkNmeHlG5P9OKlfgc2/O/38yIufhd1T/GlfrEatcMQBRwe6oC/Q7AKbw3ozf34z+OuFeifP71v8KaLC8uPA7A8iJWfGxu+D/eDzMGf58UwH3MVa7K4RFA9GHDSXPUEUB5I4+vMMgAQI4735zPtg1A23eVl3ryEcD0w58eckkRwGe/vBFR49G/eYfPCWl+EMCTdpxXIKLzv1gsSx5T3ATAxzfYuMey4L/g9pijJU7/v0YotabaHO8/OVGfxyrY9r/nSmI6PpsHQIHbwI4wPgDAcVvWY6lZ/7/qnSoToTLnP+TXbhq1Mfw/cjpvnuQuE0BnWXywzz/tv9h0qC88YN0/EDKznalP5j+I7FYsIOTkv+KJ1ZpGiwtAHh84TeUp7j8vHhJBK3EVwPQe4KIUuArA77tXUj9hFkD7giRhs1X1PxDEmpT2YvY/L+1W2huHBsDLhW6A3XACQESAXrXADBHAuYftfdiaDsBkB6uLBlsUwGtoMUQyo+y/hVc4tQGYFkCItZrGpXEBQHQqIn5FauU/IbVzwr37EsBsMC7GMqYJQIbcDT+W5hDAdBdd6hFbFkD/RhO00+IVwEyBlzlFoO8/R6tFJC+49z/QQSl3V3wSQMYQdRyK4PQ/WQgjWjAX778LiyfakGjsPy1SFz0VYe4/3DGIcyqjuD+vvCCz90USwIEU05JR+r2/6HwJqR4hBkCKblvwVKETwLParLIG/BJAA0wD786pF0BD+y5Mmnv1P4VltbnQ9wJAvSn/JTs38D+myJrg6STwP+UkV1NhRPu/l/L1LUlaBsA5gRThahAJQOn0W7sLpM0/\"},\"shape\":[117],\"dtype\":\"float64\",\"order\":\"little\"}],[\"PC2\",{\"type\":\"ndarray\",\"array\":{\"type\":\"bytes\",\"data\":\"h5GFrWtJ4r8MXs3qv4Hav+8UhChSpti/4Hqm2w/84798cT6Mc53rP7RtFRVJ+vE/ZiY047F9yL/gEX+mSMHCvx4oI1vhMOE/qgKHZOiN07/42VAMg7jtv7lB4/XZC9k/+RODaugI57+tGMTn1O0HwKEIHKO+n/C/x+Gkha30uz9hYq2bsvXzvzC2PloUef4/XONud/6rrb/fcPN4M03NvyEP3hUfD/W/Qfpfr4st+r8Jo2vQywYBwD6mpi9eA+w/CzPPsxrL4r8biG5a50PGP6YOGiCxbtY/4574/A9/27/p+7rMJtXxv/X9uMHjk+8/6NEWUOj/1b9e2h365Qv2PytGYRHk5rG/TBBjtDLR/L+ImJ2JBdPvP1Ag9zA28/C/NsbEgx+bAMBY6UGgf8v0vwjCVqXXOrK/0OWwvDBP4z/Sb6X91HLmvx9w9zTPcOW/cTU3jtWi7z+eBqktc3/yvyDbhOLxDfo/Do2keBAZmj9cjrhFMcyavwrlSHyE9PQ/gILmD+qFxD9VWVIJd7rfv1SFi80Tt+o/Hulc8JY/B0AvSrAQoWHuP3dAywjcdgdA9GdGOmuF6b/5Dbas8ZrcvwqwJgX04eu/G4dNF3E4zb+1HEjodw6zP7ELo4xhJ+M/HlnJPOZsvz9S+BbzMbrfv2dcn8J+G8+/lfwx2JTg7b+RjCG/+grTv6R/OFTKYO+/kqSXEqTk979+eamd5762vwfndU4jbte/Ur4bPmh2B0ANZB4Z1xi1vzHjdwirt96/V0h8NFYJxz9IHz6NNEvivxMTgy7loOi/SMZIWRpP1b9Su3BlsD8PQFI+zLzf6dW/os8qkmY62b9OHksU0xDXP0UCINzFF9a/SBNZTd/Z5z8Am/XAKXTeP1X1C4p+AgJADPc76RoU4j8NQAhYMAr3PxdkCjqeFui/y7/hXggWEMDuYrqoWky0P5/J2cKDyaQ/r28WLcW45z8MlekFZy7xPxEAdCSt7gNAlZwQwU+wDkAtX/qy++QDQN+Vm/UBebS/hzBarOIQ/b+nIVnlni7Cv8zg7j/5Luw/2jtWiTcY+7/QY7VyjrHqP6WrMGF3r+Q/lnrzQ0Fc+T9z93kHMt36v3unO5CxDvW/GzcDORbO4r8G2ql1bfPHv7vyL2lPMhXA5Lq6thYsAEDOuUJUvRrgv/UqEO4amPg/j1GSsBNN3j/kKHKFsLjvP93EwOrFuPW/eYifq4zF7j+fopQE4Q/Rv4Esq6xrnOc/\"},\"shape\":[117],\"dtype\":\"float64\",\"order\":\"little\"}],[\"PC3\",{\"type\":\"ndarray\",\"array\":{\"type\":\"bytes\",\"data\":\"xIe7gUB+77+a9dTxdPHrv1vbWvOvuArAtem/fBC7/7+SegKXGODhv6aII0SvRuC/uTVORORS5j+nmJwF1zsEwBb+anxbwdi/XPloh55P0r8Xp9U3XUviv0jadhmp6rk/MPTg5qxt/j9lc+ctZPrfP6DqXWxCHN2/08A4NYWAwL8SIoElyMzdPxfkaMZoF+w/v+ZOviuBzD/IHSOUsVTvP7ossoexkZE/fV+qVpadDcDbOD17FV33P9TxsUjNsMs/FliaevCS6T9Pjd8VShLVPxRgvX+9guC/x8KQ+iwm7j+jTdXIvCmzv1tCoOag+ti/svq71gR8yb+HjKHHz7DvPy8L7NXzRcG/ZCvnuCil9D+2KxonbPLLPw3YqJTb2fu/YWDdwzbv6T+zh9XwhIudv/hSCKw+qvC/4glPUBbm4D+jdBEXhqzlP965fHirRtM/hXxdoA8a3z9lqM5Aoyr8v43eLBUC8sO/54ld1J0u7D90rzgNK6zxPyv9rGIyX/q/hbzT+rRv7D9eaw/qLVr1v0bAQTaxcNQ/IQ92Vu2X+78tGMtsx04AQCyz57SDkty/mp2gM84kAED5ZEOzcwLQP7fnSS1+RsK/A8J3V2Ig8r89qPOZ0xLGv8/o0dDA7d8/Jw1aEP45wr/I/c8Z4yPrP/ZkyF8O/PM/xY+bfi8O1b8pyI9V2/v5P3vmHpB858e/rtnJnAzu7j9PX1aPUQTKP5Q/5bpsbO4/EyKzLQLA5r/m0e7W28zDv1DGgNq0++U/4QT9/3ZQ4T/D5Y8EEG66PzleWK661Mg/hnECc0cn4z9fadmlyw0FQL8ym5zKwNY/Npjp75kR1j81eukwc4eeP0Tgomjf298/5JoP1pZK2r/tQ+UtzOXwPwTx80+HW8G/uYnEyOji9r/cIPvr4UP6PySdJk516ME/lHtgFOQOCEBjNRW4nlDTv28Y2w/DoNm/iGn9lEtB1T+yyDTDgJfYP3yol6XnDLK/YItpsQa6A8BljqTVD7ffvyvLQgpxK7w/vOsbEiAY3z8krftR/nzlv1OnD0+L3sc/907Z9a4jvb+A5sCsnx/wP3Tkk8flkMU/ZR0CfcUp6D8/OkmLk0fWv9clMwZOJN8/OvrtGtDP3j+6XZCiFDUCwOZb8TY/8w3AhPaX4ovG3b/jmIXj1gXDvwYSJKCCa+y/ClHBZA7wtz8IbIRPPZDbvz7e9CypDOc/eECSJ5nW378UAW98an7cv72lk/VyueA/\"},\"shape\":[117],\"dtype\":\"float64\",\"order\":\"little\"}],[\"PC4\",{\"type\":\"ndarray\",\"array\":{\"type\":\"bytes\",\"data\":\"aPB++3ce3b+ShFpmpQetvwKUzCOwMe+/kT6cXD4f0D80Pr9ZE73HP55Ddi/BNtW/afemy+zn27/y2OaoMErjv6O22CpFWdu/eIe8QDck5r8wX5Q73o/Nv4LA6tvd6sQ/8pZiipFtwL86RdHpubT2P35YKdT7Q/C/KmfXhyf51D+D6mXKZyfHv9bcdmtSOLA/T+LqWNIw3b+8pb/3xEPZv1nsmZ1SjuG/nmjGyr8l9b/0EbG4iUPRv+Nm0qQBXuq/P+U6DnpY57+8sMWnKvCeP1kB6eZV/Mq/LJqIv4L70L+fqTPIwrbCP7tk4+jPisy/1UF0iCWq4b9UKnWO5vnAP4+1aFKAwb0/0AQdQFPa8r80UWVhUW+0Pz0ZEGeKseY/JfjroLhu4z+aCycaCt/bv9+pTXQnddG/pdntV9r1wL+8IwMGiHDwv2hhQlhLYdi/QuguaAb19D+MnIlA57vhv0a8jJM2pPY/csSogrNJwr/v9DEcWx3Sv09opW8Oyb8/WmYHozuw4L9YKivfHmXMv1hsVsNaVdq/Dwa4DynN7j9ElHPcaJr1v1gwTwcaZ7u/t+UqkZ+m+T+v6VD+SRD1Pwri93aWANu/ANeLuuWd4j8MnS2GM7DQv5opI17P+ea/yMqViu52y787GKBNw73ZP7PfaTQ/Veq/y/Tvn0A75r9gGqVs38bSv1x19Zuwkum/Lbp8fGkRwD9yZRCWzg+0P3QSinVxduQ/IAYroTVE2j/0ETgzVrSgv8s7U/yWNce/6wQsop204r/h/LfdeQHgvyGi/7+4Htk/SldCIKk+s7+xo4PHUVrbP40m3IT7Nfs/a+VyT/7dAkCVKN51m9nCPzof45WOju6/6QUMxgXZ+z+qtkuR66Ksv9C3U/le6tc//f0CG5pf5D8VxIRrVQ24v3q8J03ul8e/OYV3aYJ5BUAdlUCZDsHjv2wJVGEVk+C/kqfEIo1Vvb9qLEMaA5DTPxigXR6qUaq/IekDsQ7n9z/DGOew8MT+v5esFhHjMcG/JZ62LR8Y8r9wSSQos0/SP6ALdsXGxM8/2RDssrkY5b93yR3uOpvQvzhZxRkdZdK/5t3bLHZawT9IlUrdGob1P4cx8vLRhMi/pYpGtAgB8r/xTqbSXhP2PylNUKMFJPE/ydW7Wu4F7j8Ar3MpYv7Cv9j13hyx5sk/P9boHmOslD8BIrE4awzgv/jtfwcDErY/yC7MvzSe8j/jT7i9463oP3kRCqOgE8u/\"},\"shape\":[117],\"dtype\":\"float64\",\"order\":\"little\"}],[\"PC5\",{\"type\":\"ndarray\",\"array\":{\"type\":\"bytes\",\"data\":\"c2NTxLBewb9wkA6EOlHpv4ds2aAwvOi/PTaFozXHuz9/5dJ0omzhPx3OBKBKTbk/YvvKsiTU0D+cZQkIDFd1PzSTBUgmjdC/AJMdJfDBsr/NsJDZph3dvxsjBg5Fnqk/KzaPD6S8u78R1F59nq7gP6p2uzaQ18g/x+HxWok1wz9Ibpg2zc2QP3ls6CPNTeA/a/mB63FcpD8tXn+o15Piv0ojIh03zeK/O48ptHYvzL98tp50px7yP4wJv4a1pMm/HhN4r7mJ5r/wVCcHag7hP5Akk/GPNOs/spCaBJu63T/Cf3ufh4nkP+GuMLBHePo/woYJIb3g579l3aIe7E3pv4ONR4vV4Oa/ckgqpxgX4j/1qz55iUeov8WJjK2lUMQ/IDtAMYUH7j9VajS6ak6aP9Yy1By7Z8K/4kD3mj1+679anCHDL2/aP3C582ECUqq/5dLI6sOM+7/dJTwMNNjavyh9MpJy99u/I2RI7tZA3L+BoDJLspTvP7sZ7YxTcPg/FrIEJbc55L+eLWilC7vav3bvd68eI+W/ESP2GDy42D9JIHeSiCrfv4BTkO+LFOw/addPnf4W57/t8qjElrvvvzOcdjgKIaw/sOAbG9nn6T8wIjCcjx/AP1fEnh9w0+g/ZSEPSU/3ZT9dtANF76/lvzzFoXy+IeS/w05zLY1Fwj+kTSI68nnkv16KounM+uI/Cqr/pXMH+j8xNHMewBbAvzOmJQSQcdS//oCKdlS44z8jhJH4DVLiv+H3Zkoo2tW/a8N+WgUwoz+AoX88WhPbv6DrMGqptOK/WI1eA64R9T8wVWSLOAHXv7fJ8A333+m/3Pu+J+L98D917BLwAvfsP9bT6s0vY+W/slEE67yn5D9fu0Ouh4TcvxGmP6dT4sY/+dodW9nt9D8PSjQu4HTuvwzZN7Lnaso/ziAw/Ipwyz91x96gg4fCv9b2LVrAN8m/0SHE42bNmL/MzwpU52biP4vUjke5GMq/L4D5EHmqt78+UAQkN7/hP7Mp2lvWa98/DlpW4GZl0L/wjKngAEzWP1JmQHcJl9c/F3Kba/Zk/z+KlYIXrg+xvyKpHqIAGda/X4774X7tvr82Hm+aSij3v9r/WcRJHfk/Jp74ibyd9r/qqW2Dehrmv+XccXBdtO2/O128qYBW+z/D4GIElunmP25NSspTKwPArGfxY9j44j8WWx9Y/aLsv2gAbFr01ts/OozyFT5ZzL9i/PSFs0Hhv6OLI5c8xuy/\"},\"shape\":[117],\"dtype\":\"float64\",\"order\":\"little\"}],[\"PC6\",{\"type\":\"ndarray\",\"array\":{\"type\":\"bytes\",\"data\":\"mNqezMct4L9Lwaign5CwP1pcpyXlYbm/LTxVtdV3zz8mxzu0LxDBv+bsj4ye1Na/oHlpdfo+pz8WvgYlMs3ovx37woLhoOE/tZEXsKWN4j8NwT6hdbUDwOvFYShsVOw/eU6C+ysr57/Uo1JjR07kP9dl7NcWM7e/Z+KRxKNI8b/tXNwfRgCQvwC0ngqQ4uK/uR/5219A3z8RL9VyI7Mjv4zX23HBRtc/xafs+nNM8T9NAMSh5ojRP44F1BNVftS/iwut1/exob/V9kUakpDqvztkh2TjNdk/AfHGYLkcqz8ZOWD5FEPsP5RmDZfDavE/qieIFwB10b+GUVfaqHPfP/btl3cHY+I/XNi7j58IwT8Hym1iT/q8vx1s/xam9eE/lh8zZGWB5L/tua6PIZHZP97fl9m4O+C/8zXGdVIp3b/RG5IrC0/VPy+iAD1D+Li/tKxxBTQayr+rRw68DTHgP+6c/E9hBN+/Xxy2+OT41r9K68W6EL2+P6ylU85ZDuA/enpdX2sM3r8ZaJrZ72Pfv0BeR1Ni9+O/d9heJpSx17+N0OtfM0v0v//4ZwsYFd8/pWyIOoZ9wb8AXu3stynzPxxwFixB7rO/mR/Kh3Mg2D/XFPBNuA3Hv/G/9iPTS+A/fk5jDbsktT91mIJmbkWtv625jMDeJOO/JxuWPOEl2r9BXYnb173nP/4t+zLFlcy/wZ40cIK75b+XUbNjrH3RP96v3fqIdeY/0pEVH4lg4L+FhdKT8grEP2sA5wFupYg/eoIoECzB5r+A7TmzNEjDP9lUtFRDH+E/3oZaUW5dqr9c6YbsbO/YP7tLO2T8HL8/o8q/nQJ027/lE5sYr/Gkv2kFfLgUPaQ/qaDt2l+/6b8LA0D94I/JP6uH+DBU8as/a9OuQL6rsT8pbwhR4gXWP3ZwS19N4dk/s+l7wmPv5D9wRbb24BrXP+3YpLhtOdS/9tGMFsFrz7+YgsT76BbivzXjwywPB+q/yi1wGYgd4j/o1cBd4d7eP50Ro1wq0uc/sIINbn8D0z8hY8mMvKHrPxsGnKhA7Oo/d949xbiy47+r6JYFOuXZP77h+iAbPK+/UD+RNhe13r9DaeC74ojhv2kONZO0pnk/PSTZ4dJ75T9GQextapaQv1OjZnwY6vG/9M+ZqnW46r8uAMzGAGfJv2a9U/Vn9sQ/Jrtb0KZqzD8LwGPvuMLZPxlui15cpNG/1Js0Z3vF1j9NRdTST1bgP70TZNBGSNG/\"},\"shape\":[117],\"dtype\":\"float64\",\"order\":\"little\"}],[\"PC7\",{\"type\":\"ndarray\",\"array\":{\"type\":\"bytes\",\"data\":\"YYVzMulKlb/y7IqNPcfiP59QZTeOQ52/vmiR+hv5oL/DFLrJU5XNv3PpHAIN4K0/i4/eYkr80L/LbKBt0DWov4Ygai0CAMy/i6tmqotIsz8mIZHoTM/qP2Ey8nq8xtW/m1CJMo/wr7+JD/euBUTwP/uu3L3JkL0/8My/fggP4T+Y/cHoN1S5P8gj1eY6EcA/sYWsBCIO3b9eNtrMCGerP89+gXVnLaO/EesDq8gS5D+zWrLk64L1v7UfGqxGDNA/8Vjd6ipixD87nmIgAXDcv1rjY0sLdsQ/2OMWyUZgvD+IgWb1C+zgP07YWee+ad+/NZeP7vHx1D9rKsJutuW3v0ofaT3ebcM/YqB/VndA279fgX5jvv3Iv3dSBL/fSLO/IgUzsuGPyL9x/dUuOI6ev3lcV28Tf9e/fsq7ZciJ3j8sm8LxhcO/PzXcPmt7f+u/x6eaS7rO0T9C9ljmKXHdv7H1tEcRI7k/Msrm92pysb+pwXgaXmq6v7ZDDoaoCNK/AO2bU0FTzz93Y/ffGFV+PwAk7UnnBtC/iuy399Ss0z95koNDetWcv9q8++A6UtA/7F23D5kuzD8+y5VSzW7Nv4/DI551gta/xmMq10U54L9+i5oApynWP8oxYQh6ieG/85D69ZpR17+UzYD6WmHqv8lUJxS2l8m/vRPpnl31tr/wwAu3+aHfPzG6M/256Mi/ozkymsWL4T+cAmxjUjTMP3lX/FYmita/0/O1aEY8478whCIRLLHBvxuAWsJOqNA/sz5a8zSwvL8N2u37+9ugv3umgwPRguY/halLmCCDw7/McIAgcFnIP2kVV0D+Q/C/cmSm+iIm+T/s9imIL//Lv3DXrKvhmtA//Uwt+giYs7++5/29NvbQv+YfbNuraX8/BJ555AB90z/K4t1OO6vDv86T/T1EtdG/lXpWSGyb6T8C49Ilwk3nP22OfAaC0cs/ohljQ9ef4r8HvW2W6xrXPwgkmHDDudS/+tVBQ2gl4r8waEfvcsQEQJASBwysg8i/oIC6VQwezD+pWIoUBYvNvyxVOBs0Ds+/i7viTfAg5b8bhak+GECav9Pwul8Ka+W/NAO0q+OLvb8v6ZJd+pPqv2P5vFkS4+E/0UC5RYJBzj9kmJi37CTyP3tJTRGVweC/uXs5YNcQ1L+f4R3sSk2xP6paVWGaLsu/I973W8UNpz/X7hLuNujZv3DW+Gr+n5K/sdsBe+b5u78SHu1qQ0TRPwVYJiMmL8o/\"},\"shape\":[117],\"dtype\":\"float64\",\"order\":\"little\"}],[\"PC8\",{\"type\":\"ndarray\",\"array\":{\"type\":\"bytes\",\"data\":\"Aym9KllU1z88DBpfS3bgPyRnhbrbk90/y6Oy9713wb8QXB+W7tbGvx96bWqnTsc/rSd7BRG8oj/4DxcKgxvgvwgWR8aQs8U/cWrlH8M8or+zwA7vLUP4PyjA1qiDnNI/CUL4sH1ixD+j2nD5xNycPw+/x9OcC9g/hqGmFntcw79nCDDKj7jNPwPHODn5R8U/5aqFcQ+Gtz/x1Wvvmjfav2zcN6YE4ui/nToX6SQ8yb9bkQTBLeDdP/coVgX+YNO/vHznTZ6zvb8s0KKZgpjWv/4ScmpB0cA/CHuNcOV1178uPFqYtRnHPyoETzNJtLQ/Fad/AptEuT/YqM15BHnRv6zwkRSYysy/ykpr8JeTuL845HMmOqbnv08BfYBAxMo/KWRwdSVg9z8RWx9s50TLPx6V6LOx9M+/bEYZlOAV4L85Lf4i+EvAPwmE6hb2TNS/7AO3rVar5b+0nWm/v+fZP46d+fwFs9i/u1RqTTqS0b9iYaicQU2iP+M7GNNbQsk/sPJgJg5Jyr+UhAtt1NfAP9h1xmx7LcE/1sCzxt/Y3D9VVxyHaoqqv61detpUZqm/I6oAlTfs478qq1mC9EzkP7haCslKKM+/YacVAocqxT92f4Xw9xLmvzVmb5je+L6/6BmjIwgysj+xOvdVF33ZP3rpLWyEzrg/0ECButdf1b+KTD4d9jHXP4RK4tgbV9G/qFTsTQf+4L9DqnIIKmfJvxB5IGiVyJs//6PGneeY3T9owX2Q6cS0P+9UNs9RZ8Q/s0nSuQi75b/yRQEwJHybvw5LeTGYLau/Pibp0SuWpb9M5gubk5T7P2wUkJmJLdy/sOE9Ttv30j+CGOx1Rki1P4jjp+y+WLC/VjCiq+/e378A2qaCJNCjPylirCsAbsE/bqoBseYZ1j/W+XdV+UXxP5vIWxLDR8k/lX/ebMvcx79FCk+DLCzBP1oUTSbB/sm/+CehW0b+xj/4EslDwQe2vypwNFV5E9A//R1naPkZ1b8gvcIrpRrRv9DKyJ59krS/viU6pSDxuL8QpS9sbVWAP1MUDUiyKty/Yv/SYg93pz+tXOxHv6Gyv0ktcMZ3Ccy/vYPgdCd33r8goAbzsbm/v6/sgM66Xt2/H99gYid24D+ZDgotianDPwtZDtXeF9c/ucNjOR3T0r+dUTyfd9Tev62Xu4n5e+K/6aC0jLykqD+IhMj6xzXEPw11NqJfDtK/yGLO7AYWm79RZnHnokmxP2xOLdfi0bm/\"},\"shape\":[117],\"dtype\":\"float64\",\"order\":\"little\"}],[\"PC9\",{\"type\":\"ndarray\",\"array\":{\"type\":\"bytes\",\"data\":\"ur2tBPgIw79t1VaZnWvEv3LOatvp59c/OVbaYKkEuz+N/K0X8fzCvwKIYgbdT26/GqT8aoolrD+oOU+gK0XvvzIfNMo89a+/pA5FTwpu27+VlYhfy8DRP7IEwCm5K7O/mCYKO1eU1b9ygjYXAoPkv7jBKj/qddk/lY4GGZcqs78HdeAmsELTPw1IeV8kGZc/6Qql7jjVxj/twa0/QYbCP4Zs83G7Zcu/KZkIs/6o1L9wrhH9PIfXP9lnWXx1WcO/FfMsTKq3oT/5vEvcBybWv8vDbAkRb8k/fA60Kzi+qr/Jr7OaZSLWP67+id+rk6O/AiQivIztsz9jod6lokfIP0m8xsmAEck/nHNIiOd0tb/+TLSVPFLUPy+DWiaSFdi/dGPJUXUe47+xi8JjODyrP4pzivpcesM/Sd4ba9GH278fFW2tahTJPyKrMAaaQ9u/ksXANK17zb/6NzpqmpyOPzxh53YNg+A/BHOGjzOdvb/XWWr3w/abP082Tmqxd9e/b61YuHsZxD9+6Ss+eGDXv0cqlJFA8fG/Zz6rnG7t0b8hCKny/tG2v36jAUZdZdc/7yVecHQnor+ky57XyRLgv/iqnmhBC5I/YJCqon7jwb9MaO6LnmbVP5euG/3G/cY/zeV2fYAf0T/JcqWyivHNP6z96iV2ybC/YwCiyjpfzb/z/r1ox37PP+SqFza1eK2/naMSOdSp0j+fNj5oXEq9P3TZjdDvq7w/Nb6LxRE1xz9kjCVyM2i8P+qxmhhaxMG/JOAY49Jd4L92EuxmTYNxv/yTEGVcedE/2YZnUE7wuz8xyEoxwGnav/U5zPeqQOS/X+NHyj4C1j+i+oK5VlbCP6JCajNFy9E/0Pecbzq34T8ulDruh26WP4HJpa81M+C/aWKBVPA2cD+J9ADAS43NPygWGD0tEN8/uMSrvUXx4r9RMCoP86+hv8q0s3w/csE/vyeRbDeDM7+M/NJtWGDKv4eMdxCX9b0/GlPipdlV07/FPxyOwzvHv2seZVgXg8W/RGamj7JCyb/nfunHENOyvyeugkSSkrA/QCuh3OwTi79XTkyvuQXKv1PWr+NKz8E/89cgp7qe0z/LKxTMekXwP7yu4As5suI/Q1ixOmTE1D/Vs5ku5aDVPxRG6C1uZKE/336nWaTeqT+mkoQIsZS1P+FvDOeW8Im/vJrwYrCxyD8cCtgZLYPRP+hKxy+bxcm/oxcawANx1j+sNMPbw0jbPxAlB3IVgqg/\"},\"shape\":[117],\"dtype\":\"float64\",\"order\":\"little\"}],[\"PC10\",{\"type\":\"ndarray\",\"array\":{\"type\":\"bytes\",\"data\":\"4co/Hjv/xb+qOWyi2gyxPwU8xX9lJdI/geNSRrYzwr+tdpnaRr22PwJsXbX9UKS/GWmDNCuoyz9is+Nuv3W8v3ysXEjdJL+/3K7CiNmjyL895lEGOWGxvxDHHMYdicu/VRqS4574oj/5tsLrMNDOv05pChUoVqG/i/8UU44DmL//Leb7cPWyv+UlqUaima8/509cmd4qxL97HEhpXWu7P/6n7QuI6Kg/5Fzf4Kdp2T9b3xGj36vbv5+vDaRKUZG/jXMHzOuXyb8tOe3ftRbQv88VocsQK7g/h/5qAMsblD+3ebVjIPTEP4/ZK6Drbba/c0ar0b8HgL9GEe6kFyfGP+bmnNWkvtS/uNH/Ytf+zr/rjGtJdIbDP6OGZYkBRtG/mF/neC7Gl7/ieSeJFGrAv6yYXHnD5r8/cT+7sxX4sL/bz2cuYsrGvzxA4Odugr8/WobYnmizz785PZjOfknGv8HcXZbp68i/llgmYFYuxz9KQW5iufOIv1e2HptcFdA/Xtk9SoxwsL/TlYJN4p6zvzGeF0ea+ck/gvzLMXA9qT+8+xlHcKjWP79gYKrAEc2/SI595L7Tsr9izgjc/526PxN/UGs5YaS/T7dbBg8S2T/IWE/7fD60v8CV+WXuPtI/tA+k9dA5lD+B6I/qMIydP+WnDMqgG8m/JJS5aJX1tD9KZWZmjdGkPw1Xp3DG1sc/cHoBRRiUzb96yAFk1bnVP+zufstWDNO/XAutomossT9tw2w3xK1pv/IJsXMXjNS/jJwHU+6as7+Ts8Mkn521v+cfdQrmnru/iVtj4IiYmT+jOBUHLbjQv3Q6Vmw6X7O/57gFImyp2j/bC1MNN/qov7mgwDX89tQ/LVK7oFs8v7/1I/E1fRDAP74RsiBRZdE/WVAO5g05u7+f+0uU9GbPP2WkcDYtK7k/ikuc04Z92z83pWTk7x7BvyvEkQMkWb+/T7BOoL3s2T9dzAkafwOhv+pH52Fun3K/9V0rl+I3yL+JZ2uc0uy9vy2Fwcc9SMw/oYAvTU0qwT9+Uw1685TKP5YYCjfD66Q/7rko3Uk0fT+qiPygNEu+v9L+EOi5E8i/0oVekGqkq7+T5HhtuLnTP0THWgKcELi//Z+VJDjXj786PsuHUci2v+k1fQjYpL+/jaQ0o0fStT8J/RDpkL2yPwoEJQ4nbbm/679Th3UKxL9d/jtDz5vGP1Qvu7cSeKc/N4R2CrACl78xxPPrKIG/v6VWAta5oM4/\"},\"shape\":[117],\"dtype\":\"float64\",\"order\":\"little\"}],[\"PC11\",{\"type\":\"ndarray\",\"array\":{\"type\":\"bytes\",\"data\":\"eje4EaUevz9+CSMKcbeRPzmPpqfldc+/ZkTMAgCWrb+29Xo1/AiqPzBKJcyNRbu/0w7zV33onL/lF3TeC6+Kv6LMNG57u4W/19ywPR3+lz9th6oTH8/TP/NxaDZrPss/B5tKebGDvj/BRifp3e/AP+z69L1mU5e/ggfR/Fg5uz8mLJ1A5MfBP4HpuDalRLG/casN7ug8or8zu4DJZBOHv61t+baBmoi/9ZIUgQVAtb/2t/RO96DUv59hn1+DkqM/ASQAvi3os7+pV/iDc1ylv6UOsSvat6k/CNnaBzmipb/dk3SZvn/JPxQUy3CYn60/A1pVivaqqD8bN8sirpTBv5HfvFvVJsU/FemsneRGt7/UaeT1qbjMv7S/wGV8O7K/aiC+SWfmwb+RopVos3q/Pz1dpXWqnr+/vsANkQ00rj/qC9XtgNG/P+vJkeZnc8S/RmfRcGUEuL9tGa+QmnyhP2kdSmGJXdC/mle1rJUgxT82XXOx0uyuvzv9DwVNVL8/JDP5CwYLtT8wDST00Iy8vyuMHxy4W8+/i1Y+oMx7aj9cHg1FDH/BP+IA45yINZ+/cdln6FUHgr/oCyDdcce3P+1BQr3YL8k/ijQlb3qAyj/Nqf52N5rFvxSRy37RMcG/NGN6jpZ5wj+Mry6yivbGP65hLDWvcLS/9yU50oSWsD8kcV6T81HAP/NVc2FAqaA/JwORFC3etD8qbH04oTzFP9n9yBLKDpW/JZEQ36NVwT+U2eHpUFWyP7/nIV/434U/mtni+18Prj/ZqdorFmyWv4HCKlhrGo8/Jf7rBlK5sj8ucnY3UmTCvwZ0p8lRN8g/cxJagUGby7+0ARJB15DBPzbIrblHWsG/+L9Z7WX5jD9Vetq1M1LGP+aiYnjuJsg/aCZz08mQxb+37ZMtlX/Uv2pl4U7sJoC/xFa/EM1Jz7/ifzlxmfd7P5VZhbSXFry/0rQ/z7cHUD9P2isSW17JP5yUByz2BsG/6QrcrK9Ivz9iM/dDVATAv0o5oa0urLi/nYPUYc9Kkz/2i7LlQQOmP/BEzBSrj5U/+XbxCioLqr+v9Tvwblqov/O9NySLtLK/YsQrweM2oL9kLyQd1QTIP9tygZ7SzqA/wRTnNG2GaT+EOnWUxBa/PyVhsNtmtNC/dh0aYBHRv79GC4bxJ+tgP5k993PJa6a/6ye9TWlUs78DEfYif6ehP44uyYM7N7c/c/3mhdjdrr9lZ33C5Z6Yv7VPeP0g7qK/\"},\"shape\":[117],\"dtype\":\"float64\",\"order\":\"little\"}],[\"PC12\",{\"type\":\"ndarray\",\"array\":{\"type\":\"bytes\",\"data\":\"Rb98LzqRpD8NFHZBwQ+ov8JcuJ5YHbw/PxxRn2yrvr9u/ahPTnKjv++WTDCPYKu/GgjCnkejrD8Fk/4gTJO2v6fgh7pj0Ki/cjnxlS29qb8YgS+FWVO6P1Dc4qI0Sae/sqKO3WZCpD/RzBQcBzC/Pwtz/DbdRbK/aW4sw9lTsb8Dmay09megPzwMkBLr1cA/dBf7NTWFqj8L1lCTQqpxP9p+RztMprY/g6Y9oDKnvb8iY5oOtjzSP+2BWv14iK+/1Vmtpxm+jT+AJiCBIgKpv56cVKJPQrK/xTN50cM7iD/0iJLkV/S5P4GAQkEBjKW/aCgF3hkTpL8I9flzh5CmPzukNninlrE/dYi5wAyyg79aqFhP75pqP2rZLMxdqH+/KtNN7ZxQcr+ZH+UJX4SUP8whXzAfvr0/zh9L435jmj+3X0OjbnRyvxUYqTsunoM/pphbYZVBnr/dOSibf7KkP8qDX6WbkbW/TWliaDIVsT8+oNLC/qS+vzYApwJ4OaK/vYxmJF9msL+AMC4Y5PetP6VyKKUcbL4/s2cuwt0Gl79XvakLQ3GTP6Z9DY+Zu72/31QOxqYcpL9A/aYEg8K6P8R/FuTB9bM/pf0l9bxXoL93woRQGxypP/jUDhIBfLe/H+3n6iX0vL/Dm+0KpZnEvxBWlGKILY6/kW4iDHx9sD911r4+8LqwP7gaJWaBkbC/4+0RVP14gT833AcuuEWHvxsuwlZOLKO/l75kzki4tj/gWjKS6jaBP8VDWZMlkTY/GszjDftCdz/B2VElu9erv+bDquhNmZs/L4rMX4q0cj+WtfQGx4jLv9oE81qFjMc/kmTE84XWkr/LpO07OOWdv1IjSft0Z3K/yyAqxvkaej+VlS2NV6uHv+1l/Fe6fLC/+RJjJHxGtD9VXa37l1xlPzZhv8HCIbs/gmmZZzqSrL+QqU6oMv61v9Cobfm4uqI/alP60+3Yl78b3nDCaNnJvzH4gl9yjJ0/tEe9quZLxD94vn0St2POP/JWNj7UdT6/jGeKfHSRUT+BUlhTSLmXP7N3gz1CwXQ/2X0BRewEY7+ZMPxGTLuEv4qmjnd6aZW/YXBRTC72tL9ABwLaI8a4PwENYksz38u/1g2Wx8lEuD8KAQEldku+P5KmB4+misq/rxO21vg9yT99afH7hDOeP4HTjYy6kb6/nf+F9FyvjD++fOAjIY2tv/PxaUM/ErC/v81s985lir8LgqkMnIutv0Cq1noO05K/\"},\"shape\":[117],\"dtype\":\"float64\",\"order\":\"little\"}],[\"PC13\",{\"type\":\"ndarray\",\"array\":{\"type\":\"bytes\",\"data\":\"4B7Nu86SlD9gYjNZFe62v/1U1dk0/Zi/iPl+w3Qhmb98uSMvJnZ2v+MusVE4KZM/+/xJRQzUZD/BEC2QHx/Cv+3nCB9tSHM/KHiJiVs4nD/ypTjYXR+1P44B9ko7bp6/4V0L2rqfjr/fdDxTHfClv+C3ePFTA4S/FYHD/oBEn7+RnpNd/e1+vyLEEj8nQ5i/kzJ9yirDqD/c29vAStqEv3lfsrIdWZG/xwhA0PUBmr8rZYzjTRzBvyTlQ1w2HaS/De14S2rEob/pYsus6TqBP7up9EbiRqK/qKnf7sXEf7/zi7/rmCafPwg7E479T62/7pXGZdC3jr8W6DXy3HOLP/zbSdgod7A/TnTQx6pkmj/ckduDKzyRP1xrgLKfLqK/l/M4WYaFoL/G9Pq178FWvwB5dRoEKn0/H7jRJTKpob9/NdSKZPtnv1pRlbPRWrU/CUnrE2gepD9TMTC0kP+kP3dmL+xlKzm/Vx1bZr/Qoj+dVrlpSkKvP8LF7BrmRbI/Kbqym3Z5q79GH2pGNXuTv4LxbElWZZY/sfo2ioWveL8pj8Bv4f2nv0F1XXXXvKC/9Je4XKaAmz/15zesfoWTP0eC+MPxEbE/Xrp4AvIcmT9fzU3vMy+jv8gCP1MDjKQ/XR0DijaFfz+w+AL4f3ynv/o1pFjxrJK/02qPGqIQlj9Y+jVFcx6Ev4NEYTNKOqw/DT/EhyvAg7/HzaZYxM6WP4LYnen5O6o/SzY2k4Mem7+qJYyPJaZbv0mQkw6wHoU/kZaKafsOlT92GcR4uTOVP4tqMhfuXng/6GUPBIxUhj8dh72BiPCmv9qVNcjAl7E/s/W7jnISnT+lzt0pVCiVv/0oi7ICT6W/IqGmraQGtT9LKvJmQqhRP1jX8UDWTFs/fg6Ed6KCoj+1KgJZdoK0P4w23GruMpo/0sv209TSrr8FmeqWyRqgP2ZNeBASrpU/J/X6rulLoL8/sj4NloKWv88zYB6llIE/9esbuUYAor8Qlb4PDcd4P+tiqKb3160/IFzZgGsuiD/wpqmMSUy1vxjFhcUpdJU/nGFDCUqvej93WxlFATloPyxWTT6YUp6/R/q8d51PfT/I40cqSe3Ev7nNO8ool16/7FochhE7rD8ZuqLam4KFv1V5OdsNH7M/JlovHevKlD+xdc7PD3Gpv7UhJJh6oJI/4DsXcJKEWT/Zv6/m2zZHv17uBFy9gqk/YiuxMKqiib/H0oN7p+eHPx19XK522ZC/\"},\"shape\":[117],\"dtype\":\"float64\",\"order\":\"little\"}],[\"PC14\",{\"type\":\"ndarray\",\"array\":{\"type\":\"bytes\",\"data\":\"BarJo++D0zwUsyCnLaPZvEWcEuVLfNE8dQQqtx3pmbxDk+KjtXGOvAdFQ/tkX+C83gqAzWBb4Ly0j7K9WsbdvFVxYaJL58u8dFKmTz3Ilzxxi1OBL8XVvOJ7g9/jaM88Q6JvrUpx2ryYW8EscsvRPGFu6id6s8Q8TNVZqHqg8TxqDFWMHQfiPMbfFvCd9Mu8SY003wuI0jxeC12XMR7SvItaPD0eSeQ8Q2PTwdJ+xLxOGzW2jCHEPDAzQo2MDuC8fkg0F+z9zjxG9ku0wBqqvIQLBAKzgtC8bfUWJEqFpTyk3w9b/B/vvMXV/t/s39+8MMlfdwYTxLxaP6bbBuPXvOaJA9lNVee8NTUazzXf1LzUQoKynWCzPKIVkrQAs9c8liC/BpkvoLzyCa94KWFpPJVaDihwB8O8VNjHXllw5rxGxQYJ4D7DvPBeh001/868GaiIRI99wjwvbK62bQjLvJHMfnCwSc883A1xJnnTtTxadM7ABOrmPA6YlwTpgq68t247edgT5zwgzg+SqWLqPDUDuAvsPt68+JLBXrBhyjx2S6glygmsPOMCxNl7fue8cSOMa2iEvLw2VAtvNfDrPJLXDN/XLu88nCPU39eT5DwBvD3BH+bSPEX/ssEJOse8Y5XomFzC0rw1PHrWHCbnPEuoVKcBO8s8belL9dNg4Dwpsn7PJmfRPBDtva6qI8k84oMPC6d32Dy5D3CZqHPnPFFvomRd0808P92aS5xa1jxZvdIFTh3XvDLhFPXoFMu8M47QQMSr4jyaQJXd7xCpPAFNncqnJtO8ZsAwkUdW17z4/U2pqXDSPBxFiXIYsOU8j03OSK8J3TyB/qLj1AvYvFTvRKoS1ZU8TdgfLTO64Tw3X1I5YWbgPJkbtiFT7L28j2HYEAZR5jzZEoCEBg7SPI9yaTBSv9W8qVLQVAjt4by+L5nat2ijvIPNpK6pVsE8yHLGuA6V3rypCO02PGnUvDyBPwZtgOA88Ane0FoX7rzMX2p1zanJvNJhkJhe7am8HnquTlkC1LwOSMaLE+/PPOj3uWO6sNq806z1b1wv0jz6WFprbCC2vHDDb4MUBOY8b8Ad27l4uTzXWkVVSCfWPHx/2cOl9de8zRzQOhX+0rz0Sz2UbUXZvCfBXCrkTLo8PzAGCa9Z37yDzHoo6xymPMqMQmmH1Ne8b3510Rgt5LxKrbGJu+TjvP7iFWhUq+i8slxL2tY22DwbEl6bM4O1vIoJIfh8OtU8\"},\"shape\":[117],\"dtype\":\"float64\",\"order\":\"little\"}],[\"PC15\",{\"type\":\"ndarray\",\"array\":{\"type\":\"bytes\",\"data\":\"Awd1322G2LzXh6RBypfDvI9cWq7Y0d08etih0AHDvjyJQlKn3O3YvJttX9ckXbm8bZEbNdiF17xpT4Bn/D6yPIycx6ddgt487cVBwQAEwzx5EOYDOI/CPF1hBtkL/cY8/YH1kw2qzjw7ORr9XeOmvK2TtLG8r+O8lImt14tdx7wW1GYeZNfYvKgdMDzc3Na8/nsEuntVuryTl0j8bxyEvFk1sWYc8sg87z3kl1Y44rz7RNw6P1u/vItttbpv+rw8cfFC58fz0LyIs4fVU8vUvDwYEMRxIcE8rJaDDdKRrjzQdSuChzDLPPfq3r7t89U8RVfEKeZitLyZ9Am7KAy8vDwA+pryKZi8GUbJq0W0zLwAaoJtcLzAvJdt1IVqttC85yB/T14xwjyQrui1Aj6+vGrUPL3Oo728MXi5+i1Mkzwis3ohy/XXvAGXN4xiAZe8Vj+S2rq4xDxWfFsLqb6tvLcNOvc+kaS8zUVMa+js4TwRIgFp8trevBlN3omfzLw8V2bT2/r2zTxre/o8+lW0vAJYPKdnhqG8MBdp23j5frzMMqpPWb3ZvF5fxUzlusk86tX7e9ve3rxnsecZ5WLRvDgq3ocFj7A8PJT3o4jOzLwlC5fWbQSkvBGmWed7u3W8V5GfIY4KnDz/B4UGS+POvLCGjt/VPMs8FLgjKhC41LzwU2yrk8HcPMmwPlMuMMk8BZm2DGA53LznRVil9zWxvEuTzxm3Kra8Yb+Nop0m1zxTzqioNFbevFnYu8kbv9U8tfR6j9jd4jwPwSMNX5BtPP6alrB6F9I8VPDzKzPP1zyjrusM3OjUvGQyUklOi828dAgDOJTzmbzJb9VKl6zJPDNNPWIf8t889c6Qcablqbyby1KztKS1vEjEU55v59i8yB7//ay30TxXOBdSoyCyPMhGdAhLvs68jiGbslF91DwTApk1bijDPDRKst4g58y8ToJUviPKorzK+MnoxM+OPOZv/P3TDLE8Qt+q2AeJzTy0030MrTvbvL5HRQwe/sw8XmEfVZbqtLxYqjBozOHHPGgXrtR93bq8ExGuSLPBzDwFvkuIrpWzPDH5swGDMsW8mpIzDudOsTw/tCwbl0PIvNrU06ZGYas8D6N8OBLX0jwnBYhK+UjmvPIvhyRI7Kw8Cm7KQZOh3TwjO4uvshbMPHPYC2QTut08tN7EWTEpzTwKyLBRhxnTvKfC+Jzdeqi8uPsID/fX07w4aIWuyQ7JvOnbg5foh8U8\"},\"shape\":[117],\"dtype\":\"float64\",\"order\":\"little\"}],[\"full_name\",{\"type\":\"ndarray\",\"array\":[\"Aaron Smith\",\"Andy Nagy\",\"Anthony Jordan\",\"Ashley Moyer-Gleich\",\"Ben Taylor\",\"Bennett Salvatore\",\"Bennie Adams\",\"Bernie Fryer\",\"Bill Kennedy\",\"Bill Spooner\",\"Blane Reichelt\",\"Bob Delaney\",\"Brandon Adair\",\"Brandon Schwab\",\"Brent Barnaky\",\"Brett Nansel\",\"Brian Forte\",\"CJ Washington\",\"Courtney Kirkland\",\"Curtis Blair\",\"Dan Crawford\",\"Danielle Scott\",\"Dannica Mosher\",\"David Guthrie\",\"David Jones\",\"Dedric Taylor\",\"Derek Richardson\",\"Derrick Collins\",\"Derrick Stafford\",\"Dick Bavetta\",\"Ed Malloy\",\"Eddie Rush\",\"Eli Roe\",\"Eric Dalen\",\"Eric Lewis\",\"Evan Scott\",\"Gary Benson\",\"Gary Zielinski\",\"Gediminas Petraitis\",\"Greg Willard\",\"Haywoode Workman\",\"J.T. Orr\",\"JB DeRosa\",\"Jack Nies\",\"Jacyn Goble\",\"James Capers\",\"James Williams\",\"Jason Goldenberg\",\"Jason Phillips\",\"Jenna Schroeder\",\"Jess Kersey\",\"Jimmy Clark\",\"Joe Crawford\",\"Joe Forte\",\"John Butler\",\"John Conley\",\"John Goble\",\"Jonathan Sterling\",\"Josh Tiven\",\"Justin Van Duyne\",\"Kane Fitzgerald\",\"Karl Lane\",\"Ken Mauer\",\"Kevin Cutler\",\"Kevin Fehr\",\"Kevin Scott\",\"Lauren Holtkamp\",\"Leon Wood\",\"Leroy Richardson\",\"Luis Grillo\",\"Marat Kogut\",\"Marc Davis\",\"Mark Ayotte\",\"Mark Lindsay\",\"Mark Wunderlich\",\"Matt Boland\",\"Matt Kallio\",\"Matt Myers\",\"Michael Henderson\",\"Michael Smith\",\"Mike Callahan\",\"Mitchell Ervin\",\"Monty McCutchen\",\"Mousa Dagher\",\"Natalie Sago\",\"Nate Green\",\"Nick Buchert\",\"Nolan Fine\",\"Olandis Poole\",\"Pat Fraher\",\"Phenizee Ransom\",\"Phil Robinson\",\"Ray Acosta\",\"Robbie Robinson\",\"Robert Hussey\",\"Rodney Mott\",\"Ron Garretson\",\"Ron Olesiak\",\"Scott Foster\",\"Scott Twardoski\",\"Scott Wall\",\"Sean Corbin\",\"Sean Wright\",\"Simone Jelks\",\"Steve Anderson\",\"Steve Javie\",\"Suyash Mehta\",\"Ted Bernhardt\",\"Tim Donaghy\",\"Tom Washington\",\"Tommy Nunez Jr.\",\"Tony Brothers\",\"Tony Brown\",\"Tre Maddox\",\"Tyler Ford\",\"Violet Palmer\",\"Zach Zarba\"],\"shape\":[117],\"dtype\":\"object\",\"order\":\"little\"}]]}}},\"view\":{\"type\":\"object\",\"name\":\"CDSView\",\"id\":\"p1040\",\"attributes\":{\"filter\":{\"type\":\"object\",\"name\":\"AllIndices\",\"id\":\"p1041\"}}},\"glyph\":{\"type\":\"object\",\"name\":\"Circle\",\"id\":\"p1036\",\"attributes\":{\"x\":{\"type\":\"field\",\"field\":\"PC1\"},\"y\":{\"type\":\"field\",\"field\":\"PC2\"},\"size\":{\"type\":\"value\",\"value\":8},\"line_color\":{\"type\":\"value\",\"value\":\"blue\"},\"line_alpha\":{\"type\":\"value\",\"value\":0.6},\"fill_color\":{\"type\":\"value\",\"value\":\"blue\"},\"fill_alpha\":{\"type\":\"value\",\"value\":0.6},\"hatch_color\":{\"type\":\"value\",\"value\":\"blue\"},\"hatch_alpha\":{\"type\":\"value\",\"value\":0.6}}},\"nonselection_glyph\":{\"type\":\"object\",\"name\":\"Circle\",\"id\":\"p1037\",\"attributes\":{\"x\":{\"type\":\"field\",\"field\":\"PC1\"},\"y\":{\"type\":\"field\",\"field\":\"PC2\"},\"size\":{\"type\":\"value\",\"value\":8},\"line_color\":{\"type\":\"value\",\"value\":\"blue\"},\"line_alpha\":{\"type\":\"value\",\"value\":0.1},\"fill_color\":{\"type\":\"value\",\"value\":\"blue\"},\"fill_alpha\":{\"type\":\"value\",\"value\":0.1},\"hatch_color\":{\"type\":\"value\",\"value\":\"blue\"},\"hatch_alpha\":{\"type\":\"value\",\"value\":0.1}}},\"muted_glyph\":{\"type\":\"object\",\"name\":\"Circle\",\"id\":\"p1038\",\"attributes\":{\"x\":{\"type\":\"field\",\"field\":\"PC1\"},\"y\":{\"type\":\"field\",\"field\":\"PC2\"},\"size\":{\"type\":\"value\",\"value\":8},\"line_color\":{\"type\":\"value\",\"value\":\"blue\"},\"line_alpha\":{\"type\":\"value\",\"value\":0.2},\"fill_color\":{\"type\":\"value\",\"value\":\"blue\"},\"fill_alpha\":{\"type\":\"value\",\"value\":0.2},\"hatch_color\":{\"type\":\"value\",\"value\":\"blue\"},\"hatch_alpha\":{\"type\":\"value\",\"value\":0.2}}}}},{\"type\":\"object\",\"name\":\"GlyphRenderer\",\"id\":\"p1049\",\"attributes\":{\"data_source\":{\"type\":\"object\",\"name\":\"ColumnDataSource\",\"id\":\"p1043\",\"attributes\":{\"selected\":{\"type\":\"object\",\"name\":\"Selection\",\"id\":\"p1044\",\"attributes\":{\"indices\":[],\"line_indices\":[]}},\"selection_policy\":{\"type\":\"object\",\"name\":\"UnionRenderers\",\"id\":\"p1045\"},\"data\":{\"type\":\"map\",\"entries\":[[\"x\",[0,0]],[\"y\",[-5.29913105349686,3.90609816789894]]]}}},\"view\":{\"type\":\"object\",\"name\":\"CDSView\",\"id\":\"p1050\",\"attributes\":{\"filter\":{\"type\":\"object\",\"name\":\"AllIndices\",\"id\":\"p1051\"}}},\"glyph\":{\"type\":\"object\",\"name\":\"Line\",\"id\":\"p1046\",\"attributes\":{\"x\":{\"type\":\"field\",\"field\":\"x\"},\"y\":{\"type\":\"field\",\"field\":\"y\"},\"line_width\":2}},\"nonselection_glyph\":{\"type\":\"object\",\"name\":\"Line\",\"id\":\"p1047\",\"attributes\":{\"x\":{\"type\":\"field\",\"field\":\"x\"},\"y\":{\"type\":\"field\",\"field\":\"y\"},\"line_alpha\":0.1,\"line_width\":2}},\"muted_glyph\":{\"type\":\"object\",\"name\":\"Line\",\"id\":\"p1048\",\"attributes\":{\"x\":{\"type\":\"field\",\"field\":\"x\"},\"y\":{\"type\":\"field\",\"field\":\"y\"},\"line_alpha\":0.2,\"line_width\":2}}}},{\"type\":\"object\",\"name\":\"GlyphRenderer\",\"id\":\"p1058\",\"attributes\":{\"data_source\":{\"type\":\"object\",\"name\":\"ColumnDataSource\",\"id\":\"p1052\",\"attributes\":{\"selected\":{\"type\":\"object\",\"name\":\"Selection\",\"id\":\"p1053\",\"attributes\":{\"indices\":[],\"line_indices\":[]}},\"selection_policy\":{\"type\":\"object\",\"name\":\"UnionRenderers\",\"id\":\"p1054\"},\"data\":{\"type\":\"map\",\"entries\":[[\"x\",[-6.70298236128249,5.91582845170615]],[\"y\",[0,0]]]}}},\"view\":{\"type\":\"object\",\"name\":\"CDSView\",\"id\":\"p1059\",\"attributes\":{\"filter\":{\"type\":\"object\",\"name\":\"AllIndices\",\"id\":\"p1060\"}}},\"glyph\":{\"type\":\"object\",\"name\":\"Line\",\"id\":\"p1055\",\"attributes\":{\"x\":{\"type\":\"field\",\"field\":\"x\"},\"y\":{\"type\":\"field\",\"field\":\"y\"},\"line_width\":2}},\"nonselection_glyph\":{\"type\":\"object\",\"name\":\"Line\",\"id\":\"p1056\",\"attributes\":{\"x\":{\"type\":\"field\",\"field\":\"x\"},\"y\":{\"type\":\"field\",\"field\":\"y\"},\"line_alpha\":0.1,\"line_width\":2}},\"muted_glyph\":{\"type\":\"object\",\"name\":\"Line\",\"id\":\"p1057\",\"attributes\":{\"x\":{\"type\":\"field\",\"field\":\"x\"},\"y\":{\"type\":\"field\",\"field\":\"y\"},\"line_alpha\":0.2,\"line_width\":2}}}}],\"toolbar\":{\"type\":\"object\",\"name\":\"Toolbar\",\"id\":\"p1013\",\"attributes\":{\"tools\":[{\"type\":\"object\",\"name\":\"PanTool\",\"id\":\"p1026\"},{\"type\":\"object\",\"name\":\"WheelZoomTool\",\"id\":\"p1027\"},{\"type\":\"object\",\"name\":\"BoxZoomTool\",\"id\":\"p1028\",\"attributes\":{\"overlay\":{\"type\":\"object\",\"name\":\"BoxAnnotation\",\"id\":\"p1029\",\"attributes\":{\"syncable\":false,\"level\":\"overlay\",\"visible\":false,\"left_units\":\"canvas\",\"right_units\":\"canvas\",\"bottom_units\":\"canvas\",\"top_units\":\"canvas\",\"line_color\":\"black\",\"line_alpha\":1.0,\"line_width\":2,\"line_dash\":[4,4],\"fill_color\":\"lightgrey\",\"fill_alpha\":0.5}}}},{\"type\":\"object\",\"name\":\"SaveTool\",\"id\":\"p1030\"},{\"type\":\"object\",\"name\":\"ResetTool\",\"id\":\"p1031\"},{\"type\":\"object\",\"name\":\"HelpTool\",\"id\":\"p1032\"},{\"type\":\"object\",\"name\":\"HoverTool\",\"id\":\"p1042\",\"attributes\":{\"renderers\":\"auto\",\"tooltips\":[[\"Referee\",\"@full_name\"],[\"PC1\",\"@PC1\"],[\"PC2\",\"@PC2\"]]}}]}},\"left\":[{\"type\":\"object\",\"name\":\"LinearAxis\",\"id\":\"p1021\",\"attributes\":{\"ticker\":{\"type\":\"object\",\"name\":\"BasicTicker\",\"id\":\"p1022\",\"attributes\":{\"mantissas\":[1,2,5]}},\"formatter\":{\"type\":\"object\",\"name\":\"BasicTickFormatter\",\"id\":\"p1023\"},\"axis_label\":\"PC2\",\"axis_label_text_font_size\":\"14pt\",\"major_label_policy\":{\"type\":\"object\",\"name\":\"AllLabels\",\"id\":\"p1024\"},\"major_label_text_font_size\":\"12pt\",\"axis_line_width\":2}}],\"below\":[{\"type\":\"object\",\"name\":\"LinearAxis\",\"id\":\"p1016\",\"attributes\":{\"ticker\":{\"type\":\"object\",\"name\":\"BasicTicker\",\"id\":\"p1017\",\"attributes\":{\"mantissas\":[1,2,5]}},\"formatter\":{\"type\":\"object\",\"name\":\"BasicTickFormatter\",\"id\":\"p1018\"},\"axis_label\":\"PC1\",\"axis_label_text_font_size\":\"14pt\",\"major_label_policy\":{\"type\":\"object\",\"name\":\"AllLabels\",\"id\":\"p1019\"},\"major_label_text_font_size\":\"12pt\",\"axis_line_width\":2}}],\"center\":[{\"type\":\"object\",\"name\":\"Grid\",\"id\":\"p1020\",\"attributes\":{\"axis\":{\"id\":\"p1016\"},\"grid_line_color\":null}},{\"type\":\"object\",\"name\":\"Grid\",\"id\":\"p1025\",\"attributes\":{\"dimension\":1,\"axis\":{\"id\":\"p1021\"},\"grid_line_color\":null}}]}}]}};\n  const render_items = [{\"docid\":\"83dc3c83-65ad-4b58-83e8-bffe84e5ac1e\",\"roots\":{\"p1004\":\"d7222e2d-6ca3-4cc8-a9da-94625571a38c\"},\"root_ids\":[\"p1004\"]}];\n  root.Bokeh.embed.embed_items_notebook(docs_json, render_items);\n  }\n  if (root.Bokeh !== undefined) {\n    embed_document(root);\n  } else {\n    let attempts = 0;\n    const timer = setInterval(function(root) {\n      if (root.Bokeh !== undefined) {\n        clearInterval(timer);\n        embed_document(root);\n      } else {\n        attempts++;\n        if (attempts > 100) {\n          clearInterval(timer);\n          console.log(\"Bokeh: ERROR: Unable to run BokehJS code because BokehJS library is missing\");\n        }\n      }\n    }, 10, root)\n  }\n})(window);",
      "application/vnd.bokehjs_exec.v0+json": ""
     },
     "metadata": {
      "application/vnd.bokehjs_exec.v0+json": {
       "id": "p1004"
      }
     },
     "output_type": "display_data"
    }
   ],
   "source": [
    "# Make Bokeh display charts in the notebook\n",
    "output_notebook()\n",
    "\n",
    "# Convert the dataframe to a ColumnDataSource for Bokeh\n",
    "source = ColumnDataSource(pca_results)\n",
    "\n",
    "# Create a new figure\n",
    "p = figure(width=800, height=600,\n",
    "           title=\"PCA Results: PC1 vs PC2\",\n",
    "           x_axis_label=\"PC1\",\n",
    "           y_axis_label=\"PC2\")\n",
    "\n",
    "# Add a scatter plot to the figure\n",
    "p.circle(x=\"PC1\", y=\"PC2\", size=8, color=\"blue\", alpha=0.6, source=source)\n",
    "\n",
    "# Customize hover tool\n",
    "hover = HoverTool()\n",
    "hover.tooltips = [(\"Referee\", \"@full_name\"),\n",
    "                  (\"PC1\", \"@PC1\"),\n",
    "                  (\"PC2\", \"@PC2\")]\n",
    "p.add_tools(hover)\n",
    "\n",
    "# Draw lines on the plot at x=0 and y=0\n",
    "min_value_x, max_value_x = min(pca_results[\"PC1\"]), max(pca_results[\"PC1\"])\n",
    "min_value_y, max_value_y = min(pca_results[\"PC2\"]), max(pca_results[\"PC2\"])\n",
    "\n",
    "p.line([0, 0], [min_value_y, max_value_y], line_width=2, color=\"black\")  # Line for y=0\n",
    "p.line([min_value_x, max_value_x], [0, 0], line_width=2, color=\"black\")  # Line for x=0\n",
    "\n",
    "# Adjust fonts and styles for a more polished look\n",
    "p.title.text_font_size = '16pt'\n",
    "p.xaxis.axis_label_text_font_size = \"14pt\"\n",
    "p.yaxis.axis_label_text_font_size = \"14pt\"\n",
    "p.xaxis.major_label_text_font_size = \"12pt\"\n",
    "p.yaxis.major_label_text_font_size = \"12pt\"\n",
    "\n",
    "# Adjust the figure for darker axes lines\n",
    "p.xgrid.grid_line_color = None\n",
    "p.ygrid.grid_line_color = None\n",
    "\n",
    "# Make axes lines darker\n",
    "p.xaxis.axis_line_width = 2\n",
    "p.yaxis.axis_line_width = 2\n",
    "\n",
    "# Display the figure\n",
    "show(p)"
   ],
   "metadata": {
    "collapsed": false,
    "ExecuteTime": {
     "end_time": "2023-09-05T16:38:02.176687Z",
     "start_time": "2023-09-05T16:38:02.071705Z"
    }
   }
  },
  {
   "cell_type": "code",
   "execution_count": 53,
   "outputs": [
    {
     "data": {
      "text/plain": "['a', 'b', 'c', ' ', '1', '2', '3']"
     },
     "execution_count": 53,
     "metadata": {},
     "output_type": "execute_result"
    }
   ],
   "source": [
    "s = 'abc 123'\n",
    "t = list(s)\n",
    "t"
   ],
   "metadata": {
    "collapsed": false,
    "ExecuteTime": {
     "end_time": "2023-09-05T16:38:02.177339Z",
     "start_time": "2023-09-05T16:38:02.136005Z"
    }
   }
  }
 ],
 "metadata": {
  "kernelspec": {
   "display_name": "Python 3 (ipykernel)",
   "language": "python",
   "name": "python3"
  },
  "language_info": {
   "codemirror_mode": {
    "name": "ipython",
    "version": 3
   },
   "file_extension": ".py",
   "mimetype": "text/x-python",
   "name": "python",
   "nbconvert_exporter": "python",
   "pygments_lexer": "ipython3",
   "version": "3.11.3"
  }
 },
 "nbformat": 4,
 "nbformat_minor": 1
}
