{
 "cells": [
  {
   "cell_type": "code",
   "execution_count": 5,
   "id": "initial_id",
   "metadata": {
    "collapsed": true,
    "ExecuteTime": {
     "end_time": "2023-09-17T20:06:26.513526Z",
     "start_time": "2023-09-17T20:06:26.511708Z"
    }
   },
   "outputs": [],
   "source": [
    "import pandas as pd"
   ]
  },
  {
   "cell_type": "code",
   "execution_count": 6,
   "outputs": [],
   "source": [
    "# Load the data including more metrics: blocks, steals, 3p%, etc. for each referee\n",
    "data = pd.read_csv('stats.csv')\n",
    "\n",
    "# List of columns that contain statistics\n",
    "stats_columns = ['fgm', 'fg_pct', 'fg3m', 'fg3_pct', 'ftm', 'ft_pct', 'oreb', 'dreb', 'reb', 'ast', 'stl', 'blk', 'tov',\n",
    "                 'pf', 'pts']\n",
    "\n",
    "# Group by referee and aggregate the original data\n",
    "aggregated_raw_data = data.groupby(['first_name', 'last_name', 'official_id']).agg(\n",
    "    {**{col: 'mean' for col in stats_columns}, 'game_date': 'count'}).reset_index()\n",
    "aggregated_raw_data = aggregated_raw_data.rename(columns={'game_date': 'num_games'})\n",
    "# Normalize the aggregated data\n",
    "aggregated_raw_data[stats_columns] = (aggregated_raw_data[stats_columns] - aggregated_raw_data[stats_columns].mean()) / \\\n",
    "                                     aggregated_raw_data[stats_columns].std()\n",
    "\n",
    "# Create a dataframe for means and standard deviations\n",
    "means = data[stats_columns].mean()\n",
    "stds = data[stats_columns].std()\n",
    "mean_std_df = pd.DataFrame({\n",
    "    'first_name': ['MEAN', 'STD_DEV'],\n",
    "    'last_name': ['', ''],\n",
    "    'official_id': ['', ''],\n",
    "    **{col: [means[col], stds[col]] for col in stats_columns},\n",
    "    'num_games': ['', '']\n",
    "})\n",
    "\n",
    "# Concatenate the mean_std_df with the aggregated raw data to create the final table\n",
    "final_table_corrected = pd.concat([mean_std_df, aggregated_raw_data], ignore_index=True)\n",
    "\n",
    "# Split the dataframe\n",
    "top_rows = final_table_corrected.iloc[:2]\n",
    "remaining_rows = final_table_corrected.iloc[2:]\n",
    "\n",
    "sorted_remaining_rows = remaining_rows.sort_values(by='num_games', ascending=False).reset_index(drop=True)\n",
    "\n",
    "final_table_sorted = pd.concat([top_rows, sorted_remaining_rows], ignore_index=True)\n",
    "\n",
    "#Create dataset for PCA analysis in R\n",
    "PCA = remaining_rows[remaining_rows['num_games'] > 100]\n",
    "PCA.to_csv('Outputs/PCA.csv')"
   ],
   "metadata": {
    "collapsed": false,
    "ExecuteTime": {
     "end_time": "2023-09-17T20:06:26.746856Z",
     "start_time": "2023-09-17T20:06:26.524531Z"
    }
   },
   "id": "478acfae2104f99c"
  }
 ],
 "metadata": {
  "kernelspec": {
   "display_name": "Python 3",
   "language": "python",
   "name": "python3"
  },
  "language_info": {
   "codemirror_mode": {
    "name": "ipython",
    "version": 2
   },
   "file_extension": ".py",
   "mimetype": "text/x-python",
   "name": "python",
   "nbconvert_exporter": "python",
   "pygments_lexer": "ipython2",
   "version": "2.7.6"
  }
 },
 "nbformat": 4,
 "nbformat_minor": 5
}
